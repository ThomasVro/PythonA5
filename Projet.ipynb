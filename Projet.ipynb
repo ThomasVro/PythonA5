{
 "cells": [
  {
   "cell_type": "markdown",
   "metadata": {},
   "source": [
    "# Projet - Python for Data Analysis\n",
    "#### Thomas Vaquero - ESILV A5"
   ]
  },
  {
   "cell_type": "code",
   "execution_count": 37,
   "metadata": {},
   "outputs": [],
   "source": [
    "import numpy as np\n",
    "import pandas as pd\n",
    "import matplotlib.pyplot as plt\n",
    "%matplotlib inline\n",
    "import sklearn \n",
    "from sklearn import tree\n",
    "from sklearn.tree import DecisionTreeClassifier\n",
    "from sklearn.model_selection import train_test_split\n",
    "from sklearn.metrics import classification_report, confusion_matrix\n",
    "from sklearn.ensemble import RandomForestClassifier\n",
    "import seaborn as sn\n",
    "from matplotlib.cm import ScalarMappable\n",
    "from sklearn.model_selection import GridSearchCV\n",
    "from sklearn.calibration import CalibratedClassifierCV\n",
    "from sklearn.datasets import make_moons\n",
    "import warnings\n",
    "from sklearn.datasets import load_digits\n",
    "from sklearn import svm"
   ]
  },
  {
   "cell_type": "code",
   "execution_count": 2,
   "metadata": {},
   "outputs": [],
   "source": [
    "warnings.filterwarnings(\"ignore\")"
   ]
  },
  {
   "cell_type": "markdown",
   "metadata": {},
   "source": [
    "# Classification sans pré-processing"
   ]
  },
  {
   "cell_type": "markdown",
   "metadata": {},
   "source": [
    "#### 1. Lecture du CSV : on importe le fichier X_train et X_test dans deux data frames"
   ]
  },
  {
   "cell_type": "code",
   "execution_count": 3,
   "metadata": {},
   "outputs": [
    {
     "data": {
      "text/html": [
       "<div>\n",
       "<style scoped>\n",
       "    .dataframe tbody tr th:only-of-type {\n",
       "        vertical-align: middle;\n",
       "    }\n",
       "\n",
       "    .dataframe tbody tr th {\n",
       "        vertical-align: top;\n",
       "    }\n",
       "\n",
       "    .dataframe thead th {\n",
       "        text-align: right;\n",
       "    }\n",
       "</style>\n",
       "<table border=\"1\" class=\"dataframe\">\n",
       "  <thead>\n",
       "    <tr style=\"text-align: right;\">\n",
       "      <th></th>\n",
       "      <th>0</th>\n",
       "      <th>1</th>\n",
       "      <th>2</th>\n",
       "      <th>3</th>\n",
       "      <th>4</th>\n",
       "      <th>5</th>\n",
       "      <th>6</th>\n",
       "      <th>7</th>\n",
       "      <th>8</th>\n",
       "      <th>9</th>\n",
       "      <th>...</th>\n",
       "      <th>551</th>\n",
       "      <th>552</th>\n",
       "      <th>553</th>\n",
       "      <th>554</th>\n",
       "      <th>555</th>\n",
       "      <th>556</th>\n",
       "      <th>557</th>\n",
       "      <th>558</th>\n",
       "      <th>559</th>\n",
       "      <th>560</th>\n",
       "    </tr>\n",
       "  </thead>\n",
       "  <tbody>\n",
       "    <tr>\n",
       "      <td>0</td>\n",
       "      <td>0.043580</td>\n",
       "      <td>-0.005970</td>\n",
       "      <td>-0.035054</td>\n",
       "      <td>-0.995381</td>\n",
       "      <td>-0.988366</td>\n",
       "      <td>-0.937382</td>\n",
       "      <td>-0.995007</td>\n",
       "      <td>-0.988816</td>\n",
       "      <td>-0.953325</td>\n",
       "      <td>-0.794796</td>\n",
       "      <td>...</td>\n",
       "      <td>-0.012236</td>\n",
       "      <td>-0.314848</td>\n",
       "      <td>-0.713308</td>\n",
       "      <td>-0.112754</td>\n",
       "      <td>0.030400</td>\n",
       "      <td>-0.464761</td>\n",
       "      <td>-0.018446</td>\n",
       "      <td>-0.841559</td>\n",
       "      <td>0.179913</td>\n",
       "      <td>-0.051718</td>\n",
       "    </tr>\n",
       "    <tr>\n",
       "      <td>1</td>\n",
       "      <td>0.039480</td>\n",
       "      <td>-0.002131</td>\n",
       "      <td>-0.029067</td>\n",
       "      <td>-0.998348</td>\n",
       "      <td>-0.982945</td>\n",
       "      <td>-0.971273</td>\n",
       "      <td>-0.998702</td>\n",
       "      <td>-0.983315</td>\n",
       "      <td>-0.974000</td>\n",
       "      <td>-0.802537</td>\n",
       "      <td>...</td>\n",
       "      <td>0.202804</td>\n",
       "      <td>-0.603199</td>\n",
       "      <td>-0.860677</td>\n",
       "      <td>0.053477</td>\n",
       "      <td>-0.007435</td>\n",
       "      <td>-0.732626</td>\n",
       "      <td>0.703511</td>\n",
       "      <td>-0.845092</td>\n",
       "      <td>0.180261</td>\n",
       "      <td>-0.047436</td>\n",
       "    </tr>\n",
       "    <tr>\n",
       "      <td>2</td>\n",
       "      <td>0.039978</td>\n",
       "      <td>-0.005153</td>\n",
       "      <td>-0.022651</td>\n",
       "      <td>-0.995482</td>\n",
       "      <td>-0.977314</td>\n",
       "      <td>-0.984760</td>\n",
       "      <td>-0.996415</td>\n",
       "      <td>-0.975835</td>\n",
       "      <td>-0.985973</td>\n",
       "      <td>-0.798477</td>\n",
       "      <td>...</td>\n",
       "      <td>0.440079</td>\n",
       "      <td>-0.404427</td>\n",
       "      <td>-0.761847</td>\n",
       "      <td>-0.118559</td>\n",
       "      <td>0.177899</td>\n",
       "      <td>0.100699</td>\n",
       "      <td>0.808529</td>\n",
       "      <td>-0.849230</td>\n",
       "      <td>0.180610</td>\n",
       "      <td>-0.042271</td>\n",
       "    </tr>\n",
       "    <tr>\n",
       "      <td>3</td>\n",
       "      <td>0.039785</td>\n",
       "      <td>-0.011809</td>\n",
       "      <td>-0.028916</td>\n",
       "      <td>-0.996194</td>\n",
       "      <td>-0.988569</td>\n",
       "      <td>-0.993256</td>\n",
       "      <td>-0.996994</td>\n",
       "      <td>-0.988526</td>\n",
       "      <td>-0.993135</td>\n",
       "      <td>-0.798477</td>\n",
       "      <td>...</td>\n",
       "      <td>0.430891</td>\n",
       "      <td>-0.138373</td>\n",
       "      <td>-0.491604</td>\n",
       "      <td>-0.036788</td>\n",
       "      <td>-0.012892</td>\n",
       "      <td>0.640011</td>\n",
       "      <td>-0.485366</td>\n",
       "      <td>-0.848947</td>\n",
       "      <td>0.181907</td>\n",
       "      <td>-0.040826</td>\n",
       "    </tr>\n",
       "    <tr>\n",
       "      <td>4</td>\n",
       "      <td>0.038758</td>\n",
       "      <td>-0.002289</td>\n",
       "      <td>-0.023863</td>\n",
       "      <td>-0.998241</td>\n",
       "      <td>-0.986774</td>\n",
       "      <td>-0.993115</td>\n",
       "      <td>-0.998216</td>\n",
       "      <td>-0.986479</td>\n",
       "      <td>-0.993825</td>\n",
       "      <td>-0.801982</td>\n",
       "      <td>...</td>\n",
       "      <td>0.137735</td>\n",
       "      <td>-0.366214</td>\n",
       "      <td>-0.702490</td>\n",
       "      <td>0.123320</td>\n",
       "      <td>0.122542</td>\n",
       "      <td>0.693578</td>\n",
       "      <td>-0.615971</td>\n",
       "      <td>-0.848164</td>\n",
       "      <td>0.185124</td>\n",
       "      <td>-0.037080</td>\n",
       "    </tr>\n",
       "    <tr>\n",
       "      <td>5</td>\n",
       "      <td>0.038988</td>\n",
       "      <td>0.004109</td>\n",
       "      <td>-0.017340</td>\n",
       "      <td>-0.997438</td>\n",
       "      <td>-0.993485</td>\n",
       "      <td>-0.996692</td>\n",
       "      <td>-0.997522</td>\n",
       "      <td>-0.993494</td>\n",
       "      <td>-0.996916</td>\n",
       "      <td>-0.801982</td>\n",
       "      <td>...</td>\n",
       "      <td>0.074999</td>\n",
       "      <td>-0.554902</td>\n",
       "      <td>-0.844224</td>\n",
       "      <td>0.082632</td>\n",
       "      <td>-0.143439</td>\n",
       "      <td>0.275041</td>\n",
       "      <td>-0.368224</td>\n",
       "      <td>-0.849927</td>\n",
       "      <td>0.184795</td>\n",
       "      <td>-0.035326</td>\n",
       "    </tr>\n",
       "  </tbody>\n",
       "</table>\n",
       "<p>6 rows × 561 columns</p>\n",
       "</div>"
      ],
      "text/plain": [
       "        0         1         2         3         4         5         6    \\\n",
       "0  0.043580 -0.005970 -0.035054 -0.995381 -0.988366 -0.937382 -0.995007   \n",
       "1  0.039480 -0.002131 -0.029067 -0.998348 -0.982945 -0.971273 -0.998702   \n",
       "2  0.039978 -0.005153 -0.022651 -0.995482 -0.977314 -0.984760 -0.996415   \n",
       "3  0.039785 -0.011809 -0.028916 -0.996194 -0.988569 -0.993256 -0.996994   \n",
       "4  0.038758 -0.002289 -0.023863 -0.998241 -0.986774 -0.993115 -0.998216   \n",
       "5  0.038988  0.004109 -0.017340 -0.997438 -0.993485 -0.996692 -0.997522   \n",
       "\n",
       "        7         8         9    ...       551       552       553       554  \\\n",
       "0 -0.988816 -0.953325 -0.794796  ... -0.012236 -0.314848 -0.713308 -0.112754   \n",
       "1 -0.983315 -0.974000 -0.802537  ...  0.202804 -0.603199 -0.860677  0.053477   \n",
       "2 -0.975835 -0.985973 -0.798477  ...  0.440079 -0.404427 -0.761847 -0.118559   \n",
       "3 -0.988526 -0.993135 -0.798477  ...  0.430891 -0.138373 -0.491604 -0.036788   \n",
       "4 -0.986479 -0.993825 -0.801982  ...  0.137735 -0.366214 -0.702490  0.123320   \n",
       "5 -0.993494 -0.996916 -0.801982  ...  0.074999 -0.554902 -0.844224  0.082632   \n",
       "\n",
       "        555       556       557       558       559       560  \n",
       "0  0.030400 -0.464761 -0.018446 -0.841559  0.179913 -0.051718  \n",
       "1 -0.007435 -0.732626  0.703511 -0.845092  0.180261 -0.047436  \n",
       "2  0.177899  0.100699  0.808529 -0.849230  0.180610 -0.042271  \n",
       "3 -0.012892  0.640011 -0.485366 -0.848947  0.181907 -0.040826  \n",
       "4  0.122542  0.693578 -0.615971 -0.848164  0.185124 -0.037080  \n",
       "5 -0.143439  0.275041 -0.368224 -0.849927  0.184795 -0.035326  \n",
       "\n",
       "[6 rows x 561 columns]"
      ]
     },
     "execution_count": 3,
     "metadata": {},
     "output_type": "execute_result"
    }
   ],
   "source": [
    "df_train = pd.read_csv('Train/X_train.txt', sep = \" \", header = None)\n",
    "df_train.head(6)\n"
   ]
  },
  {
   "cell_type": "code",
   "execution_count": 4,
   "metadata": {},
   "outputs": [],
   "source": [
    "all_scores = []\n",
    "names = ['ClassifierTree', 'RandomForest', 'LSVM']\n"
   ]
  },
  {
   "cell_type": "code",
   "execution_count": 5,
   "metadata": {},
   "outputs": [
    {
     "data": {
      "text/plain": [
       "<function TextIOWrapper.close()>"
      ]
     },
     "execution_count": 5,
     "metadata": {},
     "output_type": "execute_result"
    }
   ],
   "source": [
    "f = open('Train/y_train.txt', 'r')\n",
    "y_train_file = f.readlines() #on met le contenu de y_train dans y_train_file\n",
    "f.close"
   ]
  },
  {
   "cell_type": "code",
   "execution_count": 6,
   "metadata": {},
   "outputs": [
    {
     "data": {
      "text/html": [
       "<div>\n",
       "<style scoped>\n",
       "    .dataframe tbody tr th:only-of-type {\n",
       "        vertical-align: middle;\n",
       "    }\n",
       "\n",
       "    .dataframe tbody tr th {\n",
       "        vertical-align: top;\n",
       "    }\n",
       "\n",
       "    .dataframe thead th {\n",
       "        text-align: right;\n",
       "    }\n",
       "</style>\n",
       "<table border=\"1\" class=\"dataframe\">\n",
       "  <thead>\n",
       "    <tr style=\"text-align: right;\">\n",
       "      <th></th>\n",
       "      <th>0</th>\n",
       "      <th>1</th>\n",
       "      <th>2</th>\n",
       "      <th>3</th>\n",
       "      <th>4</th>\n",
       "      <th>5</th>\n",
       "      <th>6</th>\n",
       "      <th>7</th>\n",
       "      <th>8</th>\n",
       "      <th>9</th>\n",
       "      <th>...</th>\n",
       "      <th>552</th>\n",
       "      <th>553</th>\n",
       "      <th>554</th>\n",
       "      <th>555</th>\n",
       "      <th>556</th>\n",
       "      <th>557</th>\n",
       "      <th>558</th>\n",
       "      <th>559</th>\n",
       "      <th>560</th>\n",
       "      <th>Class</th>\n",
       "    </tr>\n",
       "  </thead>\n",
       "  <tbody>\n",
       "    <tr>\n",
       "      <td>0</td>\n",
       "      <td>0.04358</td>\n",
       "      <td>-0.005970</td>\n",
       "      <td>-0.035054</td>\n",
       "      <td>-0.995381</td>\n",
       "      <td>-0.988366</td>\n",
       "      <td>-0.937382</td>\n",
       "      <td>-0.995007</td>\n",
       "      <td>-0.988816</td>\n",
       "      <td>-0.953325</td>\n",
       "      <td>-0.794796</td>\n",
       "      <td>...</td>\n",
       "      <td>-0.314848</td>\n",
       "      <td>-0.713308</td>\n",
       "      <td>-0.112754</td>\n",
       "      <td>0.030400</td>\n",
       "      <td>-0.464761</td>\n",
       "      <td>-0.018446</td>\n",
       "      <td>-0.841559</td>\n",
       "      <td>0.179913</td>\n",
       "      <td>-0.051718</td>\n",
       "      <td>5</td>\n",
       "    </tr>\n",
       "    <tr>\n",
       "      <td>1</td>\n",
       "      <td>0.03948</td>\n",
       "      <td>-0.002131</td>\n",
       "      <td>-0.029067</td>\n",
       "      <td>-0.998348</td>\n",
       "      <td>-0.982945</td>\n",
       "      <td>-0.971273</td>\n",
       "      <td>-0.998702</td>\n",
       "      <td>-0.983315</td>\n",
       "      <td>-0.974000</td>\n",
       "      <td>-0.802537</td>\n",
       "      <td>...</td>\n",
       "      <td>-0.603199</td>\n",
       "      <td>-0.860677</td>\n",
       "      <td>0.053477</td>\n",
       "      <td>-0.007435</td>\n",
       "      <td>-0.732626</td>\n",
       "      <td>0.703511</td>\n",
       "      <td>-0.845092</td>\n",
       "      <td>0.180261</td>\n",
       "      <td>-0.047436</td>\n",
       "      <td>5</td>\n",
       "    </tr>\n",
       "  </tbody>\n",
       "</table>\n",
       "<p>2 rows × 562 columns</p>\n",
       "</div>"
      ],
      "text/plain": [
       "         0         1         2         3         4         5         6  \\\n",
       "0  0.04358 -0.005970 -0.035054 -0.995381 -0.988366 -0.937382 -0.995007   \n",
       "1  0.03948 -0.002131 -0.029067 -0.998348 -0.982945 -0.971273 -0.998702   \n",
       "\n",
       "          7         8         9  ...       552       553       554       555  \\\n",
       "0 -0.988816 -0.953325 -0.794796  ... -0.314848 -0.713308 -0.112754  0.030400   \n",
       "1 -0.983315 -0.974000 -0.802537  ... -0.603199 -0.860677  0.053477 -0.007435   \n",
       "\n",
       "        556       557       558       559       560  Class  \n",
       "0 -0.464761 -0.018446 -0.841559  0.179913 -0.051718      5  \n",
       "1 -0.732626  0.703511 -0.845092  0.180261 -0.047436      5  \n",
       "\n",
       "[2 rows x 562 columns]"
      ]
     },
     "execution_count": 6,
     "metadata": {},
     "output_type": "execute_result"
    }
   ],
   "source": [
    "classification = list(map(lambda x:x.strip(), y_train_file))\n",
    "df_train['Class'] = classification #on ajoute une colonne à notre dataframe \n",
    "df_train.head(2) #on vérifie l'ajout "
   ]
  },
  {
   "cell_type": "code",
   "execution_count": 7,
   "metadata": {
    "scrolled": true
   },
   "outputs": [
    {
     "data": {
      "text/plain": [
       "(3162, 562)"
      ]
     },
     "execution_count": 7,
     "metadata": {},
     "output_type": "execute_result"
    }
   ],
   "source": [
    "df_test = pd.read_csv('Test/X_test.txt', sep = \" \", header = None)\n",
    "f = open('Test/y_test.txt', 'r')\n",
    "X_test_file = f.readlines() #on met le contenu de X_test dans X_test_file\n",
    "f.close\n",
    "classification = list(map(lambda x:x.strip(), X_test_file))\n",
    "df_test['Class'] = classification #on ajoute une colonne à notre dataframe \n",
    "df_test.head(2) #on vérifie l'ajout \n",
    "df_test.shape"
   ]
  },
  {
   "cell_type": "markdown",
   "metadata": {},
   "source": [
    "#### 2. Elaboration des modèles de classification sans pré-processing\n",
    "#### On effectue successivement: \n",
    "   #### - Un Decision Tree\n",
    "   #### - Un Random Forest\n",
    "   #### - Un Linear SVM"
   ]
  },
  {
   "cell_type": "code",
   "execution_count": 8,
   "metadata": {},
   "outputs": [],
   "source": [
    "x_train = df_train.drop('Class', axis = 1)\n",
    "y_train = df_train['Class']\n",
    "x_test = df_test.drop('Class', axis = 1)\n",
    "y_test = df_test['Class']\n",
    "\n"
   ]
  },
  {
   "cell_type": "code",
   "execution_count": 9,
   "metadata": {},
   "outputs": [
    {
     "data": {
      "text/plain": [
       "DecisionTreeClassifier(class_weight=None, criterion='gini', max_depth=None,\n",
       "                       max_features=None, max_leaf_nodes=None,\n",
       "                       min_impurity_decrease=0.0, min_impurity_split=None,\n",
       "                       min_samples_leaf=1, min_samples_split=2,\n",
       "                       min_weight_fraction_leaf=0.0, presort=False,\n",
       "                       random_state=None, splitter='best')"
      ]
     },
     "execution_count": 9,
     "metadata": {},
     "output_type": "execute_result"
    }
   ],
   "source": [
    "classifier = DecisionTreeClassifier()\n",
    "classifier.fit(x_train, y_train)"
   ]
  },
  {
   "cell_type": "code",
   "execution_count": 10,
   "metadata": {},
   "outputs": [],
   "source": [
    "y_hat = classifier.predict(x_test)\n",
    "score_tree = classifier.score(x_test, y_test)\n",
    "all_scores.append(score_tree)\n"
   ]
  },
  {
   "cell_type": "code",
   "execution_count": 11,
   "metadata": {},
   "outputs": [
    {
     "name": "stdout",
     "output_type": "stream",
     "text": [
      "              precision    recall  f1-score   support\n",
      "\n",
      "           1       0.80      0.76      0.78       496\n",
      "          10       0.50      0.52      0.51        25\n",
      "          11       0.66      0.59      0.62        49\n",
      "          12       0.52      0.41      0.46        27\n",
      "           2       0.65      0.77      0.71       471\n",
      "           3       0.83      0.72      0.77       420\n",
      "           4       0.81      0.80      0.81       508\n",
      "           5       0.82      0.84      0.83       556\n",
      "           6       1.00      0.99      0.99       545\n",
      "           7       0.60      0.78      0.68        23\n",
      "           8       0.89      0.80      0.84        10\n",
      "           9       0.58      0.59      0.58        32\n",
      "\n",
      "    accuracy                           0.81      3162\n",
      "   macro avg       0.72      0.71      0.72      3162\n",
      "weighted avg       0.81      0.81      0.81      3162\n",
      "\n",
      "0.808032890575585\n"
     ]
    }
   ],
   "source": [
    "print(classification_report(y_test, y_hat))\n",
    "print(score_tree)"
   ]
  },
  {
   "cell_type": "code",
   "execution_count": 12,
   "metadata": {},
   "outputs": [
    {
     "data": {
      "image/png": "[encoded data removed]",
      "text/plain": [
       "<Figure size 432x288 with 1 Axes>"
      ]
     },
     "metadata": {
      "needs_background": "light"
     },
     "output_type": "display_data"
    }
   ],
   "source": [
    "sn.heatmap(confusion_matrix(y_test, y_hat),annot=True,cmap = plt.cm.Blues, cbar=False, fmt = 'g') \n",
    "plt.show()"
   ]
  },
  {
   "cell_type": "code",
   "execution_count": 38,
   "metadata": {},
   "outputs": [
    {
     "data": {
      "text/plain": [
       "[Text(88.61375549963839, 212.71304347826086, 'X[49] <= 0.092\\ngini = 0.845\\nsamples = 7767\\nvalue = [1226, 60, 90, 57, 1073, 987, 1293, 1423, 1413, 47\\n23, 75]'),\n",
       " Text(16.41765007232401, 203.2591304347826, 'X[9] <= -0.239\\ngini = 0.022\\nsamples = 1412\\nvalue = [0, 7, 0, 9, 0, 0, 0, 0, 1396, 0, 0, 0]'),\n",
       " Text(13.834814971070397, 193.80521739130435, 'X[116] <= 0.883\\ngini = 0.001\\nsamples = 1397\\nvalue = [0, 0, 0, 1, 0, 0, 0, 0, 1396, 0, 0, 0]'),\n",
       " Text(12.543397420443588, 184.3513043478261, 'gini = 0.0\\nsamples = 1396\\nvalue = [0, 0, 0, 0, 0, 0, 0, 0, 1396, 0, 0, 0]'),\n",
       " Text(15.126232521697204, 184.3513043478261, 'gini = 0.0\\nsamples = 1\\nvalue = [0, 0, 0, 1, 0, 0, 0, 0, 0, 0, 0, 0]'),\n",
       " Text(19.00048517357763, 193.80521739130435, 'X[379] <= -0.491\\ngini = 0.498\\nsamples = 15\\nvalue = [0, 7, 0, 8, 0, 0, 0, 0, 0, 0, 0, 0]'),\n",
       " Text(17.709067622950823, 184.3513043478261, 'gini = 0.0\\nsamples = 8\\nvalue = [0, 0, 0, 8, 0, 0, 0, 0, 0, 0, 0, 0]'),\n",
       " Text(20.291902724204437, 184.3513043478261, 'gini = 0.0\\nsamples = 7\\nvalue = [0, 7, 0, 0, 0, 0, 0, 0, 0, 0, 0, 0]'),\n",
       " Text(160.80986092695275, 203.2591304347826, 'X[3] <= -0.759\\ngini = 0.818\\nsamples = 6355\\nvalue = [1226, 53, 90, 48, 1073, 987, 1293, 1423, 17, 47\\n23, 75]'),\n",
       " Text(63.638887716972036, 193.80521739130435, 'X[559] <= 0.14\\ngini = 0.502\\nsamples = 2718\\nvalue = [0, 0, 4, 0, 0, 0, 1285, 1423, 2, 1, 0, 3]'),\n",
       " Text(22.874737825458055, 184.3513043478261, 'X[57] <= -1.0\\ngini = 0.244\\nsamples = 1366\\nvalue = [0, 0, 1, 0, 0, 0, 1173, 187, 2, 0, 0, 3]'),\n",
       " Text(5.165670202507233, 174.89739130434782, 'X[42] <= 0.063\\ngini = 0.455\\nsamples = 97\\nvalue = [0, 0, 0, 0, 0, 0, 34, 63, 0, 0, 0, 0]'),\n",
       " Text(2.5828351012536164, 165.44347826086957, 'X[58] <= -0.902\\ngini = 0.083\\nsamples = 46\\nvalue = [0, 0, 0, 0, 0, 0, 2, 44, 0, 0, 0, 0]'),\n",
       " Text(1.2914175506268082, 155.98956521739132, 'gini = 0.0\\nsamples = 44\\nvalue = [0, 0, 0, 0, 0, 0, 0, 44, 0, 0, 0, 0]'),\n",
       " Text(3.8742526518804246, 155.98956521739132, 'gini = 0.0\\nsamples = 2\\nvalue = [0, 0, 0, 0, 0, 0, 2, 0, 0, 0, 0, 0]'),\n",
       " Text(7.748505303760849, 165.44347826086957, 'X[136] <= -1.0\\ngini = 0.468\\nsamples = 51\\nvalue = [0, 0, 0, 0, 0, 0, 32, 19, 0, 0, 0, 0]'),\n",
       " Text(6.457087753134041, 155.98956521739132, 'gini = 0.0\\nsamples = 30\\nvalue = [0, 0, 0, 0, 0, 0, 30, 0, 0, 0, 0, 0]'),\n",
       " Text(9.039922854387658, 155.98956521739132, 'X[318] <= -1.0\\ngini = 0.172\\nsamples = 21\\nvalue = [0, 0, 0, 0, 0, 0, 2, 19, 0, 0, 0, 0]'),\n",
       " Text(7.748505303760849, 146.53565217391304, 'gini = 0.0\\nsamples = 2\\nvalue = [0, 0, 0, 0, 0, 0, 2, 0, 0, 0, 0, 0]'),\n",
       " Text(10.331340405014465, 146.53565217391304, 'gini = 0.0\\nsamples = 19\\nvalue = [0, 0, 0, 0, 0, 0, 0, 19, 0, 0, 0, 0]'),\n",
       " Text(40.583805448408874, 174.89739130434782, 'X[451] <= -0.256\\ngini = 0.185\\nsamples = 1269\\nvalue = [0, 0, 1, 0, 0, 0, 1139, 124, 2, 0, 0, 3]'),\n",
       " Text(23.084088717454197, 165.44347826086957, 'X[50] <= 0.048\\ngini = 0.521\\nsamples = 124\\nvalue = [0, 0, 0, 0, 0, 0, 65, 56, 1, 0, 0, 2]'),\n",
       " Text(16.465573770491805, 155.98956521739132, 'X[198] <= -0.159\\ngini = 0.439\\nsamples = 77\\nvalue = [0, 0, 0, 0, 0, 0, 25, 52, 0, 0, 0, 0]'),\n",
       " Text(12.914175506268082, 146.53565217391304, 'X[454] <= 0.245\\ngini = 0.408\\nsamples = 21\\nvalue = [0, 0, 0, 0, 0, 0, 15, 6, 0, 0, 0, 0]'),\n",
       " Text(11.622757955641273, 137.08173913043478, 'X[233] <= -0.942\\ngini = 0.117\\nsamples = 16\\nvalue = [0, 0, 0, 0, 0, 0, 15, 1, 0, 0, 0, 0]'),\n",
       " Text(10.331340405014465, 127.62782608695652, 'gini = 0.0\\nsamples = 15\\nvalue = [0, 0, 0, 0, 0, 0, 15, 0, 0, 0, 0, 0]'),\n",
       " Text(12.914175506268082, 127.62782608695652, 'gini = 0.0\\nsamples = 1\\nvalue = [0, 0, 0, 0, 0, 0, 0, 1, 0, 0, 0, 0]'),\n",
       " Text(14.205593056894891, 137.08173913043478, 'gini = 0.0\\nsamples = 5\\nvalue = [0, 0, 0, 0, 0, 0, 0, 5, 0, 0, 0, 0]'),\n",
       " Text(20.016972034715526, 146.53565217391304, 'X[147] <= -0.046\\ngini = 0.293\\nsamples = 56\\nvalue = [0, 0, 0, 0, 0, 0, 10, 46, 0, 0, 0, 0]'),\n",
       " Text(16.788428158148506, 137.08173913043478, 'X[56] <= 0.866\\ngini = 0.408\\nsamples = 7\\nvalue = [0, 0, 0, 0, 0, 0, 5, 2, 0, 0, 0, 0]'),\n",
       " Text(15.497010607521698, 127.62782608695652, 'gini = 0.0\\nsamples = 2\\nvalue = [0, 0, 0, 0, 0, 0, 0, 2, 0, 0, 0, 0]'),\n",
       " Text(18.079845708775316, 127.62782608695652, 'gini = 0.0\\nsamples = 5\\nvalue = [0, 0, 0, 0, 0, 0, 5, 0, 0, 0, 0, 0]'),\n",
       " Text(23.245515911282546, 137.08173913043478, 'X[466] <= -1.0\\ngini = 0.183\\nsamples = 49\\nvalue = [0, 0, 0, 0, 0, 0, 5, 44, 0, 0, 0, 0]'),\n",
       " Text(20.66268081002893, 127.62782608695652, 'X[253] <= -0.996\\ngini = 0.375\\nsamples = 4\\nvalue = [0, 0, 0, 0, 0, 0, 3, 1, 0, 0, 0, 0]'),\n",
       " Text(19.371263259402124, 118.17391304347825, 'gini = 0.0\\nsamples = 1\\nvalue = [0, 0, 0, 0, 0, 0, 0, 1, 0, 0, 0, 0]'),\n",
       " Text(21.95409836065574, 118.17391304347825, 'gini = 0.0\\nsamples = 3\\nvalue = [0, 0, 0, 0, 0, 0, 3, 0, 0, 0, 0, 0]'),\n",
       " Text(25.828351012536164, 127.62782608695652, 'X[251] <= -0.307\\ngini = 0.085\\nsamples = 45\\nvalue = [0, 0, 0, 0, 0, 0, 2, 43, 0, 0, 0, 0]'),\n",
       " Text(24.536933461909356, 118.17391304347825, 'gini = 0.0\\nsamples = 1\\nvalue = [0, 0, 0, 0, 0, 0, 1, 0, 0, 0, 0, 0]'),\n",
       " Text(27.11976856316297, 118.17391304347825, 'X[156] <= -0.377\\ngini = 0.044\\nsamples = 44\\nvalue = [0, 0, 0, 0, 0, 0, 1, 43, 0, 0, 0, 0]'),\n",
       " Text(25.828351012536164, 108.72, 'gini = 0.0\\nsamples = 1\\nvalue = [0, 0, 0, 0, 0, 0, 1, 0, 0, 0, 0, 0]'),\n",
       " Text(28.411186113789782, 108.72, 'gini = 0.0\\nsamples = 43\\nvalue = [0, 0, 0, 0, 0, 0, 0, 43, 0, 0, 0, 0]'),\n",
       " Text(29.70260366441659, 155.98956521739132, 'X[51] <= -0.104\\ngini = 0.266\\nsamples = 47\\nvalue = [0, 0, 0, 0, 0, 0, 40, 4, 1, 0, 0, 2]'),\n",
       " Text(28.411186113789782, 146.53565217391304, 'gini = 0.0\\nsamples = 4\\nvalue = [0, 0, 0, 0, 0, 0, 0, 4, 0, 0, 0, 0]'),\n",
       " Text(30.994021215043396, 146.53565217391304, 'X[221] <= 0.741\\ngini = 0.132\\nsamples = 43\\nvalue = [0, 0, 0, 0, 0, 0, 40, 0, 1, 0, 0, 2]'),\n",
       " Text(29.70260366441659, 137.08173913043478, 'X[313] <= -0.978\\ngini = 0.048\\nsamples = 41\\nvalue = [0, 0, 0, 0, 0, 0, 40, 0, 1, 0, 0, 0]'),\n",
       " Text(28.411186113789782, 127.62782608695652, 'gini = 0.0\\nsamples = 40\\nvalue = [0, 0, 0, 0, 0, 0, 40, 0, 0, 0, 0, 0]'),\n",
       " Text(30.994021215043396, 127.62782608695652, 'gini = 0.0\\nsamples = 1\\nvalue = [0, 0, 0, 0, 0, 0, 0, 0, 1, 0, 0, 0]'),\n",
       " Text(32.28543876567021, 137.08173913043478, 'gini = 0.0\\nsamples = 2\\nvalue = [0, 0, 0, 0, 0, 0, 0, 0, 0, 0, 0, 2]'),\n",
       " Text(58.083522179363555, 165.44347826086957, 'X[429] <= -0.92\\ngini = 0.117\\nsamples = 1145\\nvalue = [0, 0, 1, 0, 0, 0, 1074, 68, 1, 0, 0, 1]'),\n",
       " Text(50.62760366441659, 155.98956521739132, 'X[159] <= 0.672\\ngini = 0.088\\nsamples = 1104\\nvalue = [0, 0, 0, 0, 0, 0, 1053, 51, 0, 0, 0, 0]'),\n",
       " Text(44.10998071359692, 146.53565217391304, 'X[50] <= 0.035\\ngini = 0.07\\nsamples = 1073\\nvalue = [0, 0, 0, 0, 0, 0, 1034, 39, 0, 0, 0, 0]'),\n",
       " Text(37.531822565091616, 137.08173913043478, 'X[468] <= -1.0\\ngini = 0.195\\nsamples = 347\\nvalue = [0, 0, 0, 0, 0, 0, 309, 38, 0, 0, 0, 0]'),\n",
       " Text(33.57685631629701, 127.62782608695652, 'X[159] <= 0.443\\ngini = 0.021\\nsamples = 192\\nvalue = [0, 0, 0, 0, 0, 0, 190, 2, 0, 0, 0, 0]'),\n",
       " Text(32.28543876567021, 118.17391304347825, 'X[375] <= 0.13\\ngini = 0.01\\nsamples = 191\\nvalue = [0, 0, 0, 0, 0, 0, 190, 1, 0, 0, 0, 0]'),\n",
       " Text(30.994021215043396, 108.72, 'gini = 0.0\\nsamples = 190\\nvalue = [0, 0, 0, 0, 0, 0, 190, 0, 0, 0, 0, 0]'),\n",
       " Text(33.57685631629701, 108.72, 'gini = 0.0\\nsamples = 1\\nvalue = [0, 0, 0, 0, 0, 0, 0, 1, 0, 0, 0, 0]'),\n",
       " Text(34.86827386692382, 118.17391304347825, 'gini = 0.0\\nsamples = 1\\nvalue = [0, 0, 0, 0, 0, 0, 0, 1, 0, 0, 0, 0]'),\n",
       " Text(41.486788813886214, 127.62782608695652, 'X[430] <= -0.988\\ngini = 0.357\\nsamples = 155\\nvalue = [0, 0, 0, 0, 0, 0, 119, 36, 0, 0, 0, 0]'),\n",
       " Text(37.45110896817744, 118.17391304347825, 'X[352] <= -0.988\\ngini = 0.278\\nsamples = 24\\nvalue = [0, 0, 0, 0, 0, 0, 4, 20, 0, 0, 0, 0]'),\n",
       " Text(36.15969141755063, 108.72, 'gini = 0.0\\nsamples = 20\\nvalue = [0, 0, 0, 0, 0, 0, 0, 20, 0, 0, 0, 0]'),\n",
       " Text(38.74252651880425, 108.72, 'gini = 0.0\\nsamples = 4\\nvalue = [0, 0, 0, 0, 0, 0, 4, 0, 0, 0, 0, 0]'),\n",
       " Text(45.52246865959499, 118.17391304347825, 'X[293] <= 0.271\\ngini = 0.214\\nsamples = 131\\nvalue = [0, 0, 0, 0, 0, 0, 115, 16, 0, 0, 0, 0]'),\n",
       " Text(41.32536162005786, 108.72, 'X[493] <= -1.0\\ngini = 0.128\\nsamples = 116\\nvalue = [0, 0, 0, 0, 0, 0, 108, 8, 0, 0, 0, 0]'),\n",
       " Text(38.09681774349084, 99.26608695652173, 'X[175] <= -0.994\\ngini = 0.375\\nsamples = 4\\nvalue = [0, 0, 0, 0, 0, 0, 1, 3, 0, 0, 0, 0]'),\n",
       " Text(36.805400192864035, 89.81217391304348, 'gini = 0.0\\nsamples = 1\\nvalue = [0, 0, 0, 0, 0, 0, 1, 0, 0, 0, 0, 0]'),\n",
       " Text(39.38823529411765, 89.81217391304348, 'gini = 0.0\\nsamples = 3\\nvalue = [0, 0, 0, 0, 0, 0, 0, 3, 0, 0, 0, 0]'),\n",
       " Text(44.553905496624886, 99.26608695652173, 'X[557] <= -0.8\\ngini = 0.085\\nsamples = 112\\nvalue = [0, 0, 0, 0, 0, 0, 107, 5, 0, 0, 0, 0]'),\n",
       " Text(41.971070395371264, 89.81217391304348, 'X[433] <= -0.976\\ngini = 0.444\\nsamples = 3\\nvalue = [0, 0, 0, 0, 0, 0, 1, 2, 0, 0, 0, 0]'),\n",
       " Text(40.67965284474446, 80.35826086956521, 'gini = 0.0\\nsamples = 1\\nvalue = [0, 0, 0, 0, 0, 0, 1, 0, 0, 0, 0, 0]'),\n",
       " Text(43.262487945998075, 80.35826086956521, 'gini = 0.0\\nsamples = 2\\nvalue = [0, 0, 0, 0, 0, 0, 0, 2, 0, 0, 0, 0]'),\n",
       " Text(47.1367405978785, 89.81217391304348, 'X[529] <= -0.989\\ngini = 0.054\\nsamples = 109\\nvalue = [0, 0, 0, 0, 0, 0, 106, 3, 0, 0, 0, 0]'),\n",
       " Text(45.84532304725169, 80.35826086956521, 'gini = 0.0\\nsamples = 1\\nvalue = [0, 0, 0, 0, 0, 0, 0, 1, 0, 0, 0, 0]'),\n",
       " Text(48.428158148505304, 80.35826086956521, 'X[335] <= -1.0\\ngini = 0.036\\nsamples = 108\\nvalue = [0, 0, 0, 0, 0, 0, 106, 2, 0, 0, 0, 0]'),\n",
       " Text(47.1367405978785, 70.90434782608696, 'gini = 0.0\\nsamples = 1\\nvalue = [0, 0, 0, 0, 0, 0, 0, 1, 0, 0, 0, 0]'),\n",
       " Text(49.719575699132115, 70.90434782608696, 'X[155] <= 0.437\\ngini = 0.019\\nsamples = 107\\nvalue = [0, 0, 0, 0, 0, 0, 106, 1, 0, 0, 0, 0]'),\n",
       " Text(48.428158148505304, 61.45043478260868, 'gini = 0.0\\nsamples = 105\\nvalue = [0, 0, 0, 0, 0, 0, 105, 0, 0, 0, 0, 0]'),\n",
       " Text(51.010993249758926, 61.45043478260868, 'X[518] <= -0.977\\ngini = 0.5\\nsamples = 2\\nvalue = [0, 0, 0, 0, 0, 0, 1, 1, 0, 0, 0, 0]'),\n",
       " Text(49.719575699132115, 51.99652173913043, 'gini = 0.0\\nsamples = 1\\nvalue = [0, 0, 0, 0, 0, 0, 0, 1, 0, 0, 0, 0]'),\n",
       " Text(52.30241080038573, 51.99652173913043, 'gini = 0.0\\nsamples = 1\\nvalue = [0, 0, 0, 0, 0, 0, 1, 0, 0, 0, 0, 0]'),\n",
       " Text(49.719575699132115, 108.72, 'X[79] <= 0.542\\ngini = 0.498\\nsamples = 15\\nvalue = [0, 0, 0, 0, 0, 0, 7, 8, 0, 0, 0, 0]'),\n",
       " Text(48.428158148505304, 99.26608695652173, 'gini = 0.0\\nsamples = 7\\nvalue = [0, 0, 0, 0, 0, 0, 0, 7, 0, 0, 0, 0]'),\n",
       " Text(51.010993249758926, 99.26608695652173, 'X[497] <= -1.0\\ngini = 0.219\\nsamples = 8\\nvalue = [0, 0, 0, 0, 0, 0, 7, 1, 0, 0, 0, 0]'),\n",
       " Text(49.719575699132115, 89.81217391304348, 'gini = 0.0\\nsamples = 1\\nvalue = [0, 0, 0, 0, 0, 0, 0, 1, 0, 0, 0, 0]'),\n",
       " Text(52.30241080038573, 89.81217391304348, 'gini = 0.0\\nsamples = 7\\nvalue = [0, 0, 0, 0, 0, 0, 7, 0, 0, 0, 0, 0]'),\n",
       " Text(50.68813886210222, 137.08173913043478, 'X[24] <= -0.99\\ngini = 0.003\\nsamples = 726\\nvalue = [0, 0, 0, 0, 0, 0, 725, 1, 0, 0, 0, 0]'),\n",
       " Text(49.39672131147541, 127.62782608695652, 'X[60] <= -0.816\\ngini = 0.5\\nsamples = 2\\nvalue = [0, 0, 0, 0, 0, 0, 1, 1, 0, 0, 0, 0]'),\n",
       " Text(48.10530376084861, 118.17391304347825, 'gini = 0.0\\nsamples = 1\\nvalue = [0, 0, 0, 0, 0, 0, 0, 1, 0, 0, 0, 0]'),\n",
       " Text(50.68813886210222, 118.17391304347825, 'gini = 0.0\\nsamples = 1\\nvalue = [0, 0, 0, 0, 0, 0, 1, 0, 0, 0, 0, 0]'),\n",
       " Text(51.97955641272903, 127.62782608695652, 'gini = 0.0\\nsamples = 724\\nvalue = [0, 0, 0, 0, 0, 0, 724, 0, 0, 0, 0, 0]'),\n",
       " Text(57.14522661523626, 146.53565217391304, 'X[497] <= -1.0\\ngini = 0.475\\nsamples = 31\\nvalue = [0, 0, 0, 0, 0, 0, 19, 12, 0, 0, 0, 0]'),\n",
       " Text(55.85380906460946, 137.08173913043478, 'X[30] <= -0.363\\ngini = 0.245\\nsamples = 14\\nvalue = [0, 0, 0, 0, 0, 0, 2, 12, 0, 0, 0, 0]'),\n",
       " Text(54.56239151398265, 127.62782608695652, 'gini = 0.0\\nsamples = 2\\nvalue = [0, 0, 0, 0, 0, 0, 2, 0, 0, 0, 0, 0]'),\n",
       " Text(57.14522661523626, 127.62782608695652, 'gini = 0.0\\nsamples = 12\\nvalue = [0, 0, 0, 0, 0, 0, 0, 12, 0, 0, 0, 0]'),\n",
       " Text(58.43664416586307, 137.08173913043478, 'gini = 0.0\\nsamples = 17\\nvalue = [0, 0, 0, 0, 0, 0, 17, 0, 0, 0, 0, 0]'),\n",
       " Text(65.53944069431051, 155.98956521739132, 'X[395] <= -0.996\\ngini = 0.564\\nsamples = 41\\nvalue = [0, 0, 1, 0, 0, 0, 21, 17, 1, 0, 0, 1]'),\n",
       " Text(62.3108968177435, 146.53565217391304, 'X[5] <= -0.474\\ngini = 0.124\\nsamples = 15\\nvalue = [0, 0, 0, 0, 0, 0, 1, 14, 0, 0, 0, 0]'),\n",
       " Text(61.01947926711669, 137.08173913043478, 'gini = 0.0\\nsamples = 14\\nvalue = [0, 0, 0, 0, 0, 0, 0, 14, 0, 0, 0, 0]'),\n",
       " Text(63.6023143683703, 137.08173913043478, 'gini = 0.0\\nsamples = 1\\nvalue = [0, 0, 0, 0, 0, 0, 1, 0, 0, 0, 0, 0]'),\n",
       " Text(68.76798457087753, 146.53565217391304, 'X[302] <= -0.984\\ngini = 0.391\\nsamples = 26\\nvalue = [0, 0, 1, 0, 0, 0, 20, 3, 1, 0, 0, 1]'),\n",
       " Text(66.18514946962392, 137.08173913043478, 'X[57] <= -0.999\\ngini = 0.165\\nsamples = 22\\nvalue = [0, 0, 0, 0, 0, 0, 20, 2, 0, 0, 0, 0]'),\n",
       " Text(64.8937319189971, 127.62782608695652, 'gini = 0.0\\nsamples = 2\\nvalue = [0, 0, 0, 0, 0, 0, 0, 2, 0, 0, 0, 0]'),\n",
       " Text(67.47656702025073, 127.62782608695652, 'gini = 0.0\\nsamples = 20\\nvalue = [0, 0, 0, 0, 0, 0, 20, 0, 0, 0, 0, 0]'),\n",
       " Text(71.35081967213115, 137.08173913043478, 'X[421] <= -0.991\\ngini = 0.75\\nsamples = 4\\nvalue = [0, 0, 1, 0, 0, 0, 0, 1, 1, 0, 0, 1]'),\n",
       " Text(70.05940212150435, 127.62782608695652, 'gini = 0.0\\nsamples = 1\\nvalue = [0, 0, 0, 0, 0, 0, 0, 1, 0, 0, 0, 0]'),\n",
       " Text(72.64223722275796, 127.62782608695652, 'X[62] <= -0.013\\ngini = 0.667\\nsamples = 3\\nvalue = [0, 0, 1, 0, 0, 0, 0, 0, 1, 0, 0, 1]'),\n",
       " Text(71.35081967213115, 118.17391304347825, 'gini = 0.0\\nsamples = 1\\nvalue = [0, 0, 1, 0, 0, 0, 0, 0, 0, 0, 0, 0]'),\n",
       " Text(73.93365477338477, 118.17391304347825, 'X[295] <= -0.068\\ngini = 0.5\\nsamples = 2\\nvalue = [0, 0, 0, 0, 0, 0, 0, 0, 1, 0, 0, 1]'),\n",
       " Text(72.64223722275796, 108.72, 'gini = 0.0\\nsamples = 1\\nvalue = [0, 0, 0, 0, 0, 0, 0, 0, 1, 0, 0, 0]'),\n",
       " Text(75.22507232401158, 108.72, 'gini = 0.0\\nsamples = 1\\nvalue = [0, 0, 0, 0, 0, 0, 0, 0, 0, 0, 0, 1]'),\n",
       " Text(104.40303760848603, 184.3513043478261, 'X[139] <= -0.998\\ngini = 0.157\\nsamples = 1352\\nvalue = [0, 0, 3, 0, 0, 0, 112, 1236, 0, 1, 0, 0]'),\n",
       " Text(101.82020250723241, 174.89739130434782, 'X[531] <= -0.997\\ngini = 0.278\\nsamples = 24\\nvalue = [0, 0, 0, 0, 0, 0, 20, 4, 0, 0, 0, 0]'),\n",
       " Text(100.5287849566056, 165.44347826086957, 'gini = 0.0\\nsamples = 4\\nvalue = [0, 0, 0, 0, 0, 0, 0, 4, 0, 0, 0, 0]'),\n",
       " Text(103.11162005785921, 165.44347826086957, 'gini = 0.0\\nsamples = 20\\nvalue = [0, 0, 0, 0, 0, 0, 20, 0, 0, 0, 0, 0]'),\n",
       " Text(106.98587270973964, 174.89739130434782, 'X[129] <= -0.915\\ngini = 0.135\\nsamples = 1328\\nvalue = [0, 0, 3, 0, 0, 0, 92, 1232, 0, 1, 0, 0]'),\n",
       " Text(105.69445515911283, 165.44347826086957, 'gini = 0.0\\nsamples = 9\\nvalue = [0, 0, 0, 0, 0, 0, 9, 0, 0, 0, 0, 0]'),\n",
       " Text(108.27729026036644, 165.44347826086957, 'X[157] <= 0.734\\ngini = 0.124\\nsamples = 1319\\nvalue = [0, 0, 3, 0, 0, 0, 83, 1232, 0, 1, 0, 0]'),\n",
       " Text(97.42131147540984, 155.98956521739132, 'X[187] <= 0.22\\ngini = 0.11\\nsamples = 1302\\nvalue = [0, 0, 3, 0, 0, 0, 72, 1226, 0, 1, 0, 0]'),\n",
       " Text(86.20212150433944, 146.53565217391304, 'X[135] <= -0.345\\ngini = 0.066\\nsamples = 1089\\nvalue = [0, 0, 2, 0, 0, 0, 34, 1052, 0, 1, 0, 0]'),\n",
       " Text(84.91070395371264, 137.08173913043478, 'X[197] <= 0.474\\ngini = 0.062\\nsamples = 1087\\nvalue = [0, 0, 0, 0, 0, 0, 34, 1052, 0, 1, 0, 0]'),\n",
       " Text(81.68216007714562, 127.62782608695652, 'X[204] <= -1.0\\ngini = 0.053\\nsamples = 1069\\nvalue = [0, 0, 0, 0, 0, 0, 28, 1040, 0, 1, 0, 0]'),\n",
       " Text(79.099324975892, 118.17391304347825, 'X[29] <= 0.092\\ngini = 0.444\\nsamples = 3\\nvalue = [0, 0, 0, 0, 0, 0, 2, 1, 0, 0, 0, 0]'),\n",
       " Text(77.8079074252652, 108.72, 'gini = 0.0\\nsamples = 2\\nvalue = [0, 0, 0, 0, 0, 0, 2, 0, 0, 0, 0, 0]'),\n",
       " Text(80.3907425265188, 108.72, 'gini = 0.0\\nsamples = 1\\nvalue = [0, 0, 0, 0, 0, 0, 0, 1, 0, 0, 0, 0]'),\n",
       " Text(84.26499517839923, 118.17391304347825, 'X[141] <= -0.573\\ngini = 0.049\\nsamples = 1066\\nvalue = [0, 0, 0, 0, 0, 0, 26, 1039, 0, 1, 0, 0]'),\n",
       " Text(82.97357762777243, 108.72, 'X[64] <= 0.517\\ngini = 0.048\\nsamples = 1065\\nvalue = [0, 0, 0, 0, 0, 0, 26, 1039, 0, 0, 0, 0]'),\n",
       " Text(81.68216007714562, 99.26608695652173, 'X[46] <= -1.0\\ngini = 0.046\\nsamples = 1064\\nvalue = [0, 0, 0, 0, 0, 0, 25, 1039, 0, 0, 0, 0]'),\n",
       " Text(80.3907425265188, 89.81217391304348, 'gini = 0.0\\nsamples = 1\\nvalue = [0, 0, 0, 0, 0, 0, 1, 0, 0, 0, 0, 0]'),\n",
       " Text(82.97357762777243, 89.81217391304348, 'X[277] <= -1.0\\ngini = 0.044\\nsamples = 1063\\nvalue = [0, 0, 0, 0, 0, 0, 24, 1039, 0, 0, 0, 0]'),\n",
       " Text(81.68216007714562, 80.35826086956521, 'gini = 0.0\\nsamples = 1\\nvalue = [0, 0, 0, 0, 0, 0, 1, 0, 0, 0, 0, 0]'),\n",
       " Text(84.26499517839923, 80.35826086956521, 'X[150] <= 0.218\\ngini = 0.042\\nsamples = 1062\\nvalue = [0, 0, 0, 0, 0, 0, 23, 1039, 0, 0, 0, 0]'),\n",
       " Text(79.90646094503376, 70.90434782608696, 'X[159] <= 0.883\\ngini = 0.012\\nsamples = 805\\nvalue = [0, 0, 0, 0, 0, 0, 5, 800, 0, 0, 0, 0]'),\n",
       " Text(78.61504339440695, 61.45043478260868, 'X[376] <= -0.229\\ngini = 0.01\\nsamples = 804\\nvalue = [0, 0, 0, 0, 0, 0, 4, 800, 0, 0, 0, 0]'),\n",
       " Text(75.06364513018323, 51.99652173913043, 'X[132] <= 0.857\\ngini = 0.007\\nsamples = 801\\nvalue = [0, 0, 0, 0, 0, 0, 3, 798, 0, 0, 0, 0]'),\n",
       " Text(71.8351012536162, 42.54260869565218, 'X[196] <= -0.346\\ngini = 0.005\\nsamples = 797\\nvalue = [0, 0, 0, 0, 0, 0, 2, 795, 0, 0, 0, 0]'),\n",
       " Text(69.2522661523626, 33.0886956521739, 'X[421] <= -0.999\\ngini = 0.375\\nsamples = 4\\nvalue = [0, 0, 0, 0, 0, 0, 1, 3, 0, 0, 0, 0]'),\n",
       " Text(67.96084860173578, 23.634782608695645, 'gini = 0.0\\nsamples = 3\\nvalue = [0, 0, 0, 0, 0, 0, 0, 3, 0, 0, 0, 0]'),\n",
       " Text(70.5436837029894, 23.634782608695645, 'gini = 0.0\\nsamples = 1\\nvalue = [0, 0, 0, 0, 0, 0, 1, 0, 0, 0, 0, 0]'),\n",
       " Text(74.41793635486982, 33.0886956521739, 'X[32] <= 0.503\\ngini = 0.003\\nsamples = 793\\nvalue = [0, 0, 0, 0, 0, 0, 1, 792, 0, 0, 0, 0]'),\n",
       " Text(73.12651880424302, 23.634782608695645, 'gini = 0.0\\nsamples = 784\\nvalue = [0, 0, 0, 0, 0, 0, 0, 784, 0, 0, 0, 0]'),\n",
       " Text(75.70935390549663, 23.634782608695645, 'X[322] <= -1.0\\ngini = 0.198\\nsamples = 9\\nvalue = [0, 0, 0, 0, 0, 0, 1, 8, 0, 0, 0, 0]'),\n",
       " Text(74.41793635486982, 14.180869565217392, 'gini = 0.0\\nsamples = 1\\nvalue = [0, 0, 0, 0, 0, 0, 1, 0, 0, 0, 0, 0]'),\n",
       " Text(77.00077145612345, 14.180869565217392, 'gini = 0.0\\nsamples = 8\\nvalue = [0, 0, 0, 0, 0, 0, 0, 8, 0, 0, 0, 0]'),\n",
       " Text(78.29218900675025, 42.54260869565218, 'X[135] <= -0.956\\ngini = 0.375\\nsamples = 4\\nvalue = [0, 0, 0, 0, 0, 0, 1, 3, 0, 0, 0, 0]'),\n",
       " Text(77.00077145612345, 33.0886956521739, 'gini = 0.0\\nsamples = 1\\nvalue = [0, 0, 0, 0, 0, 0, 1, 0, 0, 0, 0, 0]'),\n",
       " Text(79.58360655737705, 33.0886956521739, 'gini = 0.0\\nsamples = 3\\nvalue = [0, 0, 0, 0, 0, 0, 0, 3, 0, 0, 0, 0]'),\n",
       " Text(82.16644165863067, 51.99652173913043, 'X[36] <= -0.123\\ngini = 0.444\\nsamples = 3\\nvalue = [0, 0, 0, 0, 0, 0, 1, 2, 0, 0, 0, 0]'),\n",
       " Text(80.87502410800386, 42.54260869565218, 'gini = 0.0\\nsamples = 2\\nvalue = [0, 0, 0, 0, 0, 0, 0, 2, 0, 0, 0, 0]'),\n",
       " Text(83.45785920925748, 42.54260869565218, 'gini = 0.0\\nsamples = 1\\nvalue = [0, 0, 0, 0, 0, 0, 1, 0, 0, 0, 0, 0]'),\n",
       " Text(81.19787849566056, 61.45043478260868, 'gini = 0.0\\nsamples = 1\\nvalue = [0, 0, 0, 0, 0, 0, 1, 0, 0, 0, 0, 0]'),\n",
       " Text(88.62352941176471, 70.90434782608696, 'X[123] <= -0.985\\ngini = 0.13\\nsamples = 257\\nvalue = [0, 0, 0, 0, 0, 0, 18, 239, 0, 0, 0, 0]'),\n",
       " Text(86.0406943105111, 61.45043478260868, 'X[504] <= -0.977\\ngini = 0.494\\nsamples = 27\\nvalue = [0, 0, 0, 0, 0, 0, 12, 15, 0, 0, 0, 0]'),\n",
       " Text(84.74927675988428, 51.99652173913043, 'gini = 0.0\\nsamples = 14\\nvalue = [0, 0, 0, 0, 0, 0, 0, 14, 0, 0, 0, 0]'),\n",
       " Text(87.3321118611379, 51.99652173913043, 'X[294] <= 0.125\\ngini = 0.142\\nsamples = 13\\nvalue = [0, 0, 0, 0, 0, 0, 12, 1, 0, 0, 0, 0]'),\n",
       " Text(86.0406943105111, 42.54260869565218, 'gini = 0.0\\nsamples = 12\\nvalue = [0, 0, 0, 0, 0, 0, 12, 0, 0, 0, 0, 0]'),\n",
       " Text(88.62352941176471, 42.54260869565218, 'gini = 0.0\\nsamples = 1\\nvalue = [0, 0, 0, 0, 0, 0, 0, 1, 0, 0, 0, 0]'),\n",
       " Text(91.20636451301833, 61.45043478260868, 'X[190] <= -0.04\\ngini = 0.051\\nsamples = 230\\nvalue = [0, 0, 0, 0, 0, 0, 6, 224, 0, 0, 0, 0]'),\n",
       " Text(89.91494696239153, 51.99652173913043, 'gini = 0.0\\nsamples = 2\\nvalue = [0, 0, 0, 0, 0, 0, 2, 0, 0, 0, 0, 0]'),\n",
       " Text(92.49778206364513, 51.99652173913043, 'X[65] <= 0.229\\ngini = 0.034\\nsamples = 228\\nvalue = [0, 0, 0, 0, 0, 0, 4, 224, 0, 0, 0, 0]'),\n",
       " Text(91.20636451301833, 42.54260869565218, 'X[142] <= -0.941\\ngini = 0.026\\nsamples = 227\\nvalue = [0, 0, 0, 0, 0, 0, 3, 224, 0, 0, 0, 0]'),\n",
       " Text(89.91494696239153, 33.0886956521739, 'gini = 0.0\\nsamples = 1\\nvalue = [0, 0, 0, 0, 0, 0, 1, 0, 0, 0, 0, 0]'),\n",
       " Text(92.49778206364513, 33.0886956521739, 'X[290] <= 0.433\\ngini = 0.018\\nsamples = 226\\nvalue = [0, 0, 0, 0, 0, 0, 2, 224, 0, 0, 0, 0]'),\n",
       " Text(91.20636451301833, 23.634782608695645, 'X[115] <= -0.327\\ngini = 0.009\\nsamples = 225\\nvalue = [0, 0, 0, 0, 0, 0, 1, 224, 0, 0, 0, 0]'),\n",
       " Text(89.91494696239153, 14.180869565217392, 'X[345] <= -0.934\\ngini = 0.444\\nsamples = 3\\nvalue = [0, 0, 0, 0, 0, 0, 1, 2, 0, 0, 0, 0]'),\n",
       " Text(88.62352941176471, 4.726956521739112, 'gini = 0.0\\nsamples = 1\\nvalue = [0, 0, 0, 0, 0, 0, 1, 0, 0, 0, 0, 0]'),\n",
       " Text(91.20636451301833, 4.726956521739112, 'gini = 0.0\\nsamples = 2\\nvalue = [0, 0, 0, 0, 0, 0, 0, 2, 0, 0, 0, 0]'),\n",
       " Text(92.49778206364513, 14.180869565217392, 'gini = 0.0\\nsamples = 222\\nvalue = [0, 0, 0, 0, 0, 0, 0, 222, 0, 0, 0, 0]'),\n",
       " Text(93.78919961427195, 23.634782608695645, 'gini = 0.0\\nsamples = 1\\nvalue = [0, 0, 0, 0, 0, 0, 1, 0, 0, 0, 0, 0]'),\n",
       " Text(93.78919961427195, 42.54260869565218, 'gini = 0.0\\nsamples = 1\\nvalue = [0, 0, 0, 0, 0, 0, 1, 0, 0, 0, 0, 0]'),\n",
       " Text(84.26499517839923, 99.26608695652173, 'gini = 0.0\\nsamples = 1\\nvalue = [0, 0, 0, 0, 0, 0, 1, 0, 0, 0, 0, 0]'),\n",
       " Text(85.55641272902604, 108.72, 'gini = 0.0\\nsamples = 1\\nvalue = [0, 0, 0, 0, 0, 0, 0, 0, 0, 1, 0, 0]'),\n",
       " Text(88.13924783027966, 127.62782608695652, 'X[268] <= -0.98\\ngini = 0.444\\nsamples = 18\\nvalue = [0, 0, 0, 0, 0, 0, 6, 12, 0, 0, 0, 0]'),\n",
       " Text(86.84783027965285, 118.17391304347825, 'gini = 0.0\\nsamples = 11\\nvalue = [0, 0, 0, 0, 0, 0, 0, 11, 0, 0, 0, 0]'),\n",
       " Text(89.43066538090646, 118.17391304347825, 'X[354] <= -0.944\\ngini = 0.245\\nsamples = 7\\nvalue = [0, 0, 0, 0, 0, 0, 6, 1, 0, 0, 0, 0]'),\n",
       " Text(88.13924783027966, 108.72, 'gini = 0.0\\nsamples = 6\\nvalue = [0, 0, 0, 0, 0, 0, 6, 0, 0, 0, 0, 0]'),\n",
       " Text(90.72208293153328, 108.72, 'gini = 0.0\\nsamples = 1\\nvalue = [0, 0, 0, 0, 0, 0, 0, 1, 0, 0, 0, 0]'),\n",
       " Text(87.49353905496625, 137.08173913043478, 'gini = 0.0\\nsamples = 2\\nvalue = [0, 0, 2, 0, 0, 0, 0, 0, 0, 0, 0, 0]'),\n",
       " Text(108.64050144648024, 146.53565217391304, 'X[133] <= 0.889\\ngini = 0.301\\nsamples = 213\\nvalue = [0, 0, 1, 0, 0, 0, 38, 174, 0, 0, 0, 0]'),\n",
       " Text(103.31340405014465, 137.08173913043478, 'X[129] <= -0.887\\ngini = 0.476\\nsamples = 96\\nvalue = [0, 0, 1, 0, 0, 0, 35, 60, 0, 0, 0, 0]'),\n",
       " Text(99.11629701060752, 127.62782608695652, 'X[113] <= 0.181\\ngini = 0.489\\nsamples = 61\\nvalue = [0, 0, 0, 0, 0, 0, 35, 26, 0, 0, 0, 0]'),\n",
       " Text(94.5963355834137, 118.17391304347825, 'X[119] <= 0.317\\ngini = 0.147\\nsamples = 25\\nvalue = [0, 0, 0, 0, 0, 0, 23, 2, 0, 0, 0, 0]'),\n",
       " Text(93.30491803278689, 108.72, 'gini = 0.0\\nsamples = 22\\nvalue = [0, 0, 0, 0, 0, 0, 22, 0, 0, 0, 0, 0]'),\n",
       " Text(95.88775313404051, 108.72, 'X[282] <= -0.999\\ngini = 0.444\\nsamples = 3\\nvalue = [0, 0, 0, 0, 0, 0, 1, 2, 0, 0, 0, 0]'),\n",
       " Text(94.5963355834137, 99.26608695652173, 'gini = 0.0\\nsamples = 2\\nvalue = [0, 0, 0, 0, 0, 0, 0, 2, 0, 0, 0, 0]'),\n",
       " Text(97.17917068466731, 99.26608695652173, 'gini = 0.0\\nsamples = 1\\nvalue = [0, 0, 0, 0, 0, 0, 1, 0, 0, 0, 0, 0]'),\n",
       " Text(103.63625843780136, 118.17391304347825, 'X[81] <= 0.021\\ngini = 0.444\\nsamples = 36\\nvalue = [0, 0, 0, 0, 0, 0, 12, 24, 0, 0, 0, 0]'),\n",
       " Text(101.05342333654774, 108.72, 'X[25] <= 0.266\\ngini = 0.293\\nsamples = 28\\nvalue = [0, 0, 0, 0, 0, 0, 5, 23, 0, 0, 0, 0]'),\n",
       " Text(99.76200578592093, 99.26608695652173, 'gini = 0.0\\nsamples = 20\\nvalue = [0, 0, 0, 0, 0, 0, 0, 20, 0, 0, 0, 0]'),\n",
       " Text(102.34484088717456, 99.26608695652173, 'X[27] <= 0.35\\ngini = 0.469\\nsamples = 8\\nvalue = [0, 0, 0, 0, 0, 0, 5, 3, 0, 0, 0, 0]'),\n",
       " Text(101.05342333654774, 89.81217391304348, 'gini = 0.0\\nsamples = 5\\nvalue = [0, 0, 0, 0, 0, 0, 5, 0, 0, 0, 0, 0]'),\n",
       " Text(103.63625843780136, 89.81217391304348, 'gini = 0.0\\nsamples = 3\\nvalue = [0, 0, 0, 0, 0, 0, 0, 3, 0, 0, 0, 0]'),\n",
       " Text(106.21909353905497, 108.72, 'X[148] <= -0.196\\ngini = 0.219\\nsamples = 8\\nvalue = [0, 0, 0, 0, 0, 0, 7, 1, 0, 0, 0, 0]'),\n",
       " Text(104.92767598842816, 99.26608695652173, 'gini = 0.0\\nsamples = 7\\nvalue = [0, 0, 0, 0, 0, 0, 7, 0, 0, 0, 0, 0]'),\n",
       " Text(107.51051108968178, 99.26608695652173, 'gini = 0.0\\nsamples = 1\\nvalue = [0, 0, 0, 0, 0, 0, 0, 1, 0, 0, 0, 0]'),\n",
       " Text(107.51051108968178, 127.62782608695652, 'X[16] <= -0.982\\ngini = 0.056\\nsamples = 35\\nvalue = [0, 0, 1, 0, 0, 0, 0, 34, 0, 0, 0, 0]'),\n",
       " Text(106.21909353905497, 118.17391304347825, 'gini = 0.0\\nsamples = 34\\nvalue = [0, 0, 0, 0, 0, 0, 0, 34, 0, 0, 0, 0]'),\n",
       " Text(108.80192864030859, 118.17391304347825, 'gini = 0.0\\nsamples = 1\\nvalue = [0, 0, 1, 0, 0, 0, 0, 0, 0, 0, 0, 0]'),\n",
       " Text(113.96759884281582, 137.08173913043478, 'X[158] <= 0.622\\ngini = 0.05\\nsamples = 117\\nvalue = [0, 0, 0, 0, 0, 0, 3, 114, 0, 0, 0, 0]'),\n",
       " Text(112.67618129218901, 127.62782608695652, 'X[352] <= -0.998\\ngini = 0.017\\nsamples = 115\\nvalue = [0, 0, 0, 0, 0, 0, 1, 114, 0, 0, 0, 0]'),\n",
       " Text(111.38476374156221, 118.17391304347825, 'gini = 0.0\\nsamples = 1\\nvalue = [0, 0, 0, 0, 0, 0, 1, 0, 0, 0, 0, 0]'),\n",
       " Text(113.96759884281582, 118.17391304347825, 'gini = 0.0\\nsamples = 114\\nvalue = [0, 0, 0, 0, 0, 0, 0, 114, 0, 0, 0, 0]'),\n",
       " Text(115.25901639344264, 127.62782608695652, 'gini = 0.0\\nsamples = 2\\nvalue = [0, 0, 0, 0, 0, 0, 2, 0, 0, 0, 0, 0]'),\n",
       " Text(119.13326904532306, 155.98956521739132, 'X[58] <= -0.974\\ngini = 0.457\\nsamples = 17\\nvalue = [0, 0, 0, 0, 0, 0, 11, 6, 0, 0, 0, 0]'),\n",
       " Text(117.84185149469624, 146.53565217391304, 'X[64] <= -0.905\\ngini = 0.245\\nsamples = 7\\nvalue = [0, 0, 0, 0, 0, 0, 1, 6, 0, 0, 0, 0]'),\n",
       " Text(116.55043394406944, 137.08173913043478, 'gini = 0.0\\nsamples = 1\\nvalue = [0, 0, 0, 0, 0, 0, 1, 0, 0, 0, 0, 0]'),\n",
       " Text(119.13326904532306, 137.08173913043478, 'gini = 0.0\\nsamples = 6\\nvalue = [0, 0, 0, 0, 0, 0, 0, 6, 0, 0, 0, 0]'),\n",
       " Text(120.42468659594986, 146.53565217391304, 'gini = 0.0\\nsamples = 10\\nvalue = [0, 0, 0, 0, 0, 0, 10, 0, 0, 0, 0, 0]'),\n",
       " Text(257.9808341369335, 193.80521739130435, 'X[9] <= 0.363\\ngini = 0.724\\nsamples = 3637\\nvalue = [1226, 53, 86, 48, 1073, 987, 8, 0, 15, 46, 23\\n72]'),\n",
       " Text(214.01210221793636, 184.3513043478261, 'X[69] <= -0.276\\ngini = 0.663\\nsamples = 2682\\nvalue = [1176, 48, 86, 42, 997, 172, 8, 0, 15, 43, 23, 72]'),\n",
       " Text(172.24281581485053, 174.89739130434782, 'X[50] <= -0.165\\ngini = 0.593\\nsamples = 1354\\nvalue = [101, 47, 85, 42, 843, 75, 8, 0, 15, 43, 23, 72]'),\n",
       " Text(142.3787849566056, 165.44347826086957, 'X[37] <= -0.06\\ngini = 0.202\\nsamples = 890\\nvalue = [51, 1, 6, 0, 793, 16, 0, 0, 0, 23, 0, 0]'),\n",
       " Text(129.46460945033752, 155.98956521739132, 'X[37] <= -0.657\\ngini = 0.102\\nsamples = 810\\nvalue = [22, 0, 2, 0, 767, 16, 0, 0, 0, 3, 0, 0]'),\n",
       " Text(123.00752169720349, 146.53565217391304, 'X[300] <= -0.079\\ngini = 0.521\\nsamples = 13\\nvalue = [0, 0, 1, 0, 4, 8, 0, 0, 0, 0, 0, 0]'),\n",
       " Text(121.71610414657667, 137.08173913043478, 'gini = 0.0\\nsamples = 8\\nvalue = [0, 0, 0, 0, 0, 8, 0, 0, 0, 0, 0, 0]'),\n",
       " Text(124.29893924783029, 137.08173913043478, 'X[20] <= -0.383\\ngini = 0.32\\nsamples = 5\\nvalue = [0, 0, 1, 0, 4, 0, 0, 0, 0, 0, 0, 0]'),\n",
       " Text(123.00752169720349, 127.62782608695652, 'gini = 0.0\\nsamples = 4\\nvalue = [0, 0, 0, 0, 4, 0, 0, 0, 0, 0, 0, 0]'),\n",
       " Text(125.5903567984571, 127.62782608695652, 'gini = 0.0\\nsamples = 1\\nvalue = [0, 0, 1, 0, 0, 0, 0, 0, 0, 0, 0, 0]'),\n",
       " Text(135.92169720347155, 146.53565217391304, 'X[302] <= -0.838\\ngini = 0.083\\nsamples = 797\\nvalue = [22, 0, 1, 0, 763, 8, 0, 0, 0, 3, 0, 0]'),\n",
       " Text(130.75602700096434, 137.08173913043478, 'X[171] <= -0.726\\ngini = 0.553\\nsamples = 33\\nvalue = [11, 0, 1, 0, 19, 0, 0, 0, 0, 2, 0, 0]'),\n",
       " Text(128.1731918997107, 127.62782608695652, 'X[323] <= -0.591\\ngini = 0.095\\nsamples = 20\\nvalue = [0, 0, 1, 0, 19, 0, 0, 0, 0, 0, 0, 0]'),\n",
       " Text(126.8817743490839, 118.17391304347825, 'gini = 0.0\\nsamples = 19\\nvalue = [0, 0, 0, 0, 19, 0, 0, 0, 0, 0, 0, 0]'),\n",
       " Text(129.46460945033752, 118.17391304347825, 'gini = 0.0\\nsamples = 1\\nvalue = [0, 0, 1, 0, 0, 0, 0, 0, 0, 0, 0, 0]'),\n",
       " Text(133.33886210221794, 127.62782608695652, 'X[46] <= -0.945\\ngini = 0.26\\nsamples = 13\\nvalue = [11, 0, 0, 0, 0, 0, 0, 0, 0, 2, 0, 0]'),\n",
       " Text(132.04744455159113, 118.17391304347825, 'gini = 0.0\\nsamples = 11\\nvalue = [11, 0, 0, 0, 0, 0, 0, 0, 0, 0, 0, 0]'),\n",
       " Text(134.63027965284476, 118.17391304347825, 'gini = 0.0\\nsamples = 2\\nvalue = [0, 0, 0, 0, 0, 0, 0, 0, 0, 2, 0, 0]'),\n",
       " Text(141.0873674059788, 137.08173913043478, 'X[296] <= -0.367\\ngini = 0.051\\nsamples = 764\\nvalue = [11, 0, 0, 0, 744, 8, 0, 0, 0, 1, 0, 0]'),\n",
       " Text(138.5045323047252, 127.62782608695652, 'X[82] <= -0.289\\ngini = 0.32\\nsamples = 5\\nvalue = [4, 0, 0, 0, 1, 0, 0, 0, 0, 0, 0, 0]'),\n",
       " Text(137.21311475409837, 118.17391304347825, 'gini = 0.0\\nsamples = 1\\nvalue = [0, 0, 0, 0, 1, 0, 0, 0, 0, 0, 0, 0]'),\n",
       " Text(139.79594985535198, 118.17391304347825, 'gini = 0.0\\nsamples = 4\\nvalue = [4, 0, 0, 0, 0, 0, 0, 0, 0, 0, 0, 0]'),\n",
       " Text(143.6702025072324, 127.62782608695652, 'X[558] <= -0.839\\ngini = 0.042\\nsamples = 759\\nvalue = [7, 0, 0, 0, 743, 8, 0, 0, 0, 1, 0, 0]'),\n",
       " Text(142.3787849566056, 118.17391304347825, 'gini = 0.0\\nsamples = 2\\nvalue = [0, 0, 0, 0, 0, 2, 0, 0, 0, 0, 0, 0]'),\n",
       " Text(144.96162005785922, 118.17391304347825, 'X[538] <= 0.453\\ngini = 0.036\\nsamples = 757\\nvalue = [7, 0, 0, 0, 743, 6, 0, 0, 0, 1, 0, 0]'),\n",
       " Text(143.6702025072324, 108.72, 'X[505] <= -0.383\\ngini = 0.031\\nsamples = 755\\nvalue = [7, 0, 0, 0, 743, 4, 0, 0, 0, 1, 0, 0]'),\n",
       " Text(140.4416586306654, 99.26608695652173, 'X[196] <= 0.499\\ngini = 0.026\\nsamples = 753\\nvalue = [7, 0, 0, 0, 743, 3, 0, 0, 0, 0, 0, 0]'),\n",
       " Text(137.85882352941178, 89.81217391304348, 'X[38] <= 0.291\\ngini = 0.019\\nsamples = 747\\nvalue = [4, 0, 0, 0, 740, 3, 0, 0, 0, 0, 0, 0]'),\n",
       " Text(136.56740597878496, 80.35826086956521, 'X[516] <= 0.035\\ngini = 0.016\\nsamples = 746\\nvalue = [4, 0, 0, 0, 740, 2, 0, 0, 0, 0, 0, 0]'),\n",
       " Text(135.27598842815814, 70.90434782608696, 'X[505] <= -0.838\\ngini = 0.013\\nsamples = 745\\nvalue = [4, 0, 0, 0, 740, 1, 0, 0, 0, 0, 0, 0]'),\n",
       " Text(133.98457087753135, 61.45043478260868, 'gini = 0.0\\nsamples = 1\\nvalue = [1, 0, 0, 0, 0, 0, 0, 0, 0, 0, 0, 0]'),\n",
       " Text(136.56740597878496, 61.45043478260868, 'X[383] <= -0.364\\ngini = 0.011\\nsamples = 744\\nvalue = [3, 0, 0, 0, 740, 1, 0, 0, 0, 0, 0, 0]'),\n",
       " Text(133.01600771456125, 51.99652173913043, 'X[91] <= -0.219\\ngini = 0.008\\nsamples = 742\\nvalue = [3, 0, 0, 0, 739, 0, 0, 0, 0, 0, 0, 0]'),\n",
       " Text(129.7874638379942, 42.54260869565218, 'X[119] <= -0.39\\ngini = 0.005\\nsamples = 740\\nvalue = [2, 0, 0, 0, 738, 0, 0, 0, 0, 0, 0, 0]'),\n",
       " Text(127.2046287367406, 33.0886956521739, 'X[169] <= -0.706\\ngini = 0.444\\nsamples = 3\\nvalue = [1, 0, 0, 0, 2, 0, 0, 0, 0, 0, 0, 0]'),\n",
       " Text(125.9132111861138, 23.634782608695645, 'gini = 0.0\\nsamples = 1\\nvalue = [1, 0, 0, 0, 0, 0, 0, 0, 0, 0, 0, 0]'),\n",
       " Text(128.49604628736742, 23.634782608695645, 'gini = 0.0\\nsamples = 2\\nvalue = [0, 0, 0, 0, 2, 0, 0, 0, 0, 0, 0, 0]'),\n",
       " Text(132.37029893924785, 33.0886956521739, 'X[490] <= -0.989\\ngini = 0.003\\nsamples = 737\\nvalue = [1, 0, 0, 0, 736, 0, 0, 0, 0, 0, 0, 0]'),\n",
       " Text(131.07888138862103, 23.634782608695645, 'X[397] <= -0.895\\ngini = 0.278\\nsamples = 6\\nvalue = [1, 0, 0, 0, 5, 0, 0, 0, 0, 0, 0, 0]'),\n",
       " Text(129.7874638379942, 14.180869565217392, 'gini = 0.0\\nsamples = 5\\nvalue = [0, 0, 0, 0, 5, 0, 0, 0, 0, 0, 0, 0]'),\n",
       " Text(132.37029893924785, 14.180869565217392, 'gini = 0.0\\nsamples = 1\\nvalue = [1, 0, 0, 0, 0, 0, 0, 0, 0, 0, 0, 0]'),\n",
       " Text(133.66171648987464, 23.634782608695645, 'gini = 0.0\\nsamples = 731\\nvalue = [0, 0, 0, 0, 731, 0, 0, 0, 0, 0, 0, 0]'),\n",
       " Text(136.24455159112827, 42.54260869565218, 'X[6] <= -0.318\\ngini = 0.5\\nsamples = 2\\nvalue = [1, 0, 0, 0, 1, 0, 0, 0, 0, 0, 0, 0]'),\n",
       " Text(134.95313404050145, 33.0886956521739, 'gini = 0.0\\nsamples = 1\\nvalue = [1, 0, 0, 0, 0, 0, 0, 0, 0, 0, 0, 0]'),\n",
       " Text(137.53596914175506, 33.0886956521739, 'gini = 0.0\\nsamples = 1\\nvalue = [0, 0, 0, 0, 1, 0, 0, 0, 0, 0, 0, 0]'),\n",
       " Text(140.1188042430087, 51.99652173913043, 'X[249] <= -0.307\\ngini = 0.5\\nsamples = 2\\nvalue = [0, 0, 0, 0, 1, 1, 0, 0, 0, 0, 0, 0]'),\n",
       " Text(138.82738669238188, 42.54260869565218, 'gini = 0.0\\nsamples = 1\\nvalue = [0, 0, 0, 0, 0, 1, 0, 0, 0, 0, 0, 0]'),\n",
       " Text(141.4102217936355, 42.54260869565218, 'gini = 0.0\\nsamples = 1\\nvalue = [0, 0, 0, 0, 1, 0, 0, 0, 0, 0, 0, 0]'),\n",
       " Text(137.85882352941178, 70.90434782608696, 'gini = 0.0\\nsamples = 1\\nvalue = [0, 0, 0, 0, 0, 1, 0, 0, 0, 0, 0, 0]'),\n",
       " Text(139.15024108003857, 80.35826086956521, 'gini = 0.0\\nsamples = 1\\nvalue = [0, 0, 0, 0, 0, 1, 0, 0, 0, 0, 0, 0]'),\n",
       " Text(143.024493731919, 89.81217391304348, 'X[193] <= -0.423\\ngini = 0.5\\nsamples = 6\\nvalue = [3, 0, 0, 0, 3, 0, 0, 0, 0, 0, 0, 0]'),\n",
       " Text(141.7330761812922, 80.35826086956521, 'gini = 0.0\\nsamples = 3\\nvalue = [3, 0, 0, 0, 0, 0, 0, 0, 0, 0, 0, 0]'),\n",
       " Text(144.3159112825458, 80.35826086956521, 'gini = 0.0\\nsamples = 3\\nvalue = [0, 0, 0, 0, 3, 0, 0, 0, 0, 0, 0, 0]'),\n",
       " Text(146.89874638379942, 99.26608695652173, 'X[167] <= -0.775\\ngini = 0.5\\nsamples = 2\\nvalue = [0, 0, 0, 0, 0, 1, 0, 0, 0, 1, 0, 0]'),\n",
       " Text(145.60732883317263, 89.81217391304348, 'gini = 0.0\\nsamples = 1\\nvalue = [0, 0, 0, 0, 0, 0, 0, 0, 0, 1, 0, 0]'),\n",
       " Text(148.19016393442624, 89.81217391304348, 'gini = 0.0\\nsamples = 1\\nvalue = [0, 0, 0, 0, 0, 1, 0, 0, 0, 0, 0, 0]'),\n",
       " Text(146.25303760848604, 108.72, 'gini = 0.0\\nsamples = 2\\nvalue = [0, 0, 0, 0, 0, 2, 0, 0, 0, 0, 0, 0]'),\n",
       " Text(155.29296046287368, 155.98956521739132, 'X[73] <= -0.624\\ngini = 0.698\\nsamples = 80\\nvalue = [29, 1, 4, 0, 26, 0, 0, 0, 0, 20, 0, 0]'),\n",
       " Text(152.71012536162007, 146.53565217391304, 'X[511] <= -0.921\\ngini = 0.578\\nsamples = 46\\nvalue = [0, 1, 3, 0, 22, 0, 0, 0, 0, 20, 0, 0]'),\n",
       " Text(151.41870781099325, 137.08173913043478, 'X[245] <= -0.485\\ngini = 0.342\\nsamples = 25\\nvalue = [0, 1, 3, 0, 1, 0, 0, 0, 0, 20, 0, 0]'),\n",
       " Text(148.83587270973965, 127.62782608695652, 'X[261] <= -0.188\\ngini = 0.091\\nsamples = 21\\nvalue = [0, 0, 0, 0, 1, 0, 0, 0, 0, 20, 0, 0]'),\n",
       " Text(147.54445515911283, 118.17391304347825, 'gini = 0.0\\nsamples = 1\\nvalue = [0, 0, 0, 0, 1, 0, 0, 0, 0, 0, 0, 0]'),\n",
       " Text(150.12729026036646, 118.17391304347825, 'gini = 0.0\\nsamples = 20\\nvalue = [0, 0, 0, 0, 0, 0, 0, 0, 0, 20, 0, 0]'),\n",
       " Text(154.0015429122469, 127.62782608695652, 'X[326] <= -0.943\\ngini = 0.375\\nsamples = 4\\nvalue = [0, 1, 3, 0, 0, 0, 0, 0, 0, 0, 0, 0]'),\n",
       " Text(152.71012536162007, 118.17391304347825, 'gini = 0.0\\nsamples = 1\\nvalue = [0, 1, 0, 0, 0, 0, 0, 0, 0, 0, 0, 0]'),\n",
       " Text(155.29296046287368, 118.17391304347825, 'gini = 0.0\\nsamples = 3\\nvalue = [0, 0, 3, 0, 0, 0, 0, 0, 0, 0, 0, 0]'),\n",
       " Text(154.0015429122469, 137.08173913043478, 'gini = 0.0\\nsamples = 21\\nvalue = [0, 0, 0, 0, 21, 0, 0, 0, 0, 0, 0, 0]'),\n",
       " Text(157.8757955641273, 146.53565217391304, 'X[141] <= -0.246\\ngini = 0.258\\nsamples = 34\\nvalue = [29, 0, 1, 0, 4, 0, 0, 0, 0, 0, 0, 0]'),\n",
       " Text(156.5843780135005, 137.08173913043478, 'gini = 0.0\\nsamples = 29\\nvalue = [29, 0, 0, 0, 0, 0, 0, 0, 0, 0, 0, 0]'),\n",
       " Text(159.1672131147541, 137.08173913043478, 'X[1] <= 0.088\\ngini = 0.32\\nsamples = 5\\nvalue = [0, 0, 1, 0, 4, 0, 0, 0, 0, 0, 0, 0]'),\n",
       " Text(157.8757955641273, 127.62782608695652, 'gini = 0.0\\nsamples = 4\\nvalue = [0, 0, 0, 0, 4, 0, 0, 0, 0, 0, 0, 0]'),\n",
       " Text(160.45863066538092, 127.62782608695652, 'gini = 0.0\\nsamples = 1\\nvalue = [0, 0, 1, 0, 0, 0, 0, 0, 0, 0, 0, 0]'),\n",
       " Text(202.10684667309548, 165.44347826086957, 'X[1] <= 0.078\\ngini = 0.884\\nsamples = 464\\nvalue = [50, 46, 79, 42, 50, 59, 8, 0, 15, 20, 23, 72]'),\n",
       " Text(183.2198649951784, 155.98956521739132, 'X[290] <= -0.9\\ngini = 0.857\\nsamples = 300\\nvalue = [50, 46, 6, 41, 48, 59, 5, 0, 10, 10, 23, 2]'),\n",
       " Text(173.6956605593057, 146.53565217391304, 'X[52] <= 0.375\\ngini = 0.768\\nsamples = 140\\nvalue = [0, 46, 6, 41, 0, 0, 4, 0, 10, 8, 23, 2]'),\n",
       " Text(166.27000964320155, 137.08173913043478, 'X[22] <= 0.293\\ngini = 0.609\\nsamples = 100\\nvalue = [0, 46, 3, 41, 0, 0, 0, 0, 10, 0, 0, 0]'),\n",
       " Text(163.04146576663453, 127.62782608695652, 'X[360] <= -0.961\\ngini = 0.355\\nsamples = 13\\nvalue = [0, 0, 3, 0, 0, 0, 0, 0, 10, 0, 0, 0]'),\n",
       " Text(161.7500482160077, 118.17391304347825, 'gini = 0.0\\nsamples = 10\\nvalue = [0, 0, 0, 0, 0, 0, 0, 0, 10, 0, 0, 0]'),\n",
       " Text(164.33288331726135, 118.17391304347825, 'gini = 0.0\\nsamples = 3\\nvalue = [0, 0, 3, 0, 0, 0, 0, 0, 0, 0, 0, 0]'),\n",
       " Text(169.49855351976856, 127.62782608695652, 'X[16] <= -0.501\\ngini = 0.498\\nsamples = 87\\nvalue = [0, 46, 0, 41, 0, 0, 0, 0, 0, 0, 0, 0]'),\n",
       " Text(166.91571841851496, 118.17391304347825, 'X[52] <= 0.296\\ngini = 0.153\\nsamples = 24\\nvalue = [0, 22, 0, 2, 0, 0, 0, 0, 0, 0, 0, 0]'),\n",
       " Text(165.62430086788814, 108.72, 'gini = 0.0\\nsamples = 22\\nvalue = [0, 22, 0, 0, 0, 0, 0, 0, 0, 0, 0, 0]'),\n",
       " Text(168.20713596914177, 108.72, 'gini = 0.0\\nsamples = 2\\nvalue = [0, 0, 0, 2, 0, 0, 0, 0, 0, 0, 0, 0]'),\n",
       " Text(172.0813886210222, 118.17391304347825, 'X[132] <= 0.518\\ngini = 0.472\\nsamples = 63\\nvalue = [0, 24, 0, 39, 0, 0, 0, 0, 0, 0, 0, 0]'),\n",
       " Text(170.78997107039538, 108.72, 'gini = 0.0\\nsamples = 19\\nvalue = [0, 0, 0, 19, 0, 0, 0, 0, 0, 0, 0, 0]'),\n",
       " Text(173.372806171649, 108.72, 'X[156] <= 0.134\\ngini = 0.496\\nsamples = 44\\nvalue = [0, 24, 0, 20, 0, 0, 0, 0, 0, 0, 0, 0]'),\n",
       " Text(170.78997107039538, 99.26608695652173, 'X[391] <= -0.995\\ngini = 0.142\\nsamples = 13\\nvalue = [0, 1, 0, 12, 0, 0, 0, 0, 0, 0, 0, 0]'),\n",
       " Text(169.49855351976856, 89.81217391304348, 'gini = 0.0\\nsamples = 1\\nvalue = [0, 1, 0, 0, 0, 0, 0, 0, 0, 0, 0, 0]'),\n",
       " Text(172.0813886210222, 89.81217391304348, 'gini = 0.0\\nsamples = 12\\nvalue = [0, 0, 0, 12, 0, 0, 0, 0, 0, 0, 0, 0]'),\n",
       " Text(175.95564127290262, 99.26608695652173, 'X[412] <= -0.964\\ngini = 0.383\\nsamples = 31\\nvalue = [0, 23, 0, 8, 0, 0, 0, 0, 0, 0, 0, 0]'),\n",
       " Text(174.6642237222758, 89.81217391304348, 'X[103] <= 0.022\\ngini = 0.252\\nsamples = 27\\nvalue = [0, 23, 0, 4, 0, 0, 0, 0, 0, 0, 0, 0]'),\n",
       " Text(172.0813886210222, 80.35826086956521, 'X[239] <= -0.455\\ngini = 0.375\\nsamples = 4\\nvalue = [0, 1, 0, 3, 0, 0, 0, 0, 0, 0, 0, 0]'),\n",
       " Text(170.78997107039538, 70.90434782608696, 'gini = 0.0\\nsamples = 1\\nvalue = [0, 1, 0, 0, 0, 0, 0, 0, 0, 0, 0, 0]'),\n",
       " Text(173.372806171649, 70.90434782608696, 'gini = 0.0\\nsamples = 3\\nvalue = [0, 0, 0, 3, 0, 0, 0, 0, 0, 0, 0, 0]'),\n",
       " Text(177.24705882352941, 80.35826086956521, 'X[481] <= -1.0\\ngini = 0.083\\nsamples = 23\\nvalue = [0, 22, 0, 1, 0, 0, 0, 0, 0, 0, 0, 0]'),\n",
       " Text(175.95564127290262, 70.90434782608696, 'gini = 0.0\\nsamples = 1\\nvalue = [0, 0, 0, 1, 0, 0, 0, 0, 0, 0, 0, 0]'),\n",
       " Text(178.53847637415623, 70.90434782608696, 'gini = 0.0\\nsamples = 22\\nvalue = [0, 22, 0, 0, 0, 0, 0, 0, 0, 0, 0, 0]'),\n",
       " Text(177.24705882352941, 89.81217391304348, 'gini = 0.0\\nsamples = 4\\nvalue = [0, 0, 0, 4, 0, 0, 0, 0, 0, 0, 0, 0]'),\n",
       " Text(181.12131147540984, 137.08173913043478, 'X[121] <= 0.047\\ngini = 0.611\\nsamples = 40\\nvalue = [0, 0, 3, 0, 0, 0, 4, 0, 0, 8, 23, 2]'),\n",
       " Text(178.53847637415623, 127.62782608695652, 'X[299] <= 0.133\\ngini = 0.21\\nsamples = 26\\nvalue = [0, 0, 1, 0, 0, 0, 2, 0, 0, 0, 23, 0]'),\n",
       " Text(177.24705882352941, 118.17391304347825, 'X[13] <= 0.294\\ngini = 0.444\\nsamples = 3\\nvalue = [0, 0, 1, 0, 0, 0, 2, 0, 0, 0, 0, 0]'),\n",
       " Text(175.95564127290262, 108.72, 'gini = 0.0\\nsamples = 1\\nvalue = [0, 0, 1, 0, 0, 0, 0, 0, 0, 0, 0, 0]'),\n",
       " Text(178.53847637415623, 108.72, 'gini = 0.0\\nsamples = 2\\nvalue = [0, 0, 0, 0, 0, 0, 2, 0, 0, 0, 0, 0]'),\n",
       " Text(179.82989392478305, 118.17391304347825, 'gini = 0.0\\nsamples = 23\\nvalue = [0, 0, 0, 0, 0, 0, 0, 0, 0, 0, 23, 0]'),\n",
       " Text(183.70414657666348, 127.62782608695652, 'X[66] <= 0.822\\ngini = 0.612\\nsamples = 14\\nvalue = [0, 0, 2, 0, 0, 0, 2, 0, 0, 8, 0, 2]'),\n",
       " Text(182.41272902603666, 118.17391304347825, 'gini = 0.0\\nsamples = 8\\nvalue = [0, 0, 0, 0, 0, 0, 0, 0, 0, 8, 0, 0]'),\n",
       " Text(184.99556412729027, 118.17391304347825, 'X[163] <= -0.854\\ngini = 0.667\\nsamples = 6\\nvalue = [0, 0, 2, 0, 0, 0, 2, 0, 0, 0, 0, 2]'),\n",
       " Text(183.70414657666348, 108.72, 'gini = 0.0\\nsamples = 2\\nvalue = [0, 0, 0, 0, 0, 0, 2, 0, 0, 0, 0, 0]'),\n",
       " Text(186.28698167791708, 108.72, 'X[218] <= 0.125\\ngini = 0.5\\nsamples = 4\\nvalue = [0, 0, 2, 0, 0, 0, 0, 0, 0, 0, 0, 2]'),\n",
       " Text(184.99556412729027, 99.26608695652173, 'gini = 0.0\\nsamples = 2\\nvalue = [0, 0, 0, 0, 0, 0, 0, 0, 0, 0, 0, 2]'),\n",
       " Text(187.5783992285439, 99.26608695652173, 'gini = 0.0\\nsamples = 2\\nvalue = [0, 0, 2, 0, 0, 0, 0, 0, 0, 0, 0, 0]'),\n",
       " Text(192.74406943105112, 146.53565217391304, 'X[37] <= -0.335\\ngini = 0.676\\nsamples = 160\\nvalue = [50, 0, 0, 0, 48, 59, 1, 0, 0, 2, 0, 0]'),\n",
       " Text(187.5783992285439, 137.08173913043478, 'X[459] <= -0.446\\ngini = 0.171\\nsamples = 53\\nvalue = [0, 0, 0, 0, 5, 48, 0, 0, 0, 0, 0, 0]'),\n",
       " Text(186.28698167791708, 127.62782608695652, 'gini = 0.0\\nsamples = 47\\nvalue = [0, 0, 0, 0, 0, 47, 0, 0, 0, 0, 0, 0]'),\n",
       " Text(188.8698167791707, 127.62782608695652, 'X[255] <= -0.622\\ngini = 0.278\\nsamples = 6\\nvalue = [0, 0, 0, 0, 5, 1, 0, 0, 0, 0, 0, 0]'),\n",
       " Text(187.5783992285439, 118.17391304347825, 'gini = 0.0\\nsamples = 5\\nvalue = [0, 0, 0, 0, 5, 0, 0, 0, 0, 0, 0, 0]'),\n",
       " Text(190.1612343297975, 118.17391304347825, 'gini = 0.0\\nsamples = 1\\nvalue = [0, 0, 0, 0, 0, 1, 0, 0, 0, 0, 0, 0]'),\n",
       " Text(197.90973963355836, 137.08173913043478, 'X[57] <= -0.966\\ngini = 0.609\\nsamples = 107\\nvalue = [50, 0, 0, 0, 43, 11, 1, 0, 0, 2, 0, 0]'),\n",
       " Text(194.03548698167793, 127.62782608695652, 'X[504] <= -0.383\\ngini = 0.405\\nsamples = 64\\nvalue = [48, 0, 0, 0, 3, 11, 0, 0, 0, 2, 0, 0]'),\n",
       " Text(192.74406943105112, 118.17391304347825, 'gini = 0.0\\nsamples = 40\\nvalue = [40, 0, 0, 0, 0, 0, 0, 0, 0, 0, 0, 0]'),\n",
       " Text(195.32690453230475, 118.17391304347825, 'X[156] <= 0.357\\ngini = 0.656\\nsamples = 24\\nvalue = [8, 0, 0, 0, 3, 11, 0, 0, 0, 2, 0, 0]'),\n",
       " Text(194.03548698167793, 108.72, 'X[76] <= 0.868\\ngini = 0.477\\nsamples = 16\\nvalue = [0, 0, 0, 0, 3, 11, 0, 0, 0, 2, 0, 0]'),\n",
       " Text(192.74406943105112, 99.26608695652173, 'gini = 0.0\\nsamples = 11\\nvalue = [0, 0, 0, 0, 0, 11, 0, 0, 0, 0, 0, 0]'),\n",
       " Text(195.32690453230475, 99.26608695652173, 'X[316] <= -0.759\\ngini = 0.48\\nsamples = 5\\nvalue = [0, 0, 0, 0, 3, 0, 0, 0, 0, 2, 0, 0]'),\n",
       " Text(194.03548698167793, 89.81217391304348, 'gini = 0.0\\nsamples = 3\\nvalue = [0, 0, 0, 0, 3, 0, 0, 0, 0, 0, 0, 0]'),\n",
       " Text(196.61832208293154, 89.81217391304348, 'gini = 0.0\\nsamples = 2\\nvalue = [0, 0, 0, 0, 0, 0, 0, 0, 0, 2, 0, 0]'),\n",
       " Text(196.61832208293154, 108.72, 'gini = 0.0\\nsamples = 8\\nvalue = [8, 0, 0, 0, 0, 0, 0, 0, 0, 0, 0, 0]'),\n",
       " Text(201.78399228543879, 127.62782608695652, 'X[229] <= -0.143\\ngini = 0.132\\nsamples = 43\\nvalue = [2, 0, 0, 0, 40, 0, 1, 0, 0, 0, 0, 0]'),\n",
       " Text(200.49257473481197, 118.17391304347825, 'X[207] <= -0.346\\ngini = 0.048\\nsamples = 41\\nvalue = [0, 0, 0, 0, 40, 0, 1, 0, 0, 0, 0, 0]'),\n",
       " Text(199.20115718418515, 108.72, 'gini = 0.0\\nsamples = 40\\nvalue = [0, 0, 0, 0, 40, 0, 0, 0, 0, 0, 0, 0]'),\n",
       " Text(201.78399228543879, 108.72, 'gini = 0.0\\nsamples = 1\\nvalue = [0, 0, 0, 0, 0, 0, 1, 0, 0, 0, 0, 0]'),\n",
       " Text(203.07540983606557, 118.17391304347825, 'gini = 0.0\\nsamples = 2\\nvalue = [2, 0, 0, 0, 0, 0, 0, 0, 0, 0, 0, 0]'),\n",
       " Text(220.99382835101255, 155.98956521739132, 'X[53] <= -0.088\\ngini = 0.615\\nsamples = 164\\nvalue = [0, 0, 73, 1, 2, 0, 3, 0, 5, 10, 0, 70]'),\n",
       " Text(212.43818707810993, 146.53565217391304, 'X[136] <= -0.905\\ngini = 0.42\\nsamples = 78\\nvalue = [0, 0, 58, 1, 0, 0, 1, 0, 0, 10, 0, 8]'),\n",
       " Text(208.24108003857282, 137.08173913043478, 'X[238] <= 0.061\\ngini = 0.379\\nsamples = 13\\nvalue = [0, 0, 0, 0, 0, 0, 1, 0, 0, 10, 0, 2]'),\n",
       " Text(206.949662487946, 127.62782608695652, 'X[160] <= -0.088\\ngini = 0.444\\nsamples = 3\\nvalue = [0, 0, 0, 0, 0, 0, 1, 0, 0, 0, 0, 2]'),\n",
       " Text(205.6582449373192, 118.17391304347825, 'gini = 0.0\\nsamples = 1\\nvalue = [0, 0, 0, 0, 0, 0, 1, 0, 0, 0, 0, 0]'),\n",
       " Text(208.24108003857282, 118.17391304347825, 'gini = 0.0\\nsamples = 2\\nvalue = [0, 0, 0, 0, 0, 0, 0, 0, 0, 0, 0, 2]'),\n",
       " Text(209.53249758919964, 127.62782608695652, 'gini = 0.0\\nsamples = 10\\nvalue = [0, 0, 0, 0, 0, 0, 0, 0, 0, 10, 0, 0]'),\n",
       " Text(216.63529411764708, 137.08173913043478, 'X[187] <= 0.203\\ngini = 0.195\\nsamples = 65\\nvalue = [0, 0, 58, 1, 0, 0, 0, 0, 0, 0, 0, 6]'),\n",
       " Text(213.40675024108006, 127.62782608695652, 'X[506] <= 0.239\\ngini = 0.098\\nsamples = 59\\nvalue = [0, 0, 56, 1, 0, 0, 0, 0, 0, 0, 0, 2]'),\n",
       " Text(210.82391513982643, 118.17391304347825, 'X[416] <= -1.0\\ngini = 0.034\\nsamples = 57\\nvalue = [0, 0, 56, 0, 0, 0, 0, 0, 0, 0, 0, 1]'),\n",
       " Text(209.53249758919964, 108.72, 'gini = 0.0\\nsamples = 1\\nvalue = [0, 0, 0, 0, 0, 0, 0, 0, 0, 0, 0, 1]'),\n",
       " Text(212.11533269045324, 108.72, 'gini = 0.0\\nsamples = 56\\nvalue = [0, 0, 56, 0, 0, 0, 0, 0, 0, 0, 0, 0]'),\n",
       " Text(215.98958534233367, 118.17391304347825, 'X[275] <= 0.055\\ngini = 0.5\\nsamples = 2\\nvalue = [0, 0, 0, 1, 0, 0, 0, 0, 0, 0, 0, 1]'),\n",
       " Text(214.69816779170685, 108.72, 'gini = 0.0\\nsamples = 1\\nvalue = [0, 0, 0, 1, 0, 0, 0, 0, 0, 0, 0, 0]'),\n",
       " Text(217.2810028929605, 108.72, 'gini = 0.0\\nsamples = 1\\nvalue = [0, 0, 0, 0, 0, 0, 0, 0, 0, 0, 0, 1]'),\n",
       " Text(219.8638379942141, 127.62782608695652, 'X[137] <= -0.727\\ngini = 0.444\\nsamples = 6\\nvalue = [0, 0, 2, 0, 0, 0, 0, 0, 0, 0, 0, 4]'),\n",
       " Text(218.57242044358728, 118.17391304347825, 'gini = 0.0\\nsamples = 4\\nvalue = [0, 0, 0, 0, 0, 0, 0, 0, 0, 0, 0, 4]'),\n",
       " Text(221.1552555448409, 118.17391304347825, 'gini = 0.0\\nsamples = 2\\nvalue = [0, 0, 2, 0, 0, 0, 0, 0, 0, 0, 0, 0]'),\n",
       " Text(229.54946962391514, 146.53565217391304, 'X[17] <= -0.826\\ngini = 0.445\\nsamples = 86\\nvalue = [0, 0, 15, 0, 2, 0, 2, 0, 5, 0, 0, 62]'),\n",
       " Text(226.32092574734813, 137.08173913043478, 'X[506] <= -0.342\\ngini = 0.727\\nsamples = 11\\nvalue = [0, 0, 3, 0, 2, 0, 2, 0, 4, 0, 0, 0]'),\n",
       " Text(225.02950819672134, 127.62782608695652, 'X[57] <= -0.587\\ngini = 0.653\\nsamples = 7\\nvalue = [0, 0, 3, 0, 2, 0, 2, 0, 0, 0, 0, 0]'),\n",
       " Text(223.73809064609452, 118.17391304347825, 'X[44] <= -0.753\\ngini = 0.5\\nsamples = 4\\nvalue = [0, 0, 0, 0, 2, 0, 2, 0, 0, 0, 0, 0]'),\n",
       " Text(222.4466730954677, 108.72, 'gini = 0.0\\nsamples = 2\\nvalue = [0, 0, 0, 0, 2, 0, 0, 0, 0, 0, 0, 0]'),\n",
       " Text(225.02950819672134, 108.72, 'gini = 0.0\\nsamples = 2\\nvalue = [0, 0, 0, 0, 0, 0, 2, 0, 0, 0, 0, 0]'),\n",
       " Text(226.32092574734813, 118.17391304347825, 'gini = 0.0\\nsamples = 3\\nvalue = [0, 0, 3, 0, 0, 0, 0, 0, 0, 0, 0, 0]'),\n",
       " Text(227.61234329797495, 127.62782608695652, 'gini = 0.0\\nsamples = 4\\nvalue = [0, 0, 0, 0, 0, 0, 0, 0, 4, 0, 0, 0]'),\n",
       " Text(232.7780135004822, 137.08173913043478, 'X[244] <= 0.18\\ngini = 0.291\\nsamples = 75\\nvalue = [0, 0, 12, 0, 0, 0, 0, 0, 1, 0, 0, 62]'),\n",
       " Text(231.48659594985537, 127.62782608695652, 'X[198] <= -0.121\\ngini = 0.225\\nsamples = 71\\nvalue = [0, 0, 8, 0, 0, 0, 0, 0, 1, 0, 0, 62]'),\n",
       " Text(228.90376084860176, 118.17391304347825, 'X[387] <= -0.994\\ngini = 0.547\\nsamples = 17\\nvalue = [0, 0, 7, 0, 0, 0, 0, 0, 1, 0, 0, 9]'),\n",
       " Text(227.61234329797495, 108.72, 'gini = 0.0\\nsamples = 7\\nvalue = [0, 0, 0, 0, 0, 0, 0, 0, 0, 0, 0, 7]'),\n",
       " Text(230.19517839922855, 108.72, 'X[442] <= -0.559\\ngini = 0.46\\nsamples = 10\\nvalue = [0, 0, 7, 0, 0, 0, 0, 0, 1, 0, 0, 2]'),\n",
       " Text(228.90376084860176, 99.26608695652173, 'gini = 0.0\\nsamples = 7\\nvalue = [0, 0, 7, 0, 0, 0, 0, 0, 0, 0, 0, 0]'),\n",
       " Text(231.48659594985537, 99.26608695652173, 'X[32] <= -0.342\\ngini = 0.444\\nsamples = 3\\nvalue = [0, 0, 0, 0, 0, 0, 0, 0, 1, 0, 0, 2]'),\n",
       " Text(230.19517839922855, 89.81217391304348, 'gini = 0.0\\nsamples = 1\\nvalue = [0, 0, 0, 0, 0, 0, 0, 0, 1, 0, 0, 0]'),\n",
       " Text(232.7780135004822, 89.81217391304348, 'gini = 0.0\\nsamples = 2\\nvalue = [0, 0, 0, 0, 0, 0, 0, 0, 0, 0, 0, 2]'),\n",
       " Text(234.06943105110898, 118.17391304347825, 'X[108] <= 0.312\\ngini = 0.036\\nsamples = 54\\nvalue = [0, 0, 1, 0, 0, 0, 0, 0, 0, 0, 0, 53]'),\n",
       " Text(232.7780135004822, 108.72, 'gini = 0.0\\nsamples = 53\\nvalue = [0, 0, 0, 0, 0, 0, 0, 0, 0, 0, 0, 53]'),\n",
       " Text(235.3608486017358, 108.72, 'gini = 0.0\\nsamples = 1\\nvalue = [0, 0, 1, 0, 0, 0, 0, 0, 0, 0, 0, 0]'),\n",
       " Text(234.06943105110898, 127.62782608695652, 'gini = 0.0\\nsamples = 4\\nvalue = [0, 0, 4, 0, 0, 0, 0, 0, 0, 0, 0, 0]'),\n",
       " Text(255.7813886210222, 174.89739130434782, 'X[448] <= -0.967\\ngini = 0.326\\nsamples = 1328\\nvalue = [1075, 1, 1, 0, 154, 97, 0, 0, 0, 0, 0, 0]'),\n",
       " Text(242.46364513018324, 165.44347826086957, 'X[504] <= -0.128\\ngini = 0.589\\nsamples = 128\\nvalue = [14, 0, 0, 0, 61, 53, 0, 0, 0, 0, 0, 0]'),\n",
       " Text(239.23510125361622, 155.98956521739132, 'X[297] <= -0.675\\ngini = 0.49\\nsamples = 77\\nvalue = [14, 0, 0, 0, 52, 11, 0, 0, 0, 0, 0, 0]'),\n",
       " Text(236.6522661523626, 146.53565217391304, 'X[190] <= 0.042\\ngini = 0.142\\nsamples = 13\\nvalue = [12, 0, 0, 0, 0, 1, 0, 0, 0, 0, 0, 0]'),\n",
       " Text(235.3608486017358, 137.08173913043478, 'gini = 0.0\\nsamples = 1\\nvalue = [0, 0, 0, 0, 0, 1, 0, 0, 0, 0, 0, 0]'),\n",
       " Text(237.9436837029894, 137.08173913043478, 'gini = 0.0\\nsamples = 12\\nvalue = [12, 0, 0, 0, 0, 0, 0, 0, 0, 0, 0, 0]'),\n",
       " Text(241.81793635486983, 146.53565217391304, 'X[57] <= -0.946\\ngini = 0.314\\nsamples = 64\\nvalue = [2, 0, 0, 0, 52, 10, 0, 0, 0, 0, 0, 0]'),\n",
       " Text(240.526518804243, 137.08173913043478, 'gini = 0.0\\nsamples = 8\\nvalue = [0, 0, 0, 0, 0, 8, 0, 0, 0, 0, 0, 0]'),\n",
       " Text(243.10935390549665, 137.08173913043478, 'X[330] <= -0.937\\ngini = 0.135\\nsamples = 56\\nvalue = [2, 0, 0, 0, 52, 2, 0, 0, 0, 0, 0, 0]'),\n",
       " Text(240.526518804243, 127.62782608695652, 'X[143] <= 0.311\\ngini = 0.625\\nsamples = 4\\nvalue = [2, 0, 0, 0, 1, 1, 0, 0, 0, 0, 0, 0]'),\n",
       " Text(239.23510125361622, 118.17391304347825, 'gini = 0.0\\nsamples = 2\\nvalue = [2, 0, 0, 0, 0, 0, 0, 0, 0, 0, 0, 0]'),\n",
       " Text(241.81793635486983, 118.17391304347825, 'X[513] <= -0.381\\ngini = 0.5\\nsamples = 2\\nvalue = [0, 0, 0, 0, 1, 1, 0, 0, 0, 0, 0, 0]'),\n",
       " Text(240.526518804243, 108.72, 'gini = 0.0\\nsamples = 1\\nvalue = [0, 0, 0, 0, 0, 1, 0, 0, 0, 0, 0, 0]'),\n",
       " Text(243.10935390549665, 108.72, 'gini = 0.0\\nsamples = 1\\nvalue = [0, 0, 0, 0, 1, 0, 0, 0, 0, 0, 0, 0]'),\n",
       " Text(245.69218900675025, 127.62782608695652, 'X[69] <= -0.273\\ngini = 0.038\\nsamples = 52\\nvalue = [0, 0, 0, 0, 51, 1, 0, 0, 0, 0, 0, 0]'),\n",
       " Text(244.40077145612344, 118.17391304347825, 'gini = 0.0\\nsamples = 1\\nvalue = [0, 0, 0, 0, 0, 1, 0, 0, 0, 0, 0, 0]'),\n",
       " Text(246.98360655737707, 118.17391304347825, 'gini = 0.0\\nsamples = 51\\nvalue = [0, 0, 0, 0, 51, 0, 0, 0, 0, 0, 0, 0]'),\n",
       " Text(245.69218900675025, 155.98956521739132, 'X[53] <= -0.296\\ngini = 0.291\\nsamples = 51\\nvalue = [0, 0, 0, 0, 9, 42, 0, 0, 0, 0, 0, 0]'),\n",
       " Text(244.40077145612344, 146.53565217391304, 'gini = 0.0\\nsamples = 7\\nvalue = [0, 0, 0, 0, 7, 0, 0, 0, 0, 0, 0, 0]'),\n",
       " Text(246.98360655737707, 146.53565217391304, 'X[76] <= 0.751\\ngini = 0.087\\nsamples = 44\\nvalue = [0, 0, 0, 0, 2, 42, 0, 0, 0, 0, 0, 0]'),\n",
       " Text(245.69218900675025, 137.08173913043478, 'gini = 0.0\\nsamples = 42\\nvalue = [0, 0, 0, 0, 0, 42, 0, 0, 0, 0, 0, 0]'),\n",
       " Text(248.27502410800386, 137.08173913043478, 'gini = 0.0\\nsamples = 2\\nvalue = [0, 0, 0, 0, 2, 0, 0, 0, 0, 0, 0, 0]'),\n",
       " Text(269.09913211186114, 165.44347826086957, 'X[222] <= -0.23\\ngini = 0.211\\nsamples = 1200\\nvalue = [1061, 1, 1, 0, 93, 44, 0, 0, 0, 0, 0, 0]'),\n",
       " Text(257.31494696239156, 155.98956521739132, 'X[53] <= -0.273\\ngini = 0.654\\nsamples = 125\\nvalue = [46, 1, 0, 0, 50, 28, 0, 0, 0, 0, 0, 0]'),\n",
       " Text(256.02352941176474, 146.53565217391304, 'gini = 0.0\\nsamples = 36\\nvalue = [0, 0, 0, 0, 36, 0, 0, 0, 0, 0, 0, 0]'),\n",
       " Text(258.6063645130183, 146.53565217391304, 'X[274] <= -0.34\\ngini = 0.609\\nsamples = 89\\nvalue = [46, 1, 0, 0, 14, 28, 0, 0, 0, 0, 0, 0]'),\n",
       " Text(253.4406943105111, 137.08173913043478, 'X[174] <= 0.81\\ngini = 0.278\\nsamples = 51\\nvalue = [43, 1, 0, 0, 5, 2, 0, 0, 0, 0, 0, 0]'),\n",
       " Text(250.8578592092575, 127.62782608695652, 'X[455] <= -0.141\\ngini = 0.085\\nsamples = 45\\nvalue = [43, 0, 0, 0, 0, 2, 0, 0, 0, 0, 0, 0]'),\n",
       " Text(249.56644165863068, 118.17391304347825, 'gini = 0.0\\nsamples = 42\\nvalue = [42, 0, 0, 0, 0, 0, 0, 0, 0, 0, 0, 0]'),\n",
       " Text(252.1492767598843, 118.17391304347825, 'X[222] <= -0.274\\ngini = 0.444\\nsamples = 3\\nvalue = [1, 0, 0, 0, 0, 2, 0, 0, 0, 0, 0, 0]'),\n",
       " Text(250.8578592092575, 108.72, 'gini = 0.0\\nsamples = 2\\nvalue = [0, 0, 0, 0, 0, 2, 0, 0, 0, 0, 0, 0]'),\n",
       " Text(253.4406943105111, 108.72, 'gini = 0.0\\nsamples = 1\\nvalue = [1, 0, 0, 0, 0, 0, 0, 0, 0, 0, 0, 0]'),\n",
       " Text(256.02352941176474, 127.62782608695652, 'X[177] <= -0.977\\ngini = 0.278\\nsamples = 6\\nvalue = [0, 1, 0, 0, 5, 0, 0, 0, 0, 0, 0, 0]'),\n",
       " Text(254.73211186113792, 118.17391304347825, 'gini = 0.0\\nsamples = 1\\nvalue = [0, 1, 0, 0, 0, 0, 0, 0, 0, 0, 0, 0]'),\n",
       " Text(257.31494696239156, 118.17391304347825, 'gini = 0.0\\nsamples = 5\\nvalue = [0, 0, 0, 0, 5, 0, 0, 0, 0, 0, 0, 0]'),\n",
       " Text(263.7720347155256, 137.08173913043478, 'X[276] <= -0.629\\ngini = 0.47\\nsamples = 38\\nvalue = [3, 0, 0, 0, 9, 26, 0, 0, 0, 0, 0, 0]'),\n",
       " Text(261.18919961427196, 127.62782608695652, 'X[159] <= 0.185\\ngini = 0.19\\nsamples = 29\\nvalue = [2, 0, 0, 0, 1, 26, 0, 0, 0, 0, 0, 0]'),\n",
       " Text(259.89778206364514, 118.17391304347825, 'gini = 0.0\\nsamples = 26\\nvalue = [0, 0, 0, 0, 0, 26, 0, 0, 0, 0, 0, 0]'),\n",
       " Text(262.4806171648988, 118.17391304347825, 'X[319] <= -0.819\\ngini = 0.444\\nsamples = 3\\nvalue = [2, 0, 0, 0, 1, 0, 0, 0, 0, 0, 0, 0]'),\n",
       " Text(261.18919961427196, 108.72, 'gini = 0.0\\nsamples = 1\\nvalue = [0, 0, 0, 0, 1, 0, 0, 0, 0, 0, 0, 0]'),\n",
       " Text(263.7720347155256, 108.72, 'gini = 0.0\\nsamples = 2\\nvalue = [2, 0, 0, 0, 0, 0, 0, 0, 0, 0, 0, 0]'),\n",
       " Text(266.35486981677917, 127.62782608695652, 'X[60] <= -0.983\\ngini = 0.198\\nsamples = 9\\nvalue = [1, 0, 0, 0, 8, 0, 0, 0, 0, 0, 0, 0]'),\n",
       " Text(265.06345226615235, 118.17391304347825, 'gini = 0.0\\nsamples = 1\\nvalue = [1, 0, 0, 0, 0, 0, 0, 0, 0, 0, 0, 0]'),\n",
       " Text(267.646287367406, 118.17391304347825, 'gini = 0.0\\nsamples = 8\\nvalue = [0, 0, 0, 0, 8, 0, 0, 0, 0, 0, 0, 0]'),\n",
       " Text(280.8833172613308, 155.98956521739132, 'X[559] <= 0.299\\ngini = 0.107\\nsamples = 1075\\nvalue = [1015, 0, 1, 0, 43, 16, 0, 0, 0, 0, 0, 0]'),\n",
       " Text(277.33191899710704, 146.53565217391304, 'X[202] <= -0.325\\ngini = 0.052\\nsamples = 983\\nvalue = [957, 0, 1, 0, 9, 16, 0, 0, 0, 0, 0, 0]'),\n",
       " Text(274.10337512054, 137.08173913043478, 'X[76] <= 0.789\\ngini = 0.036\\nsamples = 975\\nvalue = [957, 0, 0, 0, 9, 9, 0, 0, 0, 0, 0, 0]'),\n",
       " Text(271.52054001928644, 127.62782608695652, 'X[37] <= -0.514\\ngini = 0.027\\nsamples = 969\\nvalue = [956, 0, 0, 0, 4, 9, 0, 0, 0, 0, 0, 0]'),\n",
       " Text(270.2291224686596, 118.17391304347825, 'gini = 0.0\\nsamples = 4\\nvalue = [0, 0, 0, 0, 0, 4, 0, 0, 0, 0, 0, 0]'),\n",
       " Text(272.8119575699132, 118.17391304347825, 'X[266] <= -0.47\\ngini = 0.019\\nsamples = 965\\nvalue = [956, 0, 0, 0, 4, 5, 0, 0, 0, 0, 0, 0]'),\n",
       " Text(271.52054001928644, 108.72, 'gini = 0.0\\nsamples = 2\\nvalue = [0, 0, 0, 0, 2, 0, 0, 0, 0, 0, 0, 0]'),\n",
       " Text(274.10337512054, 108.72, 'X[157] <= 0.441\\ngini = 0.014\\nsamples = 963\\nvalue = [956, 0, 0, 0, 2, 5, 0, 0, 0, 0, 0, 0]'),\n",
       " Text(272.8119575699132, 99.26608695652173, 'X[505] <= -0.534\\ngini = 0.012\\nsamples = 962\\nvalue = [956, 0, 0, 0, 1, 5, 0, 0, 0, 0, 0, 0]'),\n",
       " Text(271.52054001928644, 89.81217391304348, 'X[290] <= -0.833\\ngini = 0.01\\nsamples = 961\\nvalue = [956, 0, 0, 0, 0, 5, 0, 0, 0, 0, 0, 0]'),\n",
       " Text(270.2291224686596, 80.35826086956521, 'gini = 0.0\\nsamples = 1\\nvalue = [0, 0, 0, 0, 0, 1, 0, 0, 0, 0, 0, 0]'),\n",
       " Text(272.8119575699132, 80.35826086956521, 'X[38] <= -0.573\\ngini = 0.008\\nsamples = 960\\nvalue = [956, 0, 0, 0, 0, 4, 0, 0, 0, 0, 0, 0]'),\n",
       " Text(271.52054001928644, 70.90434782608696, 'gini = 0.0\\nsamples = 1\\nvalue = [0, 0, 0, 0, 0, 1, 0, 0, 0, 0, 0, 0]'),\n",
       " Text(274.10337512054, 70.90434782608696, 'X[370] <= -0.72\\ngini = 0.006\\nsamples = 959\\nvalue = [956, 0, 0, 0, 0, 3, 0, 0, 0, 0, 0, 0]'),\n",
       " Text(272.8119575699132, 61.45043478260868, 'gini = 0.0\\nsamples = 1\\nvalue = [0, 0, 0, 0, 0, 1, 0, 0, 0, 0, 0, 0]'),\n",
       " Text(275.39479267116684, 61.45043478260868, 'X[556] <= 0.991\\ngini = 0.004\\nsamples = 958\\nvalue = [956, 0, 0, 0, 0, 2, 0, 0, 0, 0, 0, 0]'),\n",
       " Text(274.10337512054, 51.99652173913043, 'X[142] <= 0.801\\ngini = 0.002\\nsamples = 957\\nvalue = [956, 0, 0, 0, 0, 1, 0, 0, 0, 0, 0, 0]'),\n",
       " Text(272.8119575699132, 42.54260869565218, 'gini = 0.0\\nsamples = 955\\nvalue = [955, 0, 0, 0, 0, 0, 0, 0, 0, 0, 0, 0]'),\n",
       " Text(275.39479267116684, 42.54260869565218, 'X[332] <= -0.907\\ngini = 0.5\\nsamples = 2\\nvalue = [1, 0, 0, 0, 0, 1, 0, 0, 0, 0, 0, 0]'),\n",
       " Text(274.10337512054, 33.0886956521739, 'gini = 0.0\\nsamples = 1\\nvalue = [1, 0, 0, 0, 0, 0, 0, 0, 0, 0, 0, 0]'),\n",
       " Text(276.68621022179366, 33.0886956521739, 'gini = 0.0\\nsamples = 1\\nvalue = [0, 0, 0, 0, 0, 1, 0, 0, 0, 0, 0, 0]'),\n",
       " Text(276.68621022179366, 51.99652173913043, 'gini = 0.0\\nsamples = 1\\nvalue = [0, 0, 0, 0, 0, 1, 0, 0, 0, 0, 0, 0]'),\n",
       " Text(274.10337512054, 89.81217391304348, 'gini = 0.0\\nsamples = 1\\nvalue = [0, 0, 0, 0, 1, 0, 0, 0, 0, 0, 0, 0]'),\n",
       " Text(275.39479267116684, 99.26608695652173, 'gini = 0.0\\nsamples = 1\\nvalue = [0, 0, 0, 0, 1, 0, 0, 0, 0, 0, 0, 0]'),\n",
       " Text(276.68621022179366, 127.62782608695652, 'X[207] <= -0.725\\ngini = 0.278\\nsamples = 6\\nvalue = [1, 0, 0, 0, 5, 0, 0, 0, 0, 0, 0, 0]'),\n",
       " Text(275.39479267116684, 118.17391304347825, 'gini = 0.0\\nsamples = 1\\nvalue = [1, 0, 0, 0, 0, 0, 0, 0, 0, 0, 0, 0]'),\n",
       " Text(277.9776277724205, 118.17391304347825, 'gini = 0.0\\nsamples = 5\\nvalue = [0, 0, 0, 0, 5, 0, 0, 0, 0, 0, 0, 0]'),\n",
       " Text(280.56046287367406, 137.08173913043478, 'X[380] <= -0.445\\ngini = 0.219\\nsamples = 8\\nvalue = [0, 0, 1, 0, 0, 7, 0, 0, 0, 0, 0, 0]'),\n",
       " Text(279.2690453230473, 127.62782608695652, 'gini = 0.0\\nsamples = 7\\nvalue = [0, 0, 0, 0, 0, 7, 0, 0, 0, 0, 0, 0]'),\n",
       " Text(281.8518804243009, 127.62782608695652, 'gini = 0.0\\nsamples = 1\\nvalue = [0, 0, 1, 0, 0, 0, 0, 0, 0, 0, 0, 0]'),\n",
       " Text(284.4347155255545, 146.53565217391304, 'X[197] <= 0.402\\ngini = 0.466\\nsamples = 92\\nvalue = [58, 0, 0, 0, 34, 0, 0, 0, 0, 0, 0, 0]'),\n",
       " Text(283.1432979749277, 137.08173913043478, 'gini = 0.0\\nsamples = 31\\nvalue = [0, 0, 0, 0, 31, 0, 0, 0, 0, 0, 0, 0]'),\n",
       " Text(285.7261330761813, 137.08173913043478, 'X[272] <= -0.126\\ngini = 0.094\\nsamples = 61\\nvalue = [58, 0, 0, 0, 3, 0, 0, 0, 0, 0, 0, 0]'),\n",
       " Text(284.4347155255545, 127.62782608695652, 'gini = 0.0\\nsamples = 3\\nvalue = [0, 0, 0, 0, 3, 0, 0, 0, 0, 0, 0, 0]'),\n",
       " Text(287.01755062680814, 127.62782608695652, 'gini = 0.0\\nsamples = 58\\nvalue = [58, 0, 0, 0, 0, 0, 0, 0, 0, 0, 0, 0]'),\n",
       " Text(301.9495660559306, 184.3513043478261, 'X[418] <= -0.963\\ngini = 0.263\\nsamples = 955\\nvalue = [50, 5, 0, 6, 76, 815, 0, 0, 0, 3, 0, 0]'),\n",
       " Text(292.18322082931536, 174.89739130434782, 'X[381] <= -0.529\\ngini = 0.521\\nsamples = 68\\nvalue = [0, 4, 0, 2, 44, 16, 0, 0, 0, 2, 0, 0]'),\n",
       " Text(290.89180327868854, 165.44347826086957, 'X[92] <= 0.308\\ngini = 0.37\\nsamples = 56\\nvalue = [0, 4, 0, 2, 44, 4, 0, 0, 0, 2, 0, 0]'),\n",
       " Text(288.3089681774349, 155.98956521739132, 'X[324] <= -0.537\\ngini = 0.083\\nsamples = 46\\nvalue = [0, 0, 0, 0, 44, 0, 0, 0, 0, 2, 0, 0]'),\n",
       " Text(287.01755062680814, 146.53565217391304, 'gini = 0.0\\nsamples = 44\\nvalue = [0, 0, 0, 0, 44, 0, 0, 0, 0, 0, 0, 0]'),\n",
       " Text(289.6003857280617, 146.53565217391304, 'gini = 0.0\\nsamples = 2\\nvalue = [0, 0, 0, 0, 0, 0, 0, 0, 0, 2, 0, 0]'),\n",
       " Text(293.4746383799422, 155.98956521739132, 'X[51] <= 0.01\\ngini = 0.64\\nsamples = 10\\nvalue = [0, 4, 0, 2, 0, 4, 0, 0, 0, 0, 0, 0]'),\n",
       " Text(292.18322082931536, 146.53565217391304, 'gini = 0.0\\nsamples = 4\\nvalue = [0, 0, 0, 0, 0, 4, 0, 0, 0, 0, 0, 0]'),\n",
       " Text(294.766055930569, 146.53565217391304, 'X[18] <= -0.691\\ngini = 0.444\\nsamples = 6\\nvalue = [0, 4, 0, 2, 0, 0, 0, 0, 0, 0, 0, 0]'),\n",
       " Text(293.4746383799422, 137.08173913043478, 'gini = 0.0\\nsamples = 2\\nvalue = [0, 0, 0, 2, 0, 0, 0, 0, 0, 0, 0, 0]'),\n",
       " Text(296.05747348119576, 137.08173913043478, 'gini = 0.0\\nsamples = 4\\nvalue = [0, 4, 0, 0, 0, 0, 0, 0, 0, 0, 0, 0]'),\n",
       " Text(293.4746383799422, 165.44347826086957, 'gini = 0.0\\nsamples = 12\\nvalue = [0, 0, 0, 0, 0, 12, 0, 0, 0, 0, 0, 0]'),\n",
       " Text(311.71591128254585, 174.89739130434782, 'X[503] <= -0.45\\ngini = 0.184\\nsamples = 887\\nvalue = [50, 1, 0, 4, 32, 799, 0, 0, 0, 1, 0, 0]'),\n",
       " Text(301.22314368370303, 165.44347826086957, 'X[473] <= -0.874\\ngini = 0.58\\nsamples = 63\\nvalue = [35, 0, 0, 0, 9, 19, 0, 0, 0, 0, 0, 0]'),\n",
       " Text(298.6403085824494, 155.98956521739132, 'X[102] <= 0.693\\ngini = 0.469\\nsamples = 24\\nvalue = [1, 0, 0, 0, 7, 16, 0, 0, 0, 0, 0, 0]'),\n",
       " Text(297.3488910318226, 146.53565217391304, 'gini = 0.0\\nsamples = 15\\nvalue = [0, 0, 0, 0, 0, 15, 0, 0, 0, 0, 0, 0]'),\n",
       " Text(299.9317261330762, 146.53565217391304, 'X[14] <= 0.382\\ngini = 0.37\\nsamples = 9\\nvalue = [1, 0, 0, 0, 7, 1, 0, 0, 0, 0, 0, 0]'),\n",
       " Text(298.6403085824494, 137.08173913043478, 'gini = 0.0\\nsamples = 7\\nvalue = [0, 0, 0, 0, 7, 0, 0, 0, 0, 0, 0, 0]'),\n",
       " Text(301.22314368370303, 137.08173913043478, 'X[391] <= -0.73\\ngini = 0.5\\nsamples = 2\\nvalue = [1, 0, 0, 0, 0, 1, 0, 0, 0, 0, 0, 0]'),\n",
       " Text(299.9317261330762, 127.62782608695652, 'gini = 0.0\\nsamples = 1\\nvalue = [1, 0, 0, 0, 0, 0, 0, 0, 0, 0, 0, 0]'),\n",
       " Text(302.5145612343298, 127.62782608695652, 'gini = 0.0\\nsamples = 1\\nvalue = [0, 0, 0, 0, 0, 1, 0, 0, 0, 0, 0, 0]'),\n",
       " Text(303.8059787849566, 155.98956521739132, 'X[316] <= -0.811\\ngini = 0.231\\nsamples = 39\\nvalue = [34, 0, 0, 0, 2, 3, 0, 0, 0, 0, 0, 0]'),\n",
       " Text(302.5145612343298, 146.53565217391304, 'gini = 0.0\\nsamples = 33\\nvalue = [33, 0, 0, 0, 0, 0, 0, 0, 0, 0, 0, 0]'),\n",
       " Text(305.0973963355834, 146.53565217391304, 'X[275] <= -0.516\\ngini = 0.611\\nsamples = 6\\nvalue = [1, 0, 0, 0, 2, 3, 0, 0, 0, 0, 0, 0]'),\n",
       " Text(303.8059787849566, 137.08173913043478, 'gini = 0.0\\nsamples = 3\\nvalue = [0, 0, 0, 0, 0, 3, 0, 0, 0, 0, 0, 0]'),\n",
       " Text(306.38881388621024, 137.08173913043478, 'X[13] <= -0.045\\ngini = 0.444\\nsamples = 3\\nvalue = [1, 0, 0, 0, 2, 0, 0, 0, 0, 0, 0, 0]'),\n",
       " Text(305.0973963355834, 127.62782608695652, 'gini = 0.0\\nsamples = 1\\nvalue = [1, 0, 0, 0, 0, 0, 0, 0, 0, 0, 0, 0]'),\n",
       " Text(307.68023143683706, 127.62782608695652, 'gini = 0.0\\nsamples = 2\\nvalue = [0, 0, 0, 0, 2, 0, 0, 0, 0, 0, 0, 0]'),\n",
       " Text(322.20867888138866, 165.44347826086957, 'X[102] <= 0.719\\ngini = 0.103\\nsamples = 824\\nvalue = [15, 1, 0, 4, 23, 780, 0, 0, 0, 1, 0, 0]'),\n",
       " Text(316.0744455159113, 155.98956521739132, 'X[290] <= -0.933\\ngini = 0.047\\nsamples = 757\\nvalue = [5, 1, 0, 4, 7, 739, 0, 0, 0, 1, 0, 0]'),\n",
       " Text(312.8459016393443, 146.53565217391304, 'X[197] <= -0.301\\ngini = 0.5\\nsamples = 6\\nvalue = [0, 1, 0, 4, 0, 0, 0, 0, 0, 1, 0, 0]'),\n",
       " Text(311.55448408871746, 137.08173913043478, 'X[79] <= 0.994\\ngini = 0.5\\nsamples = 2\\nvalue = [0, 1, 0, 0, 0, 0, 0, 0, 0, 1, 0, 0]'),\n",
       " Text(310.26306653809064, 127.62782608695652, 'gini = 0.0\\nsamples = 1\\nvalue = [0, 1, 0, 0, 0, 0, 0, 0, 0, 0, 0, 0]'),\n",
       " Text(312.8459016393443, 127.62782608695652, 'gini = 0.0\\nsamples = 1\\nvalue = [0, 0, 0, 0, 0, 0, 0, 0, 0, 1, 0, 0]'),\n",
       " Text(314.1373191899711, 137.08173913043478, 'gini = 0.0\\nsamples = 4\\nvalue = [0, 0, 0, 4, 0, 0, 0, 0, 0, 0, 0, 0]'),\n",
       " Text(319.3029893924783, 146.53565217391304, 'X[159] <= 0.218\\ngini = 0.032\\nsamples = 751\\nvalue = [5, 0, 0, 0, 7, 739, 0, 0, 0, 0, 0, 0]'),\n",
       " Text(316.72015429122473, 137.08173913043478, 'X[420] <= -0.988\\ngini = 0.011\\nsamples = 729\\nvalue = [0, 0, 0, 0, 4, 725, 0, 0, 0, 0, 0, 0]'),\n",
       " Text(315.4287367405979, 127.62782608695652, 'gini = 0.0\\nsamples = 1\\nvalue = [0, 0, 0, 0, 1, 0, 0, 0, 0, 0, 0, 0]'),\n",
       " Text(318.0115718418515, 127.62782608695652, 'X[180] <= -0.814\\ngini = 0.008\\nsamples = 728\\nvalue = [0, 0, 0, 0, 3, 725, 0, 0, 0, 0, 0, 0]'),\n",
       " Text(316.72015429122473, 118.17391304347825, 'gini = 0.0\\nsamples = 1\\nvalue = [0, 0, 0, 0, 1, 0, 0, 0, 0, 0, 0, 0]'),\n",
       " Text(319.3029893924783, 118.17391304347825, 'X[41] <= -0.385\\ngini = 0.005\\nsamples = 727\\nvalue = [0, 0, 0, 0, 2, 725, 0, 0, 0, 0, 0, 0]'),\n",
       " Text(316.72015429122473, 108.72, 'X[77] <= 0.966\\ngini = 0.5\\nsamples = 2\\nvalue = [0, 0, 0, 0, 1, 1, 0, 0, 0, 0, 0, 0]'),\n",
       " Text(315.4287367405979, 99.26608695652173, 'gini = 0.0\\nsamples = 1\\nvalue = [0, 0, 0, 0, 1, 0, 0, 0, 0, 0, 0, 0]'),\n",
       " Text(318.0115718418515, 99.26608695652173, 'gini = 0.0\\nsamples = 1\\nvalue = [0, 0, 0, 0, 0, 1, 0, 0, 0, 0, 0, 0]'),\n",
       " Text(321.88582449373195, 108.72, 'X[349] <= -0.724\\ngini = 0.003\\nsamples = 725\\nvalue = [0, 0, 0, 0, 1, 724, 0, 0, 0, 0, 0, 0]'),\n",
       " Text(320.5944069431051, 99.26608695652173, 'X[441] <= -0.854\\ngini = 0.5\\nsamples = 2\\nvalue = [0, 0, 0, 0, 1, 1, 0, 0, 0, 0, 0, 0]'),\n",
       " Text(319.3029893924783, 89.81217391304348, 'gini = 0.0\\nsamples = 1\\nvalue = [0, 0, 0, 0, 0, 1, 0, 0, 0, 0, 0, 0]'),\n",
       " Text(321.88582449373195, 89.81217391304348, 'gini = 0.0\\nsamples = 1\\nvalue = [0, 0, 0, 0, 1, 0, 0, 0, 0, 0, 0, 0]'),\n",
       " Text(323.17724204435876, 99.26608695652173, 'gini = 0.0\\nsamples = 723\\nvalue = [0, 0, 0, 0, 0, 723, 0, 0, 0, 0, 0, 0]'),\n",
       " Text(321.88582449373195, 137.08173913043478, 'X[23] <= 0.128\\ngini = 0.525\\nsamples = 22\\nvalue = [5, 0, 0, 0, 3, 14, 0, 0, 0, 0, 0, 0]'),\n",
       " Text(320.5944069431051, 127.62782608695652, 'gini = 0.0\\nsamples = 5\\nvalue = [5, 0, 0, 0, 0, 0, 0, 0, 0, 0, 0, 0]'),\n",
       " Text(323.17724204435876, 127.62782608695652, 'X[515] <= -0.153\\ngini = 0.291\\nsamples = 17\\nvalue = [0, 0, 0, 0, 3, 14, 0, 0, 0, 0, 0, 0]'),\n",
       " Text(321.88582449373195, 118.17391304347825, 'gini = 0.0\\nsamples = 3\\nvalue = [0, 0, 0, 0, 3, 0, 0, 0, 0, 0, 0, 0]'),\n",
       " Text(324.4686595949856, 118.17391304347825, 'gini = 0.0\\nsamples = 14\\nvalue = [0, 0, 0, 0, 0, 14, 0, 0, 0, 0, 0, 0]'),\n",
       " Text(328.342912246866, 155.98956521739132, 'X[41] <= -0.297\\ngini = 0.546\\nsamples = 67\\nvalue = [10, 0, 0, 0, 16, 41, 0, 0, 0, 0, 0, 0]'),\n",
       " Text(327.05149469623916, 146.53565217391304, 'gini = 0.0\\nsamples = 14\\nvalue = [0, 0, 0, 0, 14, 0, 0, 0, 0, 0, 0, 0]'),\n",
       " Text(329.6343297974928, 146.53565217391304, 'X[198] <= 0.482\\ngini = 0.365\\nsamples = 53\\nvalue = [10, 0, 0, 0, 2, 41, 0, 0, 0, 0, 0, 0]'),\n",
       " Text(327.05149469623916, 137.08173913043478, 'X[202] <= -0.336\\ngini = 0.135\\nsamples = 42\\nvalue = [1, 0, 0, 0, 2, 39, 0, 0, 0, 0, 0, 0]'),\n",
       " Text(325.76007714561234, 127.62782608695652, 'gini = 0.0\\nsamples = 2\\nvalue = [0, 0, 0, 0, 2, 0, 0, 0, 0, 0, 0, 0]'),\n",
       " Text(328.342912246866, 127.62782608695652, 'X[143] <= -0.093\\ngini = 0.049\\nsamples = 40\\nvalue = [1, 0, 0, 0, 0, 39, 0, 0, 0, 0, 0, 0]'),\n",
       " Text(327.05149469623916, 118.17391304347825, 'gini = 0.0\\nsamples = 1\\nvalue = [1, 0, 0, 0, 0, 0, 0, 0, 0, 0, 0, 0]'),\n",
       " Text(329.6343297974928, 118.17391304347825, 'gini = 0.0\\nsamples = 39\\nvalue = [0, 0, 0, 0, 0, 39, 0, 0, 0, 0, 0, 0]'),\n",
       " Text(332.21716489874643, 137.08173913043478, 'X[202] <= -0.176\\ngini = 0.298\\nsamples = 11\\nvalue = [9, 0, 0, 0, 0, 2, 0, 0, 0, 0, 0, 0]'),\n",
       " Text(330.9257473481196, 127.62782608695652, 'gini = 0.0\\nsamples = 9\\nvalue = [9, 0, 0, 0, 0, 0, 0, 0, 0, 0, 0, 0]'),\n",
       " Text(333.5085824493732, 127.62782608695652, 'gini = 0.0\\nsamples = 2\\nvalue = [0, 0, 0, 0, 0, 2, 0, 0, 0, 0, 0, 0]')]"
      ]
     },
     "execution_count": 38,
     "metadata": {},
     "output_type": "execute_result"
    },
    {
     "data": {
      "image/png": "[encoded data removed]",
      "text/plain": [
       "<Figure size 432x288 with 1 Axes>"
      ]
     },
     "metadata": {
      "needs_background": "light"
     },
     "output_type": "display_data"
    }
   ],
   "source": [
    "tree.plot_tree(classifier)"
   ]
  },
  {
   "cell_type": "code",
   "execution_count": 13,
   "metadata": {},
   "outputs": [],
   "source": [
    "RFC = RandomForestClassifier()\n",
    "RFC_CLF = RFC.fit(x_train, y_train)\n",
    "RFC_hat = RFC_CLF.predict(x_test)"
   ]
  },
  {
   "cell_type": "code",
   "execution_count": 14,
   "metadata": {},
   "outputs": [
    {
     "name": "stdout",
     "output_type": "stream",
     "text": [
      "              precision    recall  f1-score   support\n",
      "\n",
      "           1       0.84      0.97      0.90       496\n",
      "          10       0.62      0.64      0.63        25\n",
      "          11       0.62      0.61      0.62        49\n",
      "          12       0.64      0.52      0.57        27\n",
      "           2       0.86      0.84      0.85       471\n",
      "           3       0.96      0.83      0.89       420\n",
      "           4       0.90      0.87      0.88       508\n",
      "           5       0.89      0.91      0.90       556\n",
      "           6       1.00      1.00      1.00       545\n",
      "           7       0.57      0.70      0.63        23\n",
      "           8       1.00      0.30      0.46        10\n",
      "           9       0.66      0.66      0.66        32\n",
      "\n",
      "    accuracy                           0.89      3162\n",
      "   macro avg       0.80      0.74      0.75      3162\n",
      "weighted avg       0.89      0.89      0.89      3162\n",
      "\n",
      "0.8915243516761543\n"
     ]
    }
   ],
   "source": [
    "print(classification_report(y_test, RFC_hat))\n",
    "RFC_score = RFC_CLF.score(x_test, y_test)\n",
    "all_scores.append(RFC_score)\n",
    "print(RFC_score)"
   ]
  },
  {
   "cell_type": "code",
   "execution_count": 15,
   "metadata": {
    "scrolled": true
   },
   "outputs": [
    {
     "data": {
      "image/png": "[encoded data removed]",
      "text/plain": [
       "<Figure size 432x288 with 1 Axes>"
      ]
     },
     "metadata": {
      "needs_background": "light"
     },
     "output_type": "display_data"
    }
   ],
   "source": [
    "sn.heatmap(confusion_matrix(y_test, RFC_hat), annot=True, cmap = plt.cm.Reds, cbar=False, fmt = 'g') \n",
    "plt.show()"
   ]
  },
  {
   "cell_type": "code",
   "execution_count": 16,
   "metadata": {},
   "outputs": [],
   "source": [
    "lsvm = sklearn.svm.SVC(kernel = 'linear')\n",
    "lsvm_CLF = lsvm.fit(x_train, y_train)"
   ]
  },
  {
   "cell_type": "code",
   "execution_count": 17,
   "metadata": {},
   "outputs": [],
   "source": [
    "lsvm_predict = lsvm_CLF.predict(x_test)\n",
    "score_lsvm = lsvm_CLF.score(x_test, y_test)\n",
    "all_scores.append(score_lsvm)\n"
   ]
  },
  {
   "cell_type": "code",
   "execution_count": 18,
   "metadata": {},
   "outputs": [
    {
     "name": "stdout",
     "output_type": "stream",
     "text": [
      "              precision    recall  f1-score   support\n",
      "\n",
      "           1       0.96      0.99      0.98       496\n",
      "          10       0.72      0.72      0.72        25\n",
      "          11       0.69      0.67      0.68        49\n",
      "          12       0.72      0.67      0.69        27\n",
      "           2       0.98      0.97      0.97       471\n",
      "           3       0.99      0.98      0.98       420\n",
      "           4       0.96      0.89      0.92       508\n",
      "           5       0.91      0.97      0.94       556\n",
      "           6       1.00      1.00      1.00       545\n",
      "           7       1.00      0.78      0.88        23\n",
      "           8       0.91      1.00      0.95        10\n",
      "           9       0.58      0.66      0.62        32\n",
      "\n",
      "    accuracy                           0.95      3162\n",
      "   macro avg       0.87      0.86      0.86      3162\n",
      "weighted avg       0.95      0.95      0.95      3162\n",
      "\n",
      "0.9522454142947502\n"
     ]
    }
   ],
   "source": [
    "print(classification_report(y_test, lsvm_predict))\n",
    "print(score_lsvm)"
   ]
  },
  {
   "cell_type": "code",
   "execution_count": 19,
   "metadata": {},
   "outputs": [
    {
     "data": {
      "image/png": "[encoded data removed]",
      "text/plain": [
       "<Figure size 432x288 with 1 Axes>"
      ]
     },
     "metadata": {
      "needs_background": "light"
     },
     "output_type": "display_data"
    }
   ],
   "source": [
    "sn.heatmap(confusion_matrix(y_test, lsvm_predict), annot=True, cmap = plt.cm.Greens, cbar=False, fmt = 'g') \n",
    "plt.show()"
   ]
  },
  {
   "cell_type": "code",
   "execution_count": 20,
   "metadata": {},
   "outputs": [
    {
     "data": {
      "image/png": "[encoded data removed]",
      "text/plain": [
       "<Figure size 1080x288 with 2 Axes>"
      ]
     },
     "metadata": {
      "needs_background": "light"
     },
     "output_type": "display_data"
    }
   ],
   "source": [
    "data_color = [1000.,500.,1000.,900.]\n",
    "data_color = [x / max(data_color) for x in data_color]\n",
    "fig, ax = plt.subplots(figsize = (15, 4))\n",
    "\n",
    "my_cmap = plt.cm.get_cmap('GnBu')\n",
    "colors = my_cmap(data_color)\n",
    "rects = ax.bar(names, all_scores, color = colors, width = 0.5)\n",
    "\n",
    "sm = ScalarMappable(cmap = my_cmap, norm = plt.Normalize(0,max(data_color)))\n",
    "sm.set_array([])\n",
    "\n",
    "cbar = plt.colorbar(sm)\n",
    "cbar.set_label('Scores', rotation=270,labelpad=25)\n",
    "\n",
    "plt.xticks(names)    \n",
    "plt.ylabel(\"scores\")\n",
    "\n",
    "plt.show()"
   ]
  },
  {
   "cell_type": "markdown",
   "metadata": {},
   "source": [
    "# Pré-processing des données"
   ]
  },
  {
   "cell_type": "markdown",
   "metadata": {},
   "source": [
    "#### L'objectif est de retirer certaines colonnes pour améliorer la précision des modèles. Nous allons faire varier la variance dans une range défini et supprimer les colonnes dont la variance est inférieure à la clef du range. Nous allons ensuite executer les algorithmes avec les différents dataframe obtenus et comparer les précisions"
   ]
  },
  {
   "cell_type": "markdown",
   "metadata": {},
   "source": [
    "#### 1. Classifier Tree"
   ]
  },
  {
   "cell_type": "code",
   "execution_count": 21,
   "metadata": {
    "scrolled": true
   },
   "outputs": [],
   "source": [
    "rates1 = [0.015, 0.025, 0.05, 0.1, 0.5]\n",
    "scores1 = []\n",
    "\n",
    "for r in rates1:\n",
    "    df_temp1 = df_test.copy()\n",
    "    df_temp2 = df_train.copy()\n",
    "    var = df_temp2.var() < r\n",
    "    \n",
    "    datas_to_clear = []\n",
    "    for i in range(len(var)):\n",
    "        if var[i] == True:\n",
    "            datas_to_clear.append(i)\n",
    "    for elt in datas_to_clear:\n",
    "        del var[elt]\n",
    "                \n",
    "    df_test_temp_cpy = df_temp1.copy()\n",
    "    df_train_temp_cpy = df_temp2.copy()\n",
    "    \n",
    "    df_test_temp_cpy = df_temp1.drop(columns = datas_to_clear, axis=1)\n",
    "    df_train_temp_cpy = df_temp2.drop(columns = datas_to_clear, axis=1)\n",
    "    \n",
    "    \n",
    "    x_train_temp = df_train_temp_cpy.drop('Class', axis = 1)\n",
    "    y_train_temp = df_train_temp_cpy['Class']\n",
    "    x_test_temp = df_test_temp_cpy.drop('Class', axis = 1)\n",
    "    y_test_temp = df_test_temp_cpy['Class']\n",
    "    \n",
    "    classifier_temp = DecisionTreeClassifier()\n",
    "    classifier_temp.fit(x_train_temp, y_train_temp)\n",
    "\n",
    "    y_hat_temp = classifier_temp.predict(x_test_temp)\n",
    "    score_tree_temp = classifier_temp.score(x_test_temp, y_test_temp)\n",
    "    scores1.append(score_tree_temp)\n"
   ]
  },
  {
   "cell_type": "code",
   "execution_count": 22,
   "metadata": {},
   "outputs": [],
   "source": [
    "rates2 = [0.015, 0.025, 0.05, 0.1, 0.5]\n",
    "scores2 = []\n",
    "\n",
    "for r in rates2:\n",
    "    df_temp1 = df_test.copy()\n",
    "    df_temp2 = df_train.copy()\n",
    "    var = df_temp2.std() < r\n",
    "    \n",
    "    datas_to_clear = []\n",
    "    for i in range(len(var)):\n",
    "        if var[i] == True:\n",
    "            datas_to_clear.append(i)\n",
    "    for elt in datas_to_clear:\n",
    "        del var[elt]\n",
    "                \n",
    "    df_test_temp_cpy = df_temp1.copy()\n",
    "    df_train_temp_cpy = df_temp2.copy()\n",
    "    \n",
    "    df_test_temp_cpy = df_temp1.drop(columns = datas_to_clear, axis=1)\n",
    "    df_train_temp_cpy = df_temp2.drop(columns = datas_to_clear, axis=1)\n",
    "    \n",
    "    \n",
    "    x_train_temp = df_train_temp_cpy.drop('Class', axis = 1)\n",
    "    y_train_temp = df_train_temp_cpy['Class']\n",
    "    x_test_temp = df_test_temp_cpy.drop('Class', axis = 1)\n",
    "    y_test_temp = df_test_temp_cpy['Class']\n",
    "    \n",
    "    classifier_temp = DecisionTreeClassifier()\n",
    "    classifier_temp.fit(x_train_temp, y_train_temp)\n",
    "\n",
    "    y_hat_temp = classifier_temp.predict(x_test_temp)\n",
    "    score_tree_temp = classifier_temp.score(x_test_temp, y_test_temp)\n",
    "    scores2.append(score_tree_temp)\n"
   ]
  },
  {
   "cell_type": "code",
   "execution_count": 23,
   "metadata": {},
   "outputs": [
    {
     "data": {
      "image/png": "[encoded data removed]",
      "text/plain": [
       "<Figure size 432x288 with 1 Axes>"
      ]
     },
     "metadata": {
      "needs_background": "light"
     },
     "output_type": "display_data"
    }
   ],
   "source": [
    "#Plot variance\n",
    "plt.plot(rates1, scores1)\n",
    "plt.xlabel('Variance')\n",
    "plt.ylabel('Score')\n",
    "plt.title('Classifier Tree Scores')\n",
    "plt.show()"
   ]
  },
  {
   "cell_type": "code",
   "execution_count": 24,
   "metadata": {},
   "outputs": [
    {
     "data": {
      "image/png": "[encoded data removed]",
      "text/plain": [
       "<Figure size 432x288 with 1 Axes>"
      ]
     },
     "metadata": {
      "needs_background": "light"
     },
     "output_type": "display_data"
    }
   ],
   "source": [
    "#Plot STD\n",
    "plt.plot(rates2, scores2)\n",
    "plt.xlabel('STD')\n",
    "plt.ylabel('Score')\n",
    "plt.title('Classifier Tree Scores')\n",
    "plt.show()"
   ]
  },
  {
   "cell_type": "markdown",
   "metadata": {},
   "source": [
    "#### 2. Random Forest"
   ]
  },
  {
   "cell_type": "code",
   "execution_count": 25,
   "metadata": {},
   "outputs": [
    {
     "data": {
      "image/png": "[encoded data removed]",
      "text/plain": [
       "<Figure size 432x288 with 1 Axes>"
      ]
     },
     "metadata": {
      "needs_background": "light"
     },
     "output_type": "display_data"
    }
   ],
   "source": [
    "rates = [0.015, 0.025, 0.05, 0.1, 0.5]\n",
    "scores = []\n",
    "\n",
    "for r in rates:\n",
    "    df_temp1 = df_test.copy()\n",
    "    df_temp2 = df_train.copy()\n",
    "    var = df_temp2.var() < r\n",
    "    \n",
    "    datas_to_clear = []\n",
    "    for i in range(len(var)):\n",
    "        if var[i] == True:\n",
    "            datas_to_clear.append(i)\n",
    "    for elt in datas_to_clear:\n",
    "        del var[elt]\n",
    "                \n",
    "    df_test_temp_cpy = df_temp1.copy()\n",
    "    df_train_temp_cpy = df_temp2.copy()\n",
    "    \n",
    "    df_test_temp_cpy = df_temp1.drop(columns = datas_to_clear, axis=1)\n",
    "    df_train_temp_cpy = df_temp2.drop(columns = datas_to_clear, axis=1)\n",
    "    \n",
    "    \n",
    "    x_train_temp = df_train_temp_cpy.drop('Class', axis = 1)\n",
    "    y_train_temp = df_train_temp_cpy['Class']\n",
    "    x_test_temp = df_test_temp_cpy.drop('Class', axis = 1)\n",
    "    y_test_temp = df_test_temp_cpy['Class']\n",
    "    \n",
    "    RFC_temp = RandomForestClassifier()\n",
    "    RFC_CLF_temp = RFC_temp.fit(x_train_temp, y_train_temp)\n",
    "    RFC_hat_temp = RFC_CLF_temp.predict(x_test_temp)\n",
    "\n",
    "    RFC_score_temp = RFC_CLF_temp.score(x_test_temp, y_test_temp)\n",
    "    scores.append(RFC_score_temp)\n",
    "    \n",
    "plt.plot(rates, scores)\n",
    "plt.xlabel('Variance')\n",
    "plt.ylabel('Score')\n",
    "plt.title('Random Forest Scores')\n",
    "plt.show()"
   ]
  },
  {
   "cell_type": "markdown",
   "metadata": {},
   "source": [
    "#### 3. LSVM"
   ]
  },
  {
   "cell_type": "code",
   "execution_count": 26,
   "metadata": {},
   "outputs": [
    {
     "data": {
      "image/png": "[encoded data removed]",
      "text/plain": [
       "<Figure size 432x288 with 1 Axes>"
      ]
     },
     "metadata": {
      "needs_background": "light"
     },
     "output_type": "display_data"
    }
   ],
   "source": [
    "rates = [0.015, 0.025, 0.05, 0.1, 0.5]\n",
    "scores = []\n",
    "\n",
    "for r in rates:\n",
    "    df_temp1 = df_test.copy()\n",
    "    df_temp2 = df_train.copy()\n",
    "    var = df_temp2.var() < r\n",
    "    \n",
    "    datas_to_clear = []\n",
    "    for i in range(len(var)):\n",
    "        if var[i] == True:\n",
    "            datas_to_clear.append(i)\n",
    "    for elt in datas_to_clear:\n",
    "        del var[elt]\n",
    "                \n",
    "    df_test_temp_cpy = df_temp1.copy()\n",
    "    df_train_temp_cpy = df_temp2.copy()\n",
    "    \n",
    "    df_test_temp_cpy = df_temp1.drop(columns = datas_to_clear, axis=1)\n",
    "    df_train_temp_cpy = df_temp2.drop(columns = datas_to_clear, axis=1)\n",
    "    \n",
    "    \n",
    "    x_train_temp = df_train_temp_cpy.drop('Class', axis = 1)\n",
    "    y_train_temp = df_train_temp_cpy['Class']\n",
    "    x_test_temp = df_test_temp_cpy.drop('Class', axis = 1)\n",
    "    y_test_temp = df_test_temp_cpy['Class']\n",
    "    \n",
    "    lsvm_temp = sklearn.svm.SVC(kernel = 'linear')\n",
    "    lsvm_CLF_temp = lsvm_temp.fit(x_train_temp, y_train_temp)\n",
    "\n",
    "    lsvm_predict_temp = lsvm_CLF_temp.predict(x_test_temp)\n",
    "    score_lsvm_temp = lsvm_CLF_temp.score(x_test_temp, y_test_temp)\n",
    "    scores.append(score_lsvm_temp)\n",
    "    \n",
    "plt.plot(rates, scores)\n",
    "plt.xlabel('Variance')\n",
    "plt.ylabel('Score')\n",
    "plt.title('LSVM Scores')\n",
    "plt.show()"
   ]
  },
  {
   "cell_type": "markdown",
   "metadata": {},
   "source": [
    "#### On observe pour chaque modèle une baisse significative de la précision à partir d'une variance à 0.1"
   ]
  },
  {
   "cell_type": "markdown",
   "metadata": {},
   "source": [
    "# Variation des hyper paramètres"
   ]
  },
  {
   "cell_type": "code",
   "execution_count": 36,
   "metadata": {},
   "outputs": [
    {
     "name": "stdout",
     "output_type": "stream",
     "text": [
      "Fitting 10 folds for each of 9 candidates, totalling 90 fits\n"
     ]
    },
    {
     "name": "stderr",
     "output_type": "stream",
     "text": [
      "[Parallel(n_jobs=-1)]: Using backend LokyBackend with 4 concurrent workers.\n",
      "[Parallel(n_jobs=-1)]: Done  33 tasks      | elapsed:   50.2s\n",
      "[Parallel(n_jobs=-1)]: Done  90 out of  90 | elapsed:  2.8min finished\n"
     ]
    },
    {
     "name": "stdout",
     "output_type": "stream",
     "text": [
      "0.9927900090124887\n"
     ]
    }
   ],
   "source": [
    "hyperparametres_possibles = {\n",
    "    'C'     : [0.5, 1, 1.5],\n",
    "    'gamma' :[0.5, 0.1, 0.15]\n",
    "}\n",
    "grid = GridSearchCV(estimator=lsvm, \n",
    "                                param_grid=hyperparametres_possibles, \n",
    "                                n_jobs=-1, cv=10, verbose=2)\n",
    "\n",
    "grid.fit(x_train, y_train)\n",
    "s1 = grid.score(x_train, y_train)\n",
    "print(s1)"
   ]
  },
  {
   "cell_type": "code",
   "execution_count": 31,
   "metadata": {},
   "outputs": [
    {
     "name": "stdout",
     "output_type": "stream",
     "text": [
      "0.9947212565984292\n"
     ]
    }
   ],
   "source": [
    "hyperparametres_possibles = {\n",
    "    'C'     : [3.5, 4, 5, 6],\n",
    "    'gamma' :[0.01, 0.05, 1]\n",
    "}\n",
    "grid = GridSearchCV(estimator=lsvm, \n",
    "                                param_grid=hyperparametres_possibles, \n",
    "                                n_jobs=-1)\n",
    "grid.fit(x_train, y_train)\n",
    "s2 = grid.score(x_train, y_train)\n",
    "print(s2)"
   ]
  },
  {
   "cell_type": "code",
   "execution_count": 32,
   "metadata": {},
   "outputs": [
    {
     "name": "stdout",
     "output_type": "stream",
     "text": [
      "0.996523754345307\n"
     ]
    }
   ],
   "source": [
    "hyperparametres_possibles2 = {\n",
    "    'C'     : [ 10, 15, 20],\n",
    "    'gamma' :[0.01, 0.05, 1]\n",
    "}\n",
    "grid = GridSearchCV(estimator=lsvm, \n",
    "                                param_grid=hyperparametres_possibles2, \n",
    "                                n_jobs=-1)\n",
    "grid.fit(x_train, y_train)\n",
    "s3 = grid.score(x_train, y_train)\n",
    "print(s3)\n"
   ]
  },
  {
   "cell_type": "markdown",
   "metadata": {},
   "source": [
    "#### On note amélioration du score de prédiction du modèle"
   ]
  },
  {
   "cell_type": "code",
   "execution_count": null,
   "metadata": {},
   "outputs": [],
   "source": []
  },
  {
   "cell_type": "code",
   "execution_count": null,
   "metadata": {},
   "outputs": [],
   "source": []
  }
 ],
 "metadata": {
  "kernelspec": {
   "display_name": "Python 3",
   "language": "python",
   "name": "python3"
  },
  "language_info": {
   "codemirror_mode": {
    "name": "ipython",
    "version": 3
   },
   "file_extension": ".py",
   "mimetype": "text/x-python",
   "name": "python",
   "nbconvert_exporter": "python",
   "pygments_lexer": "ipython3",
   "version": "3.7.4"
  }
 },
 "nbformat": 4,
 "nbformat_minor": 2
}
