{
 "cells": [
  {
   "cell_type": "markdown",
   "metadata": {},
   "source": [
    "# Projet - Python for Data Analysis\n",
    "#### Thomas Vaquero - ESILV A5"
   ]
  },
  {
   "cell_type": "code",
   "execution_count": 1,
   "metadata": {},
   "outputs": [],
   "source": [
    "import numpy as np\n",
    "import pandas as pd\n",
    "import matplotlib.pyplot as plt\n",
    "%matplotlib inline\n",
    "import sklearn \n",
    "from sklearn import tree\n",
    "from sklearn.tree import DecisionTreeClassifier\n",
    "from sklearn.model_selection import train_test_split\n",
    "from sklearn.metrics import classification_report, confusion_matrix\n",
    "from sklearn.ensemble import RandomForestClassifier\n",
    "import seaborn as sn\n",
    "from matplotlib.cm import ScalarMappable\n",
    "from sklearn.model_selection import GridSearchCV\n",
    "from sklearn.calibration import CalibratedClassifierCV\n",
    "from sklearn.datasets import make_moons\n",
    "import warnings\n",
    "from sklearn.datasets import load_digits\n",
    "from sklearn import svm\n",
    "from sklearn.metrics import mean_squared_error"
   ]
  },
  {
   "cell_type": "code",
   "execution_count": 2,
   "metadata": {},
   "outputs": [],
   "source": [
    "warnings.filterwarnings(\"ignore\")"
   ]
  },
  {
   "cell_type": "markdown",
   "metadata": {},
   "source": [
    "# Classification sans pré-processing"
   ]
  },
  {
   "cell_type": "markdown",
   "metadata": {},
   "source": [
    "#### 1. Lecture du CSV : on importe le fichier X_train et X_test dans deux data frames"
   ]
  },
  {
   "cell_type": "code",
   "execution_count": 3,
   "metadata": {},
   "outputs": [
    {
     "data": {
      "text/html": [
       "<div>\n",
       "<style scoped>\n",
       "    .dataframe tbody tr th:only-of-type {\n",
       "        vertical-align: middle;\n",
       "    }\n",
       "\n",
       "    .dataframe tbody tr th {\n",
       "        vertical-align: top;\n",
       "    }\n",
       "\n",
       "    .dataframe thead th {\n",
       "        text-align: right;\n",
       "    }\n",
       "</style>\n",
       "<table border=\"1\" class=\"dataframe\">\n",
       "  <thead>\n",
       "    <tr style=\"text-align: right;\">\n",
       "      <th></th>\n",
       "      <th>0</th>\n",
       "      <th>1</th>\n",
       "      <th>2</th>\n",
       "      <th>3</th>\n",
       "      <th>4</th>\n",
       "      <th>5</th>\n",
       "      <th>6</th>\n",
       "      <th>7</th>\n",
       "      <th>8</th>\n",
       "      <th>9</th>\n",
       "      <th>...</th>\n",
       "      <th>551</th>\n",
       "      <th>552</th>\n",
       "      <th>553</th>\n",
       "      <th>554</th>\n",
       "      <th>555</th>\n",
       "      <th>556</th>\n",
       "      <th>557</th>\n",
       "      <th>558</th>\n",
       "      <th>559</th>\n",
       "      <th>560</th>\n",
       "    </tr>\n",
       "  </thead>\n",
       "  <tbody>\n",
       "    <tr>\n",
       "      <td>0</td>\n",
       "      <td>0.043580</td>\n",
       "      <td>-0.005970</td>\n",
       "      <td>-0.035054</td>\n",
       "      <td>-0.995381</td>\n",
       "      <td>-0.988366</td>\n",
       "      <td>-0.937382</td>\n",
       "      <td>-0.995007</td>\n",
       "      <td>-0.988816</td>\n",
       "      <td>-0.953325</td>\n",
       "      <td>-0.794796</td>\n",
       "      <td>...</td>\n",
       "      <td>-0.012236</td>\n",
       "      <td>-0.314848</td>\n",
       "      <td>-0.713308</td>\n",
       "      <td>-0.112754</td>\n",
       "      <td>0.030400</td>\n",
       "      <td>-0.464761</td>\n",
       "      <td>-0.018446</td>\n",
       "      <td>-0.841559</td>\n",
       "      <td>0.179913</td>\n",
       "      <td>-0.051718</td>\n",
       "    </tr>\n",
       "    <tr>\n",
       "      <td>1</td>\n",
       "      <td>0.039480</td>\n",
       "      <td>-0.002131</td>\n",
       "      <td>-0.029067</td>\n",
       "      <td>-0.998348</td>\n",
       "      <td>-0.982945</td>\n",
       "      <td>-0.971273</td>\n",
       "      <td>-0.998702</td>\n",
       "      <td>-0.983315</td>\n",
       "      <td>-0.974000</td>\n",
       "      <td>-0.802537</td>\n",
       "      <td>...</td>\n",
       "      <td>0.202804</td>\n",
       "      <td>-0.603199</td>\n",
       "      <td>-0.860677</td>\n",
       "      <td>0.053477</td>\n",
       "      <td>-0.007435</td>\n",
       "      <td>-0.732626</td>\n",
       "      <td>0.703511</td>\n",
       "      <td>-0.845092</td>\n",
       "      <td>0.180261</td>\n",
       "      <td>-0.047436</td>\n",
       "    </tr>\n",
       "    <tr>\n",
       "      <td>2</td>\n",
       "      <td>0.039978</td>\n",
       "      <td>-0.005153</td>\n",
       "      <td>-0.022651</td>\n",
       "      <td>-0.995482</td>\n",
       "      <td>-0.977314</td>\n",
       "      <td>-0.984760</td>\n",
       "      <td>-0.996415</td>\n",
       "      <td>-0.975835</td>\n",
       "      <td>-0.985973</td>\n",
       "      <td>-0.798477</td>\n",
       "      <td>...</td>\n",
       "      <td>0.440079</td>\n",
       "      <td>-0.404427</td>\n",
       "      <td>-0.761847</td>\n",
       "      <td>-0.118559</td>\n",
       "      <td>0.177899</td>\n",
       "      <td>0.100699</td>\n",
       "      <td>0.808529</td>\n",
       "      <td>-0.849230</td>\n",
       "      <td>0.180610</td>\n",
       "      <td>-0.042271</td>\n",
       "    </tr>\n",
       "    <tr>\n",
       "      <td>3</td>\n",
       "      <td>0.039785</td>\n",
       "      <td>-0.011809</td>\n",
       "      <td>-0.028916</td>\n",
       "      <td>-0.996194</td>\n",
       "      <td>-0.988569</td>\n",
       "      <td>-0.993256</td>\n",
       "      <td>-0.996994</td>\n",
       "      <td>-0.988526</td>\n",
       "      <td>-0.993135</td>\n",
       "      <td>-0.798477</td>\n",
       "      <td>...</td>\n",
       "      <td>0.430891</td>\n",
       "      <td>-0.138373</td>\n",
       "      <td>-0.491604</td>\n",
       "      <td>-0.036788</td>\n",
       "      <td>-0.012892</td>\n",
       "      <td>0.640011</td>\n",
       "      <td>-0.485366</td>\n",
       "      <td>-0.848947</td>\n",
       "      <td>0.181907</td>\n",
       "      <td>-0.040826</td>\n",
       "    </tr>\n",
       "    <tr>\n",
       "      <td>4</td>\n",
       "      <td>0.038758</td>\n",
       "      <td>-0.002289</td>\n",
       "      <td>-0.023863</td>\n",
       "      <td>-0.998241</td>\n",
       "      <td>-0.986774</td>\n",
       "      <td>-0.993115</td>\n",
       "      <td>-0.998216</td>\n",
       "      <td>-0.986479</td>\n",
       "      <td>-0.993825</td>\n",
       "      <td>-0.801982</td>\n",
       "      <td>...</td>\n",
       "      <td>0.137735</td>\n",
       "      <td>-0.366214</td>\n",
       "      <td>-0.702490</td>\n",
       "      <td>0.123320</td>\n",
       "      <td>0.122542</td>\n",
       "      <td>0.693578</td>\n",
       "      <td>-0.615971</td>\n",
       "      <td>-0.848164</td>\n",
       "      <td>0.185124</td>\n",
       "      <td>-0.037080</td>\n",
       "    </tr>\n",
       "    <tr>\n",
       "      <td>5</td>\n",
       "      <td>0.038988</td>\n",
       "      <td>0.004109</td>\n",
       "      <td>-0.017340</td>\n",
       "      <td>-0.997438</td>\n",
       "      <td>-0.993485</td>\n",
       "      <td>-0.996692</td>\n",
       "      <td>-0.997522</td>\n",
       "      <td>-0.993494</td>\n",
       "      <td>-0.996916</td>\n",
       "      <td>-0.801982</td>\n",
       "      <td>...</td>\n",
       "      <td>0.074999</td>\n",
       "      <td>-0.554902</td>\n",
       "      <td>-0.844224</td>\n",
       "      <td>0.082632</td>\n",
       "      <td>-0.143439</td>\n",
       "      <td>0.275041</td>\n",
       "      <td>-0.368224</td>\n",
       "      <td>-0.849927</td>\n",
       "      <td>0.184795</td>\n",
       "      <td>-0.035326</td>\n",
       "    </tr>\n",
       "  </tbody>\n",
       "</table>\n",
       "<p>6 rows × 561 columns</p>\n",
       "</div>"
      ],
      "text/plain": [
       "        0         1         2         3         4         5         6    \\\n",
       "0  0.043580 -0.005970 -0.035054 -0.995381 -0.988366 -0.937382 -0.995007   \n",
       "1  0.039480 -0.002131 -0.029067 -0.998348 -0.982945 -0.971273 -0.998702   \n",
       "2  0.039978 -0.005153 -0.022651 -0.995482 -0.977314 -0.984760 -0.996415   \n",
       "3  0.039785 -0.011809 -0.028916 -0.996194 -0.988569 -0.993256 -0.996994   \n",
       "4  0.038758 -0.002289 -0.023863 -0.998241 -0.986774 -0.993115 -0.998216   \n",
       "5  0.038988  0.004109 -0.017340 -0.997438 -0.993485 -0.996692 -0.997522   \n",
       "\n",
       "        7         8         9    ...       551       552       553       554  \\\n",
       "0 -0.988816 -0.953325 -0.794796  ... -0.012236 -0.314848 -0.713308 -0.112754   \n",
       "1 -0.983315 -0.974000 -0.802537  ...  0.202804 -0.603199 -0.860677  0.053477   \n",
       "2 -0.975835 -0.985973 -0.798477  ...  0.440079 -0.404427 -0.761847 -0.118559   \n",
       "3 -0.988526 -0.993135 -0.798477  ...  0.430891 -0.138373 -0.491604 -0.036788   \n",
       "4 -0.986479 -0.993825 -0.801982  ...  0.137735 -0.366214 -0.702490  0.123320   \n",
       "5 -0.993494 -0.996916 -0.801982  ...  0.074999 -0.554902 -0.844224  0.082632   \n",
       "\n",
       "        555       556       557       558       559       560  \n",
       "0  0.030400 -0.464761 -0.018446 -0.841559  0.179913 -0.051718  \n",
       "1 -0.007435 -0.732626  0.703511 -0.845092  0.180261 -0.047436  \n",
       "2  0.177899  0.100699  0.808529 -0.849230  0.180610 -0.042271  \n",
       "3 -0.012892  0.640011 -0.485366 -0.848947  0.181907 -0.040826  \n",
       "4  0.122542  0.693578 -0.615971 -0.848164  0.185124 -0.037080  \n",
       "5 -0.143439  0.275041 -0.368224 -0.849927  0.184795 -0.035326  \n",
       "\n",
       "[6 rows x 561 columns]"
      ]
     },
     "execution_count": 3,
     "metadata": {},
     "output_type": "execute_result"
    }
   ],
   "source": [
    "df_train = pd.read_csv('Train/X_train.txt', sep = \" \", header = None)\n",
    "df_train.head(6)\n"
   ]
  },
  {
   "cell_type": "code",
   "execution_count": 4,
   "metadata": {},
   "outputs": [],
   "source": [
    "all_scores = []\n",
    "names = ['ClassifierTree', 'RandomForest', 'LSVM']\n"
   ]
  },
  {
   "cell_type": "code",
   "execution_count": 5,
   "metadata": {},
   "outputs": [
    {
     "data": {
      "text/plain": [
       "<function TextIOWrapper.close()>"
      ]
     },
     "execution_count": 5,
     "metadata": {},
     "output_type": "execute_result"
    }
   ],
   "source": [
    "f = open('Train/y_train.txt', 'r')\n",
    "y_train_file = f.readlines() #on met le contenu de y_train dans y_train_file\n",
    "f.close"
   ]
  },
  {
   "cell_type": "code",
   "execution_count": 6,
   "metadata": {},
   "outputs": [
    {
     "data": {
      "text/html": [
       "<div>\n",
       "<style scoped>\n",
       "    .dataframe tbody tr th:only-of-type {\n",
       "        vertical-align: middle;\n",
       "    }\n",
       "\n",
       "    .dataframe tbody tr th {\n",
       "        vertical-align: top;\n",
       "    }\n",
       "\n",
       "    .dataframe thead th {\n",
       "        text-align: right;\n",
       "    }\n",
       "</style>\n",
       "<table border=\"1\" class=\"dataframe\">\n",
       "  <thead>\n",
       "    <tr style=\"text-align: right;\">\n",
       "      <th></th>\n",
       "      <th>0</th>\n",
       "      <th>1</th>\n",
       "      <th>2</th>\n",
       "      <th>3</th>\n",
       "      <th>4</th>\n",
       "      <th>5</th>\n",
       "      <th>6</th>\n",
       "      <th>7</th>\n",
       "      <th>8</th>\n",
       "      <th>9</th>\n",
       "      <th>...</th>\n",
       "      <th>552</th>\n",
       "      <th>553</th>\n",
       "      <th>554</th>\n",
       "      <th>555</th>\n",
       "      <th>556</th>\n",
       "      <th>557</th>\n",
       "      <th>558</th>\n",
       "      <th>559</th>\n",
       "      <th>560</th>\n",
       "      <th>Class</th>\n",
       "    </tr>\n",
       "  </thead>\n",
       "  <tbody>\n",
       "    <tr>\n",
       "      <td>0</td>\n",
       "      <td>0.04358</td>\n",
       "      <td>-0.005970</td>\n",
       "      <td>-0.035054</td>\n",
       "      <td>-0.995381</td>\n",
       "      <td>-0.988366</td>\n",
       "      <td>-0.937382</td>\n",
       "      <td>-0.995007</td>\n",
       "      <td>-0.988816</td>\n",
       "      <td>-0.953325</td>\n",
       "      <td>-0.794796</td>\n",
       "      <td>...</td>\n",
       "      <td>-0.314848</td>\n",
       "      <td>-0.713308</td>\n",
       "      <td>-0.112754</td>\n",
       "      <td>0.030400</td>\n",
       "      <td>-0.464761</td>\n",
       "      <td>-0.018446</td>\n",
       "      <td>-0.841559</td>\n",
       "      <td>0.179913</td>\n",
       "      <td>-0.051718</td>\n",
       "      <td>5</td>\n",
       "    </tr>\n",
       "    <tr>\n",
       "      <td>1</td>\n",
       "      <td>0.03948</td>\n",
       "      <td>-0.002131</td>\n",
       "      <td>-0.029067</td>\n",
       "      <td>-0.998348</td>\n",
       "      <td>-0.982945</td>\n",
       "      <td>-0.971273</td>\n",
       "      <td>-0.998702</td>\n",
       "      <td>-0.983315</td>\n",
       "      <td>-0.974000</td>\n",
       "      <td>-0.802537</td>\n",
       "      <td>...</td>\n",
       "      <td>-0.603199</td>\n",
       "      <td>-0.860677</td>\n",
       "      <td>0.053477</td>\n",
       "      <td>-0.007435</td>\n",
       "      <td>-0.732626</td>\n",
       "      <td>0.703511</td>\n",
       "      <td>-0.845092</td>\n",
       "      <td>0.180261</td>\n",
       "      <td>-0.047436</td>\n",
       "      <td>5</td>\n",
       "    </tr>\n",
       "  </tbody>\n",
       "</table>\n",
       "<p>2 rows × 562 columns</p>\n",
       "</div>"
      ],
      "text/plain": [
       "         0         1         2         3         4         5         6  \\\n",
       "0  0.04358 -0.005970 -0.035054 -0.995381 -0.988366 -0.937382 -0.995007   \n",
       "1  0.03948 -0.002131 -0.029067 -0.998348 -0.982945 -0.971273 -0.998702   \n",
       "\n",
       "          7         8         9  ...       552       553       554       555  \\\n",
       "0 -0.988816 -0.953325 -0.794796  ... -0.314848 -0.713308 -0.112754  0.030400   \n",
       "1 -0.983315 -0.974000 -0.802537  ... -0.603199 -0.860677  0.053477 -0.007435   \n",
       "\n",
       "        556       557       558       559       560  Class  \n",
       "0 -0.464761 -0.018446 -0.841559  0.179913 -0.051718      5  \n",
       "1 -0.732626  0.703511 -0.845092  0.180261 -0.047436      5  \n",
       "\n",
       "[2 rows x 562 columns]"
      ]
     },
     "execution_count": 6,
     "metadata": {},
     "output_type": "execute_result"
    }
   ],
   "source": [
    "classification = list(map(lambda x:x.strip(), y_train_file))\n",
    "df_train['Class'] = classification #on ajoute une colonne à notre dataframe \n",
    "df_train.head(2) #on vérifie l'ajout "
   ]
  },
  {
   "cell_type": "code",
   "execution_count": 7,
   "metadata": {
    "scrolled": true
   },
   "outputs": [
    {
     "data": {
      "text/plain": [
       "(3162, 562)"
      ]
     },
     "execution_count": 7,
     "metadata": {},
     "output_type": "execute_result"
    }
   ],
   "source": [
    "df_test = pd.read_csv('Test/X_test.txt', sep = \" \", header = None)\n",
    "f = open('Test/y_test.txt', 'r')\n",
    "X_test_file = f.readlines() #on met le contenu de X_test dans X_test_file\n",
    "f.close\n",
    "classification = list(map(lambda x:x.strip(), X_test_file))\n",
    "df_test['Class'] = classification #on ajoute une colonne à notre dataframe \n",
    "df_test.head(2) #on vérifie l'ajout \n",
    "df_test.shape"
   ]
  },
  {
   "cell_type": "markdown",
   "metadata": {},
   "source": [
    "#### 2. Elaboration des modèles de classification sans pré-processing\n",
    "#### On effectue successivement: \n",
    "   #### - Un Decision Tree\n",
    "   #### - Un Random Forest\n",
    "   #### - Un Linear SVM"
   ]
  },
  {
   "cell_type": "code",
   "execution_count": 8,
   "metadata": {},
   "outputs": [],
   "source": [
    "x_train = df_train.drop('Class', axis = 1)\n",
    "y_train = df_train['Class']\n",
    "x_test = df_test.drop('Class', axis = 1)\n",
    "y_test = df_test['Class']\n",
    "\n"
   ]
  },
  {
   "cell_type": "code",
   "execution_count": 9,
   "metadata": {},
   "outputs": [
    {
     "data": {
      "text/plain": [
       "DecisionTreeClassifier(class_weight=None, criterion='gini', max_depth=None,\n",
       "                       max_features=None, max_leaf_nodes=None,\n",
       "                       min_impurity_decrease=0.0, min_impurity_split=None,\n",
       "                       min_samples_leaf=1, min_samples_split=2,\n",
       "                       min_weight_fraction_leaf=0.0, presort=False,\n",
       "                       random_state=None, splitter='best')"
      ]
     },
     "execution_count": 9,
     "metadata": {},
     "output_type": "execute_result"
    }
   ],
   "source": [
    "classifier = DecisionTreeClassifier()\n",
    "classifier.fit(x_train, y_train)"
   ]
  },
  {
   "cell_type": "code",
   "execution_count": 10,
   "metadata": {},
   "outputs": [],
   "source": [
    "y_hat = classifier.predict(x_test)\n",
    "score_tree = classifier.score(x_test, y_test)\n",
    "all_scores.append(score_tree)\n"
   ]
  },
  {
   "cell_type": "code",
   "execution_count": 11,
   "metadata": {},
   "outputs": [
    {
     "name": "stdout",
     "output_type": "stream",
     "text": [
      "              precision    recall  f1-score   support\n",
      "\n",
      "           1       0.82      0.75      0.78       496\n",
      "          10       0.61      0.68      0.64        25\n",
      "          11       0.72      0.63      0.67        49\n",
      "          12       0.62      0.48      0.54        27\n",
      "           2       0.66      0.77      0.71       471\n",
      "           3       0.81      0.76      0.78       420\n",
      "           4       0.83      0.79      0.81       508\n",
      "           5       0.82      0.85      0.83       556\n",
      "           6       0.99      0.99      0.99       545\n",
      "           7       0.52      0.70      0.59        23\n",
      "           8       0.80      0.80      0.80        10\n",
      "           9       0.65      0.69      0.67        32\n",
      "\n",
      "    accuracy                           0.81      3162\n",
      "   macro avg       0.74      0.74      0.74      3162\n",
      "weighted avg       0.82      0.81      0.81      3162\n",
      "\n",
      "0.812460468058191\n"
     ]
    }
   ],
   "source": [
    "print(classification_report(y_test, y_hat))\n",
    "print(score_tree)"
   ]
  },
  {
   "cell_type": "code",
   "execution_count": 12,
   "metadata": {},
   "outputs": [
    {
     "data": {
      "image/png": "[encoded data removed]",
      "text/plain": [
       "<Figure size 432x288 with 1 Axes>"
      ]
     },
     "metadata": {
      "needs_background": "light"
     },
     "output_type": "display_data"
    }
   ],
   "source": [
    "sn.heatmap(confusion_matrix(y_test, y_hat),annot=True,cmap = plt.cm.Blues, cbar=False, fmt = 'g') \n",
    "plt.show()"
   ]
  },
  {
   "cell_type": "code",
   "execution_count": 13,
   "metadata": {},
   "outputs": [
    {
     "data": {
      "text/plain": [
       "[Text(89.88761144632566, 212.71304347826086, 'X[49] <= 0.092\\ngini = 0.845\\nsamples = 7767\\nvalue = [1226, 60, 90, 57, 1073, 987, 1293, 1423, 1413, 47\\n23, 75]'),\n",
       " Text(17.570668227665706, 203.2591304347826, 'X[9] <= -0.239\\ngini = 0.022\\nsamples = 1412\\nvalue = [0, 7, 0, 9, 0, 0, 0, 0, 1396, 0, 0, 0]'),\n",
       " Text(14.9977575648415, 193.80521739130435, 'X[211] <= 0.939\\ngini = 0.001\\nsamples = 1397\\nvalue = [0, 0, 0, 1, 0, 0, 0, 0, 1396, 0, 0, 0]'),\n",
       " Text(13.711302233429397, 184.3513043478261, 'gini = 0.0\\nsamples = 1396\\nvalue = [0, 0, 0, 0, 0, 0, 0, 0, 1396, 0, 0, 0]'),\n",
       " Text(16.284212896253603, 184.3513043478261, 'gini = 0.0\\nsamples = 1\\nvalue = [0, 0, 0, 1, 0, 0, 0, 0, 0, 0, 0, 0]'),\n",
       " Text(20.143578890489916, 193.80521739130435, 'X[379] <= -0.491\\ngini = 0.498\\nsamples = 15\\nvalue = [0, 7, 0, 8, 0, 0, 0, 0, 0, 0, 0, 0]'),\n",
       " Text(18.857123559077813, 184.3513043478261, 'gini = 0.0\\nsamples = 8\\nvalue = [0, 0, 0, 8, 0, 0, 0, 0, 0, 0, 0, 0]'),\n",
       " Text(21.43003422190202, 184.3513043478261, 'gini = 0.0\\nsamples = 7\\nvalue = [0, 7, 0, 0, 0, 0, 0, 0, 0, 0, 0, 0]'),\n",
       " Text(162.2045546649856, 203.2591304347826, 'X[281] <= -0.97\\ngini = 0.818\\nsamples = 6355\\nvalue = [1226, 53, 90, 48, 1073, 987, 1293, 1423, 17, 47\\n23, 75]'),\n",
       " Text(65.93209203890491, 193.80521739130435, 'X[559] <= 0.14\\ngini = 0.502\\nsamples = 2718\\nvalue = [0, 0, 4, 0, 0, 0, 1285, 1423, 2, 1, 0, 3]'),\n",
       " Text(24.002944884726226, 184.3513043478261, 'X[57] <= -1.0\\ngini = 0.244\\nsamples = 1366\\nvalue = [0, 0, 1, 0, 0, 0, 1173, 187, 2, 0, 0, 3]'),\n",
       " Text(5.1458213256484155, 174.89739130434782, 'X[54] <= 0.061\\ngini = 0.455\\nsamples = 97\\nvalue = [0, 0, 0, 0, 0, 0, 34, 63, 0, 0, 0, 0]'),\n",
       " Text(2.5729106628242078, 165.44347826086957, 'X[11] <= -0.722\\ngini = 0.083\\nsamples = 46\\nvalue = [0, 0, 0, 0, 0, 0, 2, 44, 0, 0, 0, 0]'),\n",
       " Text(1.2864553314121039, 155.98956521739132, 'gini = 0.0\\nsamples = 2\\nvalue = [0, 0, 0, 0, 0, 0, 2, 0, 0, 0, 0, 0]'),\n",
       " Text(3.8593659942363114, 155.98956521739132, 'gini = 0.0\\nsamples = 44\\nvalue = [0, 0, 0, 0, 0, 0, 0, 44, 0, 0, 0, 0]'),\n",
       " Text(7.718731988472623, 165.44347826086957, 'X[136] <= -1.0\\ngini = 0.468\\nsamples = 51\\nvalue = [0, 0, 0, 0, 0, 0, 32, 19, 0, 0, 0, 0]'),\n",
       " Text(6.43227665706052, 155.98956521739132, 'gini = 0.0\\nsamples = 30\\nvalue = [0, 0, 0, 0, 0, 0, 30, 0, 0, 0, 0, 0]'),\n",
       " Text(9.005187319884728, 155.98956521739132, 'X[308] <= -1.0\\ngini = 0.172\\nsamples = 21\\nvalue = [0, 0, 0, 0, 0, 0, 2, 19, 0, 0, 0, 0]'),\n",
       " Text(7.718731988472623, 146.53565217391304, 'gini = 0.0\\nsamples = 2\\nvalue = [0, 0, 0, 0, 0, 0, 2, 0, 0, 0, 0, 0]'),\n",
       " Text(10.291642651296831, 146.53565217391304, 'gini = 0.0\\nsamples = 19\\nvalue = [0, 0, 0, 0, 0, 0, 0, 19, 0, 0, 0, 0]'),\n",
       " Text(42.86006844380404, 174.89739130434782, 'X[451] <= -0.256\\ngini = 0.185\\nsamples = 1269\\nvalue = [0, 0, 1, 0, 0, 0, 1139, 124, 2, 0, 0, 3]'),\n",
       " Text(24.28184438040346, 165.44347826086957, 'X[50] <= 0.048\\ngini = 0.521\\nsamples = 124\\nvalue = [0, 0, 0, 0, 0, 0, 65, 56, 1, 0, 0, 2]'),\n",
       " Text(16.402305475504324, 155.98956521739132, 'X[198] <= -0.159\\ngini = 0.439\\nsamples = 77\\nvalue = [0, 0, 0, 0, 0, 0, 25, 52, 0, 0, 0, 0]'),\n",
       " Text(12.86455331412104, 146.53565217391304, 'X[454] <= 0.245\\ngini = 0.408\\nsamples = 21\\nvalue = [0, 0, 0, 0, 0, 0, 15, 6, 0, 0, 0, 0]'),\n",
       " Text(11.578097982708934, 137.08173913043478, 'X[90] <= -0.931\\ngini = 0.117\\nsamples = 16\\nvalue = [0, 0, 0, 0, 0, 0, 15, 1, 0, 0, 0, 0]'),\n",
       " Text(10.291642651296831, 127.62782608695652, 'gini = 0.0\\nsamples = 15\\nvalue = [0, 0, 0, 0, 0, 0, 15, 0, 0, 0, 0, 0]'),\n",
       " Text(12.86455331412104, 127.62782608695652, 'gini = 0.0\\nsamples = 1\\nvalue = [0, 0, 0, 0, 0, 0, 0, 1, 0, 0, 0, 0]'),\n",
       " Text(14.151008645533143, 137.08173913043478, 'gini = 0.0\\nsamples = 5\\nvalue = [0, 0, 0, 0, 0, 0, 0, 5, 0, 0, 0, 0]'),\n",
       " Text(19.94005763688761, 146.53565217391304, 'X[112] <= -0.162\\ngini = 0.293\\nsamples = 56\\nvalue = [0, 0, 0, 0, 0, 0, 10, 46, 0, 0, 0, 0]'),\n",
       " Text(16.72391930835735, 137.08173913043478, 'X[33] <= 0.189\\ngini = 0.408\\nsamples = 7\\nvalue = [0, 0, 0, 0, 0, 0, 5, 2, 0, 0, 0, 0]'),\n",
       " Text(15.437463976945246, 127.62782608695652, 'gini = 0.0\\nsamples = 5\\nvalue = [0, 0, 0, 0, 0, 0, 5, 0, 0, 0, 0, 0]'),\n",
       " Text(18.010374639769456, 127.62782608695652, 'gini = 0.0\\nsamples = 2\\nvalue = [0, 0, 0, 0, 0, 0, 0, 2, 0, 0, 0, 0]'),\n",
       " Text(23.15619596541787, 137.08173913043478, 'X[540] <= -0.807\\ngini = 0.183\\nsamples = 49\\nvalue = [0, 0, 0, 0, 0, 0, 5, 44, 0, 0, 0, 0]'),\n",
       " Text(20.583285302593662, 127.62782608695652, 'X[305] <= -0.998\\ngini = 0.375\\nsamples = 4\\nvalue = [0, 0, 0, 0, 0, 0, 3, 1, 0, 0, 0, 0]'),\n",
       " Text(19.29682997118156, 118.17391304347825, 'gini = 0.0\\nsamples = 3\\nvalue = [0, 0, 0, 0, 0, 0, 3, 0, 0, 0, 0, 0]'),\n",
       " Text(21.869740634005765, 118.17391304347825, 'gini = 0.0\\nsamples = 1\\nvalue = [0, 0, 0, 0, 0, 0, 0, 1, 0, 0, 0, 0]'),\n",
       " Text(25.72910662824208, 127.62782608695652, 'X[297] <= -0.971\\ngini = 0.085\\nsamples = 45\\nvalue = [0, 0, 0, 0, 0, 0, 2, 43, 0, 0, 0, 0]'),\n",
       " Text(24.442651296829975, 118.17391304347825, 'gini = 0.0\\nsamples = 1\\nvalue = [0, 0, 0, 0, 0, 0, 1, 0, 0, 0, 0, 0]'),\n",
       " Text(27.015561959654182, 118.17391304347825, 'X[156] <= -0.377\\ngini = 0.044\\nsamples = 44\\nvalue = [0, 0, 0, 0, 0, 0, 1, 43, 0, 0, 0, 0]'),\n",
       " Text(25.72910662824208, 108.72, 'gini = 0.0\\nsamples = 1\\nvalue = [0, 0, 0, 0, 0, 0, 1, 0, 0, 0, 0, 0]'),\n",
       " Text(28.302017291066285, 108.72, 'gini = 0.0\\nsamples = 43\\nvalue = [0, 0, 0, 0, 0, 0, 0, 43, 0, 0, 0, 0]'),\n",
       " Text(32.1613832853026, 155.98956521739132, 'X[78] <= 0.836\\ngini = 0.266\\nsamples = 47\\nvalue = [0, 0, 0, 0, 0, 0, 40, 4, 1, 0, 0, 2]'),\n",
       " Text(30.87492795389049, 146.53565217391304, 'X[460] <= -0.938\\ngini = 0.132\\nsamples = 43\\nvalue = [0, 0, 0, 0, 0, 0, 40, 0, 1, 0, 0, 2]'),\n",
       " Text(29.58847262247839, 137.08173913043478, 'X[557] <= 0.484\\ngini = 0.048\\nsamples = 41\\nvalue = [0, 0, 0, 0, 0, 0, 40, 0, 1, 0, 0, 0]'),\n",
       " Text(28.302017291066285, 127.62782608695652, 'gini = 0.0\\nsamples = 40\\nvalue = [0, 0, 0, 0, 0, 0, 40, 0, 0, 0, 0, 0]'),\n",
       " Text(30.87492795389049, 127.62782608695652, 'gini = 0.0\\nsamples = 1\\nvalue = [0, 0, 0, 0, 0, 0, 0, 0, 1, 0, 0, 0]'),\n",
       " Text(32.1613832853026, 137.08173913043478, 'gini = 0.0\\nsamples = 2\\nvalue = [0, 0, 0, 0, 0, 0, 0, 0, 0, 0, 0, 2]'),\n",
       " Text(33.4478386167147, 146.53565217391304, 'gini = 0.0\\nsamples = 4\\nvalue = [0, 0, 0, 0, 0, 0, 0, 4, 0, 0, 0, 0]'),\n",
       " Text(61.438292507204615, 165.44347826086957, 'X[429] <= -0.92\\ngini = 0.117\\nsamples = 1145\\nvalue = [0, 0, 1, 0, 0, 0, 1074, 68, 1, 0, 0, 1]'),\n",
       " Text(53.72961095100865, 155.98956521739132, 'X[159] <= 0.672\\ngini = 0.088\\nsamples = 1104\\nvalue = [0, 0, 0, 0, 0, 0, 1053, 51, 0, 0, 0, 0]'),\n",
       " Text(46.6742074927954, 146.53565217391304, 'X[50] <= 0.035\\ngini = 0.07\\nsamples = 1073\\nvalue = [0, 0, 0, 0, 0, 0, 1034, 39, 0, 0, 0, 0]'),\n",
       " Text(38.9956772334294, 137.08173913043478, 'X[468] <= -1.0\\ngini = 0.195\\nsamples = 347\\nvalue = [0, 0, 0, 0, 0, 0, 309, 38, 0, 0, 0, 0]'),\n",
       " Text(33.4478386167147, 127.62782608695652, 'X[152] <= -0.338\\ngini = 0.021\\nsamples = 192\\nvalue = [0, 0, 0, 0, 0, 0, 190, 2, 0, 0, 0, 0]'),\n",
       " Text(32.1613832853026, 118.17391304347825, 'gini = 0.0\\nsamples = 1\\nvalue = [0, 0, 0, 0, 0, 0, 0, 1, 0, 0, 0, 0]'),\n",
       " Text(34.734293948126805, 118.17391304347825, 'X[28] <= -0.434\\ngini = 0.01\\nsamples = 191\\nvalue = [0, 0, 0, 0, 0, 0, 190, 1, 0, 0, 0, 0]'),\n",
       " Text(33.4478386167147, 108.72, 'gini = 0.0\\nsamples = 1\\nvalue = [0, 0, 0, 0, 0, 0, 0, 1, 0, 0, 0, 0]'),\n",
       " Text(36.02074927953891, 108.72, 'gini = 0.0\\nsamples = 190\\nvalue = [0, 0, 0, 0, 0, 0, 190, 0, 0, 0, 0, 0]'),\n",
       " Text(44.5435158501441, 127.62782608695652, 'X[424] <= -0.988\\ngini = 0.357\\nsamples = 155\\nvalue = [0, 0, 0, 0, 0, 0, 119, 36, 0, 0, 0, 0]'),\n",
       " Text(39.88011527377522, 118.17391304347825, 'X[421] <= -1.0\\ngini = 0.278\\nsamples = 24\\nvalue = [0, 0, 0, 0, 0, 0, 4, 20, 0, 0, 0, 0]'),\n",
       " Text(38.59365994236312, 108.72, 'gini = 0.0\\nsamples = 20\\nvalue = [0, 0, 0, 0, 0, 0, 0, 20, 0, 0, 0, 0]'),\n",
       " Text(41.166570605187324, 108.72, 'gini = 0.0\\nsamples = 4\\nvalue = [0, 0, 0, 0, 0, 0, 4, 0, 0, 0, 0, 0]'),\n",
       " Text(49.206916426512976, 118.17391304347825, 'X[293] <= 0.271\\ngini = 0.214\\nsamples = 131\\nvalue = [0, 0, 0, 0, 0, 0, 115, 16, 0, 0, 0, 0]'),\n",
       " Text(43.73948126801153, 108.72, 'X[493] <= -1.0\\ngini = 0.128\\nsamples = 116\\nvalue = [0, 0, 0, 0, 0, 0, 108, 8, 0, 0, 0, 0]'),\n",
       " Text(40.523342939481275, 99.26608695652173, 'X[321] <= -0.999\\ngini = 0.375\\nsamples = 4\\nvalue = [0, 0, 0, 0, 0, 0, 1, 3, 0, 0, 0, 0]'),\n",
       " Text(39.23688760806917, 89.81217391304348, 'gini = 0.0\\nsamples = 1\\nvalue = [0, 0, 0, 0, 0, 0, 1, 0, 0, 0, 0, 0]'),\n",
       " Text(41.809798270893374, 89.81217391304348, 'gini = 0.0\\nsamples = 3\\nvalue = [0, 0, 0, 0, 0, 0, 0, 3, 0, 0, 0, 0]'),\n",
       " Text(46.955619596541794, 99.26608695652173, 'X[557] <= -0.8\\ngini = 0.085\\nsamples = 112\\nvalue = [0, 0, 0, 0, 0, 0, 107, 5, 0, 0, 0, 0]'),\n",
       " Text(44.38270893371758, 89.81217391304348, 'X[396] <= -1.0\\ngini = 0.444\\nsamples = 3\\nvalue = [0, 0, 0, 0, 0, 0, 1, 2, 0, 0, 0, 0]'),\n",
       " Text(43.09625360230548, 80.35826086956521, 'gini = 0.0\\nsamples = 1\\nvalue = [0, 0, 0, 0, 0, 0, 1, 0, 0, 0, 0, 0]'),\n",
       " Text(45.66916426512969, 80.35826086956521, 'gini = 0.0\\nsamples = 2\\nvalue = [0, 0, 0, 0, 0, 0, 0, 2, 0, 0, 0, 0]'),\n",
       " Text(49.528530259366, 89.81217391304348, 'X[529] <= -0.989\\ngini = 0.054\\nsamples = 109\\nvalue = [0, 0, 0, 0, 0, 0, 106, 3, 0, 0, 0, 0]'),\n",
       " Text(48.242074927953894, 80.35826086956521, 'gini = 0.0\\nsamples = 1\\nvalue = [0, 0, 0, 0, 0, 0, 0, 1, 0, 0, 0, 0]'),\n",
       " Text(50.8149855907781, 80.35826086956521, 'X[335] <= -1.0\\ngini = 0.036\\nsamples = 108\\nvalue = [0, 0, 0, 0, 0, 0, 106, 2, 0, 0, 0, 0]'),\n",
       " Text(49.528530259366, 70.90434782608696, 'gini = 0.0\\nsamples = 1\\nvalue = [0, 0, 0, 0, 0, 0, 0, 1, 0, 0, 0, 0]'),\n",
       " Text(52.10144092219021, 70.90434782608696, 'X[155] <= 0.437\\ngini = 0.019\\nsamples = 107\\nvalue = [0, 0, 0, 0, 0, 0, 106, 1, 0, 0, 0, 0]'),\n",
       " Text(50.8149855907781, 61.45043478260868, 'gini = 0.0\\nsamples = 105\\nvalue = [0, 0, 0, 0, 0, 0, 105, 0, 0, 0, 0, 0]'),\n",
       " Text(53.387896253602314, 61.45043478260868, 'X[56] <= 0.927\\ngini = 0.5\\nsamples = 2\\nvalue = [0, 0, 0, 0, 0, 0, 1, 1, 0, 0, 0, 0]'),\n",
       " Text(52.10144092219021, 51.99652173913043, 'gini = 0.0\\nsamples = 1\\nvalue = [0, 0, 0, 0, 0, 0, 0, 1, 0, 0, 0, 0]'),\n",
       " Text(54.67435158501441, 51.99652173913043, 'gini = 0.0\\nsamples = 1\\nvalue = [0, 0, 0, 0, 0, 0, 1, 0, 0, 0, 0, 0]'),\n",
       " Text(54.67435158501441, 108.72, 'X[113] <= 0.191\\ngini = 0.498\\nsamples = 15\\nvalue = [0, 0, 0, 0, 0, 0, 7, 8, 0, 0, 0, 0]'),\n",
       " Text(53.387896253602314, 99.26608695652173, 'X[397] <= -0.998\\ngini = 0.219\\nsamples = 8\\nvalue = [0, 0, 0, 0, 0, 0, 7, 1, 0, 0, 0, 0]'),\n",
       " Text(52.10144092219021, 89.81217391304348, 'gini = 0.0\\nsamples = 7\\nvalue = [0, 0, 0, 0, 0, 0, 7, 0, 0, 0, 0, 0]'),\n",
       " Text(54.67435158501441, 89.81217391304348, 'gini = 0.0\\nsamples = 1\\nvalue = [0, 0, 0, 0, 0, 0, 0, 1, 0, 0, 0, 0]'),\n",
       " Text(55.96080691642652, 99.26608695652173, 'gini = 0.0\\nsamples = 7\\nvalue = [0, 0, 0, 0, 0, 0, 0, 7, 0, 0, 0, 0]'),\n",
       " Text(54.35273775216139, 137.08173913043478, 'X[24] <= -0.99\\ngini = 0.003\\nsamples = 726\\nvalue = [0, 0, 0, 0, 0, 0, 725, 1, 0, 0, 0, 0]'),\n",
       " Text(53.06628242074928, 127.62782608695652, 'X[405] <= -0.999\\ngini = 0.5\\nsamples = 2\\nvalue = [0, 0, 0, 0, 0, 0, 1, 1, 0, 0, 0, 0]'),\n",
       " Text(51.77982708933718, 118.17391304347825, 'gini = 0.0\\nsamples = 1\\nvalue = [0, 0, 0, 0, 0, 0, 0, 1, 0, 0, 0, 0]'),\n",
       " Text(54.35273775216139, 118.17391304347825, 'gini = 0.0\\nsamples = 1\\nvalue = [0, 0, 0, 0, 0, 0, 1, 0, 0, 0, 0, 0]'),\n",
       " Text(55.639193083573495, 127.62782608695652, 'gini = 0.0\\nsamples = 724\\nvalue = [0, 0, 0, 0, 0, 0, 724, 0, 0, 0, 0, 0]'),\n",
       " Text(60.78501440922191, 146.53565217391304, 'X[490] <= -1.0\\ngini = 0.475\\nsamples = 31\\nvalue = [0, 0, 0, 0, 0, 0, 19, 12, 0, 0, 0, 0]'),\n",
       " Text(59.4985590778098, 137.08173913043478, 'X[49] <= 0.85\\ngini = 0.245\\nsamples = 14\\nvalue = [0, 0, 0, 0, 0, 0, 2, 12, 0, 0, 0, 0]'),\n",
       " Text(58.2121037463977, 127.62782608695652, 'gini = 0.0\\nsamples = 2\\nvalue = [0, 0, 0, 0, 0, 0, 2, 0, 0, 0, 0, 0]'),\n",
       " Text(60.78501440922191, 127.62782608695652, 'gini = 0.0\\nsamples = 12\\nvalue = [0, 0, 0, 0, 0, 0, 0, 12, 0, 0, 0, 0]'),\n",
       " Text(62.071469740634015, 137.08173913043478, 'gini = 0.0\\nsamples = 17\\nvalue = [0, 0, 0, 0, 0, 0, 17, 0, 0, 0, 0, 0]'),\n",
       " Text(69.14697406340058, 155.98956521739132, 'X[395] <= -0.996\\ngini = 0.564\\nsamples = 41\\nvalue = [0, 0, 1, 0, 0, 0, 21, 17, 1, 0, 0, 1]'),\n",
       " Text(65.93083573487033, 146.53565217391304, 'X[297] <= -0.146\\ngini = 0.124\\nsamples = 15\\nvalue = [0, 0, 0, 0, 0, 0, 1, 14, 0, 0, 0, 0]'),\n",
       " Text(64.64438040345821, 137.08173913043478, 'gini = 0.0\\nsamples = 14\\nvalue = [0, 0, 0, 0, 0, 0, 0, 14, 0, 0, 0, 0]'),\n",
       " Text(67.21729106628243, 137.08173913043478, 'gini = 0.0\\nsamples = 1\\nvalue = [0, 0, 0, 0, 0, 0, 1, 0, 0, 0, 0, 0]'),\n",
       " Text(72.36311239193084, 146.53565217391304, 'X[274] <= -0.858\\ngini = 0.391\\nsamples = 26\\nvalue = [0, 0, 1, 0, 0, 0, 20, 3, 1, 0, 0, 1]'),\n",
       " Text(69.79020172910664, 137.08173913043478, 'X[57] <= -0.999\\ngini = 0.165\\nsamples = 22\\nvalue = [0, 0, 0, 0, 0, 0, 20, 2, 0, 0, 0, 0]'),\n",
       " Text(68.50374639769453, 127.62782608695652, 'gini = 0.0\\nsamples = 2\\nvalue = [0, 0, 0, 0, 0, 0, 0, 2, 0, 0, 0, 0]'),\n",
       " Text(71.07665706051874, 127.62782608695652, 'gini = 0.0\\nsamples = 20\\nvalue = [0, 0, 0, 0, 0, 0, 20, 0, 0, 0, 0, 0]'),\n",
       " Text(74.93602305475505, 137.08173913043478, 'X[69] <= -0.884\\ngini = 0.75\\nsamples = 4\\nvalue = [0, 0, 1, 0, 0, 0, 0, 1, 1, 0, 0, 1]'),\n",
       " Text(73.64956772334294, 127.62782608695652, 'gini = 0.0\\nsamples = 1\\nvalue = [0, 0, 0, 0, 0, 0, 0, 1, 0, 0, 0, 0]'),\n",
       " Text(76.22247838616715, 127.62782608695652, 'X[315] <= -0.99\\ngini = 0.667\\nsamples = 3\\nvalue = [0, 0, 1, 0, 0, 0, 0, 0, 1, 0, 0, 1]'),\n",
       " Text(74.93602305475505, 118.17391304347825, 'gini = 0.0\\nsamples = 1\\nvalue = [0, 0, 0, 0, 0, 0, 0, 0, 1, 0, 0, 0]'),\n",
       " Text(77.50893371757925, 118.17391304347825, 'X[229] <= -0.818\\ngini = 0.5\\nsamples = 2\\nvalue = [0, 0, 1, 0, 0, 0, 0, 0, 0, 0, 0, 1]'),\n",
       " Text(76.22247838616715, 108.72, 'gini = 0.0\\nsamples = 1\\nvalue = [0, 0, 0, 0, 0, 0, 0, 0, 0, 0, 0, 1]'),\n",
       " Text(78.79538904899137, 108.72, 'gini = 0.0\\nsamples = 1\\nvalue = [0, 0, 1, 0, 0, 0, 0, 0, 0, 0, 0, 0]'),\n",
       " Text(107.86123919308359, 184.3513043478261, 'X[139] <= -0.998\\ngini = 0.157\\nsamples = 1352\\nvalue = [0, 0, 3, 0, 0, 0, 112, 1236, 0, 1, 0, 0]'),\n",
       " Text(105.28832853025938, 174.89739130434782, 'X[531] <= -0.997\\ngini = 0.278\\nsamples = 24\\nvalue = [0, 0, 0, 0, 0, 0, 20, 4, 0, 0, 0, 0]'),\n",
       " Text(104.00187319884728, 165.44347826086957, 'gini = 0.0\\nsamples = 4\\nvalue = [0, 0, 0, 0, 0, 0, 0, 4, 0, 0, 0, 0]'),\n",
       " Text(106.57478386167148, 165.44347826086957, 'gini = 0.0\\nsamples = 20\\nvalue = [0, 0, 0, 0, 0, 0, 20, 0, 0, 0, 0, 0]'),\n",
       " Text(110.43414985590779, 174.89739130434782, 'X[129] <= -0.915\\ngini = 0.135\\nsamples = 1328\\nvalue = [0, 0, 3, 0, 0, 0, 92, 1232, 0, 1, 0, 0]'),\n",
       " Text(109.14769452449569, 165.44347826086957, 'gini = 0.0\\nsamples = 9\\nvalue = [0, 0, 0, 0, 0, 0, 9, 0, 0, 0, 0, 0]'),\n",
       " Text(111.72060518731989, 165.44347826086957, 'X[157] <= 0.734\\ngini = 0.124\\nsamples = 1319\\nvalue = [0, 0, 3, 0, 0, 0, 83, 1232, 0, 1, 0, 0]'),\n",
       " Text(100.9063400576369, 155.98956521739132, 'X[187] <= 0.22\\ngini = 0.11\\nsamples = 1302\\nvalue = [0, 0, 3, 0, 0, 0, 72, 1226, 0, 1, 0, 0]'),\n",
       " Text(89.73025936599424, 146.53565217391304, 'X[218] <= -0.543\\ngini = 0.066\\nsamples = 1089\\nvalue = [0, 0, 2, 0, 0, 0, 34, 1052, 0, 1, 0, 0]'),\n",
       " Text(88.44380403458214, 137.08173913043478, 'X[197] <= 0.474\\ngini = 0.062\\nsamples = 1087\\nvalue = [0, 0, 0, 0, 0, 0, 34, 1052, 0, 1, 0, 0]'),\n",
       " Text(85.22766570605188, 127.62782608695652, 'X[204] <= -1.0\\ngini = 0.053\\nsamples = 1069\\nvalue = [0, 0, 0, 0, 0, 0, 28, 1040, 0, 1, 0, 0]'),\n",
       " Text(82.65475504322768, 118.17391304347825, 'X[102] <= -0.739\\ngini = 0.444\\nsamples = 3\\nvalue = [0, 0, 0, 0, 0, 0, 2, 1, 0, 0, 0, 0]'),\n",
       " Text(81.36829971181557, 108.72, 'gini = 0.0\\nsamples = 1\\nvalue = [0, 0, 0, 0, 0, 0, 0, 1, 0, 0, 0, 0]'),\n",
       " Text(83.94121037463978, 108.72, 'gini = 0.0\\nsamples = 2\\nvalue = [0, 0, 0, 0, 0, 0, 2, 0, 0, 0, 0, 0]'),\n",
       " Text(87.8005763688761, 118.17391304347825, 'X[496] <= -0.908\\ngini = 0.049\\nsamples = 1066\\nvalue = [0, 0, 0, 0, 0, 0, 26, 1039, 0, 1, 0, 0]'),\n",
       " Text(86.51412103746398, 108.72, 'X[460] <= -1.0\\ngini = 0.048\\nsamples = 1065\\nvalue = [0, 0, 0, 0, 0, 0, 26, 1039, 0, 0, 0, 0]'),\n",
       " Text(85.22766570605188, 99.26608695652173, 'gini = 0.0\\nsamples = 1\\nvalue = [0, 0, 0, 0, 0, 0, 1, 0, 0, 0, 0, 0]'),\n",
       " Text(87.8005763688761, 99.26608695652173, 'X[64] <= 0.517\\ngini = 0.046\\nsamples = 1064\\nvalue = [0, 0, 0, 0, 0, 0, 25, 1039, 0, 0, 0, 0]'),\n",
       " Text(86.51412103746398, 89.81217391304348, 'X[277] <= -1.0\\ngini = 0.044\\nsamples = 1063\\nvalue = [0, 0, 0, 0, 0, 0, 24, 1039, 0, 0, 0, 0]'),\n",
       " Text(85.22766570605188, 80.35826086956521, 'gini = 0.0\\nsamples = 1\\nvalue = [0, 0, 0, 0, 0, 0, 1, 0, 0, 0, 0, 0]'),\n",
       " Text(87.8005763688761, 80.35826086956521, 'X[150] <= 0.218\\ngini = 0.042\\nsamples = 1062\\nvalue = [0, 0, 0, 0, 0, 0, 23, 1039, 0, 0, 0, 0]'),\n",
       " Text(83.45878962536024, 70.90434782608696, 'X[159] <= 0.883\\ngini = 0.012\\nsamples = 805\\nvalue = [0, 0, 0, 0, 0, 0, 5, 800, 0, 0, 0, 0]'),\n",
       " Text(82.17233429394814, 61.45043478260868, 'X[376] <= -0.229\\ngini = 0.01\\nsamples = 804\\nvalue = [0, 0, 0, 0, 0, 0, 4, 800, 0, 0, 0, 0]'),\n",
       " Text(78.63458213256484, 51.99652173913043, 'X[132] <= 0.857\\ngini = 0.007\\nsamples = 801\\nvalue = [0, 0, 0, 0, 0, 0, 3, 798, 0, 0, 0, 0]'),\n",
       " Text(75.4184438040346, 42.54260869565218, 'X[196] <= -0.346\\ngini = 0.005\\nsamples = 797\\nvalue = [0, 0, 0, 0, 0, 0, 2, 795, 0, 0, 0, 0]'),\n",
       " Text(72.84553314121038, 33.0886956521739, 'X[38] <= -0.261\\ngini = 0.375\\nsamples = 4\\nvalue = [0, 0, 0, 0, 0, 0, 1, 3, 0, 0, 0, 0]'),\n",
       " Text(71.55907780979828, 23.634782608695645, 'gini = 0.0\\nsamples = 1\\nvalue = [0, 0, 0, 0, 0, 0, 1, 0, 0, 0, 0, 0]'),\n",
       " Text(74.13198847262248, 23.634782608695645, 'gini = 0.0\\nsamples = 3\\nvalue = [0, 0, 0, 0, 0, 0, 0, 3, 0, 0, 0, 0]'),\n",
       " Text(77.9913544668588, 33.0886956521739, 'X[488] <= -1.0\\ngini = 0.003\\nsamples = 793\\nvalue = [0, 0, 0, 0, 0, 0, 1, 792, 0, 0, 0, 0]'),\n",
       " Text(76.7048991354467, 23.634782608695645, 'X[109] <= 0.008\\ngini = 0.198\\nsamples = 9\\nvalue = [0, 0, 0, 0, 0, 0, 1, 8, 0, 0, 0, 0]'),\n",
       " Text(75.4184438040346, 14.180869565217392, 'gini = 0.0\\nsamples = 1\\nvalue = [0, 0, 0, 0, 0, 0, 1, 0, 0, 0, 0, 0]'),\n",
       " Text(77.9913544668588, 14.180869565217392, 'gini = 0.0\\nsamples = 8\\nvalue = [0, 0, 0, 0, 0, 0, 0, 8, 0, 0, 0, 0]'),\n",
       " Text(79.27780979827091, 23.634782608695645, 'gini = 0.0\\nsamples = 784\\nvalue = [0, 0, 0, 0, 0, 0, 0, 784, 0, 0, 0, 0]'),\n",
       " Text(81.85072046109511, 42.54260869565218, 'X[10] <= -0.727\\ngini = 0.375\\nsamples = 4\\nvalue = [0, 0, 0, 0, 0, 0, 1, 3, 0, 0, 0, 0]'),\n",
       " Text(80.56426512968301, 33.0886956521739, 'gini = 0.0\\nsamples = 1\\nvalue = [0, 0, 0, 0, 0, 0, 1, 0, 0, 0, 0, 0]'),\n",
       " Text(83.13717579250721, 33.0886956521739, 'gini = 0.0\\nsamples = 3\\nvalue = [0, 0, 0, 0, 0, 0, 0, 3, 0, 0, 0, 0]'),\n",
       " Text(85.71008645533142, 51.99652173913043, 'X[263] <= 0.166\\ngini = 0.444\\nsamples = 3\\nvalue = [0, 0, 0, 0, 0, 0, 1, 2, 0, 0, 0, 0]'),\n",
       " Text(84.42363112391932, 42.54260869565218, 'gini = 0.0\\nsamples = 2\\nvalue = [0, 0, 0, 0, 0, 0, 0, 2, 0, 0, 0, 0]'),\n",
       " Text(86.99654178674352, 42.54260869565218, 'gini = 0.0\\nsamples = 1\\nvalue = [0, 0, 0, 0, 0, 0, 1, 0, 0, 0, 0, 0]'),\n",
       " Text(84.74524495677234, 61.45043478260868, 'gini = 0.0\\nsamples = 1\\nvalue = [0, 0, 0, 0, 0, 0, 1, 0, 0, 0, 0, 0]'),\n",
       " Text(92.14236311239195, 70.90434782608696, 'X[472] <= -1.0\\ngini = 0.13\\nsamples = 257\\nvalue = [0, 0, 0, 0, 0, 0, 18, 239, 0, 0, 0, 0]'),\n",
       " Text(89.56945244956773, 61.45043478260868, 'X[504] <= -0.977\\ngini = 0.494\\nsamples = 27\\nvalue = [0, 0, 0, 0, 0, 0, 12, 15, 0, 0, 0, 0]'),\n",
       " Text(88.28299711815563, 51.99652173913043, 'gini = 0.0\\nsamples = 14\\nvalue = [0, 0, 0, 0, 0, 0, 0, 14, 0, 0, 0, 0]'),\n",
       " Text(90.85590778097983, 51.99652173913043, 'X[329] <= -1.0\\ngini = 0.142\\nsamples = 13\\nvalue = [0, 0, 0, 0, 0, 0, 12, 1, 0, 0, 0, 0]'),\n",
       " Text(89.56945244956773, 42.54260869565218, 'gini = 0.0\\nsamples = 1\\nvalue = [0, 0, 0, 0, 0, 0, 0, 1, 0, 0, 0, 0]'),\n",
       " Text(92.14236311239195, 42.54260869565218, 'gini = 0.0\\nsamples = 12\\nvalue = [0, 0, 0, 0, 0, 0, 12, 0, 0, 0, 0, 0]'),\n",
       " Text(94.71527377521615, 61.45043478260868, 'X[190] <= -0.04\\ngini = 0.051\\nsamples = 230\\nvalue = [0, 0, 0, 0, 0, 0, 6, 224, 0, 0, 0, 0]'),\n",
       " Text(93.42881844380405, 51.99652173913043, 'gini = 0.0\\nsamples = 2\\nvalue = [0, 0, 0, 0, 0, 0, 2, 0, 0, 0, 0, 0]'),\n",
       " Text(96.00172910662825, 51.99652173913043, 'X[512] <= 0.59\\ngini = 0.034\\nsamples = 228\\nvalue = [0, 0, 0, 0, 0, 0, 4, 224, 0, 0, 0, 0]'),\n",
       " Text(94.71527377521615, 42.54260869565218, 'X[142] <= -0.941\\ngini = 0.026\\nsamples = 227\\nvalue = [0, 0, 0, 0, 0, 0, 3, 224, 0, 0, 0, 0]'),\n",
       " Text(93.42881844380405, 33.0886956521739, 'gini = 0.0\\nsamples = 1\\nvalue = [0, 0, 0, 0, 0, 0, 1, 0, 0, 0, 0, 0]'),\n",
       " Text(96.00172910662825, 33.0886956521739, 'X[290] <= 0.433\\ngini = 0.018\\nsamples = 226\\nvalue = [0, 0, 0, 0, 0, 0, 2, 224, 0, 0, 0, 0]'),\n",
       " Text(94.71527377521615, 23.634782608695645, 'X[115] <= -0.327\\ngini = 0.009\\nsamples = 225\\nvalue = [0, 0, 0, 0, 0, 0, 1, 224, 0, 0, 0, 0]'),\n",
       " Text(93.42881844380405, 14.180869565217392, 'X[530] <= -0.578\\ngini = 0.444\\nsamples = 3\\nvalue = [0, 0, 0, 0, 0, 0, 1, 2, 0, 0, 0, 0]'),\n",
       " Text(92.14236311239195, 4.726956521739112, 'gini = 0.0\\nsamples = 1\\nvalue = [0, 0, 0, 0, 0, 0, 1, 0, 0, 0, 0, 0]'),\n",
       " Text(94.71527377521615, 4.726956521739112, 'gini = 0.0\\nsamples = 2\\nvalue = [0, 0, 0, 0, 0, 0, 0, 2, 0, 0, 0, 0]'),\n",
       " Text(96.00172910662825, 14.180869565217392, 'gini = 0.0\\nsamples = 222\\nvalue = [0, 0, 0, 0, 0, 0, 0, 222, 0, 0, 0, 0]'),\n",
       " Text(97.28818443804036, 23.634782608695645, 'gini = 0.0\\nsamples = 1\\nvalue = [0, 0, 0, 0, 0, 0, 1, 0, 0, 0, 0, 0]'),\n",
       " Text(97.28818443804036, 42.54260869565218, 'gini = 0.0\\nsamples = 1\\nvalue = [0, 0, 0, 0, 0, 0, 1, 0, 0, 0, 0, 0]'),\n",
       " Text(89.0870317002882, 89.81217391304348, 'gini = 0.0\\nsamples = 1\\nvalue = [0, 0, 0, 0, 0, 0, 1, 0, 0, 0, 0, 0]'),\n",
       " Text(89.0870317002882, 108.72, 'gini = 0.0\\nsamples = 1\\nvalue = [0, 0, 0, 0, 0, 0, 0, 0, 0, 1, 0, 0]'),\n",
       " Text(91.6599423631124, 127.62782608695652, 'X[6] <= -0.983\\ngini = 0.444\\nsamples = 18\\nvalue = [0, 0, 0, 0, 0, 0, 6, 12, 0, 0, 0, 0]'),\n",
       " Text(90.3734870317003, 118.17391304347825, 'gini = 0.0\\nsamples = 11\\nvalue = [0, 0, 0, 0, 0, 0, 0, 11, 0, 0, 0, 0]'),\n",
       " Text(92.9463976945245, 118.17391304347825, 'X[55] <= 0.352\\ngini = 0.245\\nsamples = 7\\nvalue = [0, 0, 0, 0, 0, 0, 6, 1, 0, 0, 0, 0]'),\n",
       " Text(91.6599423631124, 108.72, 'gini = 0.0\\nsamples = 6\\nvalue = [0, 0, 0, 0, 0, 0, 6, 0, 0, 0, 0, 0]'),\n",
       " Text(94.2328530259366, 108.72, 'gini = 0.0\\nsamples = 1\\nvalue = [0, 0, 0, 0, 0, 0, 0, 1, 0, 0, 0, 0]'),\n",
       " Text(91.01671469740636, 137.08173913043478, 'gini = 0.0\\nsamples = 2\\nvalue = [0, 0, 2, 0, 0, 0, 0, 0, 0, 0, 0, 0]'),\n",
       " Text(112.08242074927955, 146.53565217391304, 'X[133] <= 0.889\\ngini = 0.301\\nsamples = 213\\nvalue = [0, 0, 1, 0, 0, 0, 38, 174, 0, 0, 0, 0]'),\n",
       " Text(106.77579250720463, 137.08173913043478, 'X[129] <= -0.887\\ngini = 0.476\\nsamples = 96\\nvalue = [0, 0, 1, 0, 0, 0, 35, 60, 0, 0, 0, 0]'),\n",
       " Text(102.59481268011528, 127.62782608695652, 'X[113] <= 0.181\\ngini = 0.489\\nsamples = 61\\nvalue = [0, 0, 0, 0, 0, 0, 35, 26, 0, 0, 0, 0]'),\n",
       " Text(98.09221902017292, 118.17391304347825, 'X[119] <= 0.317\\ngini = 0.147\\nsamples = 25\\nvalue = [0, 0, 0, 0, 0, 0, 23, 2, 0, 0, 0, 0]'),\n",
       " Text(96.80576368876082, 108.72, 'gini = 0.0\\nsamples = 22\\nvalue = [0, 0, 0, 0, 0, 0, 22, 0, 0, 0, 0, 0]'),\n",
       " Text(99.37867435158502, 108.72, 'X[315] <= -1.0\\ngini = 0.444\\nsamples = 3\\nvalue = [0, 0, 0, 0, 0, 0, 1, 2, 0, 0, 0, 0]'),\n",
       " Text(98.09221902017292, 99.26608695652173, 'gini = 0.0\\nsamples = 1\\nvalue = [0, 0, 0, 0, 0, 0, 1, 0, 0, 0, 0, 0]'),\n",
       " Text(100.66512968299713, 99.26608695652173, 'gini = 0.0\\nsamples = 2\\nvalue = [0, 0, 0, 0, 0, 0, 0, 2, 0, 0, 0, 0]'),\n",
       " Text(107.09740634005765, 118.17391304347825, 'X[81] <= 0.021\\ngini = 0.444\\nsamples = 36\\nvalue = [0, 0, 0, 0, 0, 0, 12, 24, 0, 0, 0, 0]'),\n",
       " Text(104.52449567723345, 108.72, 'X[25] <= 0.266\\ngini = 0.293\\nsamples = 28\\nvalue = [0, 0, 0, 0, 0, 0, 5, 23, 0, 0, 0, 0]'),\n",
       " Text(103.23804034582133, 99.26608695652173, 'gini = 0.0\\nsamples = 20\\nvalue = [0, 0, 0, 0, 0, 0, 0, 20, 0, 0, 0, 0]'),\n",
       " Text(105.81095100864555, 99.26608695652173, 'X[27] <= 0.35\\ngini = 0.469\\nsamples = 8\\nvalue = [0, 0, 0, 0, 0, 0, 5, 3, 0, 0, 0, 0]'),\n",
       " Text(104.52449567723345, 89.81217391304348, 'gini = 0.0\\nsamples = 5\\nvalue = [0, 0, 0, 0, 0, 0, 5, 0, 0, 0, 0, 0]'),\n",
       " Text(107.09740634005765, 89.81217391304348, 'gini = 0.0\\nsamples = 3\\nvalue = [0, 0, 0, 0, 0, 0, 0, 3, 0, 0, 0, 0]'),\n",
       " Text(109.67031700288186, 108.72, 'X[206] <= -1.0\\ngini = 0.219\\nsamples = 8\\nvalue = [0, 0, 0, 0, 0, 0, 7, 1, 0, 0, 0, 0]'),\n",
       " Text(108.38386167146976, 99.26608695652173, 'gini = 0.0\\nsamples = 1\\nvalue = [0, 0, 0, 0, 0, 0, 0, 1, 0, 0, 0, 0]'),\n",
       " Text(110.95677233429396, 99.26608695652173, 'gini = 0.0\\nsamples = 7\\nvalue = [0, 0, 0, 0, 0, 0, 7, 0, 0, 0, 0, 0]'),\n",
       " Text(110.95677233429396, 127.62782608695652, 'X[205] <= -0.594\\ngini = 0.056\\nsamples = 35\\nvalue = [0, 0, 1, 0, 0, 0, 0, 34, 0, 0, 0, 0]'),\n",
       " Text(109.67031700288186, 118.17391304347825, 'gini = 0.0\\nsamples = 34\\nvalue = [0, 0, 0, 0, 0, 0, 0, 34, 0, 0, 0, 0]'),\n",
       " Text(112.24322766570606, 118.17391304347825, 'gini = 0.0\\nsamples = 1\\nvalue = [0, 0, 1, 0, 0, 0, 0, 0, 0, 0, 0, 0]'),\n",
       " Text(117.38904899135449, 137.08173913043478, 'X[158] <= 0.622\\ngini = 0.05\\nsamples = 117\\nvalue = [0, 0, 0, 0, 0, 0, 3, 114, 0, 0, 0, 0]'),\n",
       " Text(116.10259365994237, 127.62782608695652, 'X[521] <= -1.0\\ngini = 0.017\\nsamples = 115\\nvalue = [0, 0, 0, 0, 0, 0, 1, 114, 0, 0, 0, 0]'),\n",
       " Text(114.81613832853027, 118.17391304347825, 'gini = 0.0\\nsamples = 1\\nvalue = [0, 0, 0, 0, 0, 0, 1, 0, 0, 0, 0, 0]'),\n",
       " Text(117.38904899135449, 118.17391304347825, 'gini = 0.0\\nsamples = 114\\nvalue = [0, 0, 0, 0, 0, 0, 0, 114, 0, 0, 0, 0]'),\n",
       " Text(118.67550432276659, 127.62782608695652, 'gini = 0.0\\nsamples = 2\\nvalue = [0, 0, 0, 0, 0, 0, 2, 0, 0, 0, 0, 0]'),\n",
       " Text(122.5348703170029, 155.98956521739132, 'X[58] <= -0.974\\ngini = 0.457\\nsamples = 17\\nvalue = [0, 0, 0, 0, 0, 0, 11, 6, 0, 0, 0, 0]'),\n",
       " Text(121.24841498559078, 146.53565217391304, 'X[312] <= -1.0\\ngini = 0.245\\nsamples = 7\\nvalue = [0, 0, 0, 0, 0, 0, 1, 6, 0, 0, 0, 0]'),\n",
       " Text(119.96195965417868, 137.08173913043478, 'gini = 0.0\\nsamples = 1\\nvalue = [0, 0, 0, 0, 0, 0, 1, 0, 0, 0, 0, 0]'),\n",
       " Text(122.5348703170029, 137.08173913043478, 'gini = 0.0\\nsamples = 6\\nvalue = [0, 0, 0, 0, 0, 0, 0, 6, 0, 0, 0, 0]'),\n",
       " Text(123.821325648415, 146.53565217391304, 'gini = 0.0\\nsamples = 10\\nvalue = [0, 0, 0, 0, 0, 0, 10, 0, 0, 0, 0, 0]'),\n",
       " Text(258.4770172910663, 193.80521739130435, 'X[9] <= 0.363\\ngini = 0.724\\nsamples = 3637\\nvalue = [1226, 53, 86, 48, 1073, 987, 8, 0, 15, 46, 23\\n72]'),\n",
       " Text(214.55662824207496, 184.3513043478261, 'X[69] <= -0.276\\ngini = 0.663\\nsamples = 2682\\nvalue = [1176, 48, 86, 42, 997, 172, 8, 0, 15, 43, 23, 72]'),\n",
       " Text(173.02824207492796, 174.89739130434782, 'X[50] <= -0.165\\ngini = 0.593\\nsamples = 1354\\nvalue = [101, 47, 85, 42, 843, 75, 8, 0, 15, 43, 23, 72]'),\n",
       " Text(143.7613832853026, 165.44347826086957, 'X[37] <= -0.06\\ngini = 0.202\\nsamples = 890\\nvalue = [51, 1, 6, 0, 793, 16, 0, 0, 0, 23, 0, 0]'),\n",
       " Text(131.5400576368876, 155.98956521739132, 'X[37] <= -0.657\\ngini = 0.102\\nsamples = 810\\nvalue = [22, 0, 2, 0, 767, 16, 0, 0, 0, 3, 0, 0]'),\n",
       " Text(126.39423631123921, 146.53565217391304, 'X[101] <= -0.689\\ngini = 0.521\\nsamples = 13\\nvalue = [0, 0, 1, 0, 4, 8, 0, 0, 0, 0, 0, 0]'),\n",
       " Text(125.1077809798271, 137.08173913043478, 'X[252] <= -0.763\\ngini = 0.32\\nsamples = 5\\nvalue = [0, 0, 1, 0, 4, 0, 0, 0, 0, 0, 0, 0]'),\n",
       " Text(123.821325648415, 127.62782608695652, 'gini = 0.0\\nsamples = 1\\nvalue = [0, 0, 1, 0, 0, 0, 0, 0, 0, 0, 0, 0]'),\n",
       " Text(126.39423631123921, 127.62782608695652, 'gini = 0.0\\nsamples = 4\\nvalue = [0, 0, 0, 0, 4, 0, 0, 0, 0, 0, 0, 0]'),\n",
       " Text(127.68069164265131, 137.08173913043478, 'gini = 0.0\\nsamples = 8\\nvalue = [0, 0, 0, 0, 0, 8, 0, 0, 0, 0, 0, 0]'),\n",
       " Text(136.68587896253604, 146.53565217391304, 'X[302] <= -0.838\\ngini = 0.083\\nsamples = 797\\nvalue = [22, 0, 1, 0, 763, 8, 0, 0, 0, 3, 0, 0]'),\n",
       " Text(131.5400576368876, 137.08173913043478, 'X[171] <= -0.726\\ngini = 0.553\\nsamples = 33\\nvalue = [11, 0, 1, 0, 19, 0, 0, 0, 0, 2, 0, 0]'),\n",
       " Text(128.9671469740634, 127.62782608695652, 'X[272] <= 0.046\\ngini = 0.095\\nsamples = 20\\nvalue = [0, 0, 1, 0, 19, 0, 0, 0, 0, 0, 0, 0]'),\n",
       " Text(127.68069164265131, 118.17391304347825, 'gini = 0.0\\nsamples = 19\\nvalue = [0, 0, 0, 0, 19, 0, 0, 0, 0, 0, 0, 0]'),\n",
       " Text(130.2536023054755, 118.17391304347825, 'gini = 0.0\\nsamples = 1\\nvalue = [0, 0, 1, 0, 0, 0, 0, 0, 0, 0, 0, 0]'),\n",
       " Text(134.11296829971184, 127.62782608695652, 'X[127] <= -0.607\\ngini = 0.26\\nsamples = 13\\nvalue = [11, 0, 0, 0, 0, 0, 0, 0, 0, 2, 0, 0]'),\n",
       " Text(132.82651296829974, 118.17391304347825, 'gini = 0.0\\nsamples = 2\\nvalue = [0, 0, 0, 0, 0, 0, 0, 0, 0, 2, 0, 0]'),\n",
       " Text(135.39942363112394, 118.17391304347825, 'gini = 0.0\\nsamples = 11\\nvalue = [11, 0, 0, 0, 0, 0, 0, 0, 0, 0, 0, 0]'),\n",
       " Text(141.83170028818446, 137.08173913043478, 'X[296] <= -0.367\\ngini = 0.051\\nsamples = 764\\nvalue = [11, 0, 0, 0, 744, 8, 0, 0, 0, 1, 0, 0]'),\n",
       " Text(139.25878962536024, 127.62782608695652, 'X[390] <= -0.553\\ngini = 0.32\\nsamples = 5\\nvalue = [4, 0, 0, 0, 1, 0, 0, 0, 0, 0, 0, 0]'),\n",
       " Text(137.97233429394814, 118.17391304347825, 'gini = 0.0\\nsamples = 1\\nvalue = [0, 0, 0, 0, 1, 0, 0, 0, 0, 0, 0, 0]'),\n",
       " Text(140.54524495677234, 118.17391304347825, 'gini = 0.0\\nsamples = 4\\nvalue = [4, 0, 0, 0, 0, 0, 0, 0, 0, 0, 0, 0]'),\n",
       " Text(144.40461095100866, 127.62782608695652, 'X[558] <= -0.839\\ngini = 0.042\\nsamples = 759\\nvalue = [7, 0, 0, 0, 743, 8, 0, 0, 0, 1, 0, 0]'),\n",
       " Text(143.11815561959656, 118.17391304347825, 'gini = 0.0\\nsamples = 2\\nvalue = [0, 0, 0, 0, 0, 2, 0, 0, 0, 0, 0, 0]'),\n",
       " Text(145.69106628242076, 118.17391304347825, 'X[538] <= 0.453\\ngini = 0.036\\nsamples = 757\\nvalue = [7, 0, 0, 0, 743, 6, 0, 0, 0, 1, 0, 0]'),\n",
       " Text(144.40461095100866, 108.72, 'X[505] <= -0.383\\ngini = 0.031\\nsamples = 755\\nvalue = [7, 0, 0, 0, 743, 4, 0, 0, 0, 1, 0, 0]'),\n",
       " Text(141.1884726224784, 99.26608695652173, 'X[196] <= 0.499\\ngini = 0.026\\nsamples = 753\\nvalue = [7, 0, 0, 0, 743, 3, 0, 0, 0, 0, 0, 0]'),\n",
       " Text(138.6155619596542, 89.81217391304348, 'X[518] <= -0.03\\ngini = 0.019\\nsamples = 747\\nvalue = [4, 0, 0, 0, 740, 3, 0, 0, 0, 0, 0, 0]'),\n",
       " Text(137.3291066282421, 80.35826086956521, 'X[38] <= 0.291\\ngini = 0.016\\nsamples = 746\\nvalue = [4, 0, 0, 0, 740, 2, 0, 0, 0, 0, 0, 0]'),\n",
       " Text(136.04265129682997, 70.90434782608696, 'X[505] <= -0.838\\ngini = 0.013\\nsamples = 745\\nvalue = [4, 0, 0, 0, 740, 1, 0, 0, 0, 0, 0, 0]'),\n",
       " Text(134.75619596541787, 61.45043478260868, 'gini = 0.0\\nsamples = 1\\nvalue = [1, 0, 0, 0, 0, 0, 0, 0, 0, 0, 0, 0]'),\n",
       " Text(137.3291066282421, 61.45043478260868, 'X[383] <= -0.364\\ngini = 0.011\\nsamples = 744\\nvalue = [3, 0, 0, 0, 740, 1, 0, 0, 0, 0, 0, 0]'),\n",
       " Text(133.7913544668588, 51.99652173913043, 'X[91] <= -0.219\\ngini = 0.008\\nsamples = 742\\nvalue = [3, 0, 0, 0, 739, 0, 0, 0, 0, 0, 0, 0]'),\n",
       " Text(130.57521613832856, 42.54260869565218, 'X[119] <= -0.39\\ngini = 0.005\\nsamples = 740\\nvalue = [2, 0, 0, 0, 738, 0, 0, 0, 0, 0, 0, 0]'),\n",
       " Text(128.00230547550433, 33.0886956521739, 'X[110] <= -0.188\\ngini = 0.444\\nsamples = 3\\nvalue = [1, 0, 0, 0, 2, 0, 0, 0, 0, 0, 0, 0]'),\n",
       " Text(126.71585014409223, 23.634782608695645, 'gini = 0.0\\nsamples = 1\\nvalue = [1, 0, 0, 0, 0, 0, 0, 0, 0, 0, 0, 0]'),\n",
       " Text(129.28876080691643, 23.634782608695645, 'gini = 0.0\\nsamples = 2\\nvalue = [0, 0, 0, 0, 2, 0, 0, 0, 0, 0, 0, 0]'),\n",
       " Text(133.14812680115276, 33.0886956521739, 'X[490] <= -0.989\\ngini = 0.003\\nsamples = 737\\nvalue = [1, 0, 0, 0, 736, 0, 0, 0, 0, 0, 0, 0]'),\n",
       " Text(131.86167146974066, 23.634782608695645, 'X[422] <= -0.96\\ngini = 0.278\\nsamples = 6\\nvalue = [1, 0, 0, 0, 5, 0, 0, 0, 0, 0, 0, 0]'),\n",
       " Text(130.57521613832856, 14.180869565217392, 'gini = 0.0\\nsamples = 5\\nvalue = [0, 0, 0, 0, 5, 0, 0, 0, 0, 0, 0, 0]'),\n",
       " Text(133.14812680115276, 14.180869565217392, 'gini = 0.0\\nsamples = 1\\nvalue = [1, 0, 0, 0, 0, 0, 0, 0, 0, 0, 0, 0]'),\n",
       " Text(134.43458213256486, 23.634782608695645, 'gini = 0.0\\nsamples = 731\\nvalue = [0, 0, 0, 0, 731, 0, 0, 0, 0, 0, 0, 0]'),\n",
       " Text(137.00749279538906, 42.54260869565218, 'X[505] <= -0.69\\ngini = 0.5\\nsamples = 2\\nvalue = [1, 0, 0, 0, 1, 0, 0, 0, 0, 0, 0, 0]'),\n",
       " Text(135.72103746397696, 33.0886956521739, 'gini = 0.0\\nsamples = 1\\nvalue = [0, 0, 0, 0, 1, 0, 0, 0, 0, 0, 0, 0]'),\n",
       " Text(138.29394812680115, 33.0886956521739, 'gini = 0.0\\nsamples = 1\\nvalue = [1, 0, 0, 0, 0, 0, 0, 0, 0, 0, 0, 0]'),\n",
       " Text(140.86685878962538, 51.99652173913043, 'X[384] <= -0.783\\ngini = 0.5\\nsamples = 2\\nvalue = [0, 0, 0, 0, 1, 1, 0, 0, 0, 0, 0, 0]'),\n",
       " Text(139.58040345821328, 42.54260869565218, 'gini = 0.0\\nsamples = 1\\nvalue = [0, 0, 0, 0, 0, 1, 0, 0, 0, 0, 0, 0]'),\n",
       " Text(142.15331412103748, 42.54260869565218, 'gini = 0.0\\nsamples = 1\\nvalue = [0, 0, 0, 0, 1, 0, 0, 0, 0, 0, 0, 0]'),\n",
       " Text(138.6155619596542, 70.90434782608696, 'gini = 0.0\\nsamples = 1\\nvalue = [0, 0, 0, 0, 0, 1, 0, 0, 0, 0, 0, 0]'),\n",
       " Text(139.9020172910663, 80.35826086956521, 'gini = 0.0\\nsamples = 1\\nvalue = [0, 0, 0, 0, 0, 1, 0, 0, 0, 0, 0, 0]'),\n",
       " Text(143.7613832853026, 89.81217391304348, 'X[6] <= -0.346\\ngini = 0.5\\nsamples = 6\\nvalue = [3, 0, 0, 0, 3, 0, 0, 0, 0, 0, 0, 0]'),\n",
       " Text(142.4749279538905, 80.35826086956521, 'gini = 0.0\\nsamples = 3\\nvalue = [3, 0, 0, 0, 0, 0, 0, 0, 0, 0, 0, 0]'),\n",
       " Text(145.0478386167147, 80.35826086956521, 'gini = 0.0\\nsamples = 3\\nvalue = [0, 0, 0, 0, 3, 0, 0, 0, 0, 0, 0, 0]'),\n",
       " Text(147.62074927953893, 99.26608695652173, 'X[368] <= 0.202\\ngini = 0.5\\nsamples = 2\\nvalue = [0, 0, 0, 0, 0, 1, 0, 0, 0, 1, 0, 0]'),\n",
       " Text(146.33429394812683, 89.81217391304348, 'gini = 0.0\\nsamples = 1\\nvalue = [0, 0, 0, 0, 0, 0, 0, 0, 0, 1, 0, 0]'),\n",
       " Text(148.90720461095103, 89.81217391304348, 'gini = 0.0\\nsamples = 1\\nvalue = [0, 0, 0, 0, 0, 1, 0, 0, 0, 0, 0, 0]'),\n",
       " Text(146.97752161383286, 108.72, 'gini = 0.0\\nsamples = 2\\nvalue = [0, 0, 0, 0, 0, 2, 0, 0, 0, 0, 0, 0]'),\n",
       " Text(155.9827089337176, 155.98956521739132, 'X[73] <= -0.624\\ngini = 0.698\\nsamples = 80\\nvalue = [29, 1, 4, 0, 26, 0, 0, 0, 0, 20, 0, 0]'),\n",
       " Text(153.4097982708934, 146.53565217391304, 'X[511] <= -0.921\\ngini = 0.578\\nsamples = 46\\nvalue = [0, 1, 3, 0, 22, 0, 0, 0, 0, 20, 0, 0]'),\n",
       " Text(152.1233429394813, 137.08173913043478, 'X[239] <= -0.026\\ngini = 0.342\\nsamples = 25\\nvalue = [0, 1, 3, 0, 1, 0, 0, 0, 0, 20, 0, 0]'),\n",
       " Text(149.5504322766571, 127.62782608695652, 'X[356] <= -0.826\\ngini = 0.091\\nsamples = 21\\nvalue = [0, 0, 0, 0, 1, 0, 0, 0, 0, 20, 0, 0]'),\n",
       " Text(148.26397694524496, 118.17391304347825, 'gini = 0.0\\nsamples = 20\\nvalue = [0, 0, 0, 0, 0, 0, 0, 0, 0, 20, 0, 0]'),\n",
       " Text(150.8368876080692, 118.17391304347825, 'gini = 0.0\\nsamples = 1\\nvalue = [0, 0, 0, 0, 1, 0, 0, 0, 0, 0, 0, 0]'),\n",
       " Text(154.6962536023055, 127.62782608695652, 'X[52] <= 0.146\\ngini = 0.375\\nsamples = 4\\nvalue = [0, 1, 3, 0, 0, 0, 0, 0, 0, 0, 0, 0]'),\n",
       " Text(153.4097982708934, 118.17391304347825, 'gini = 0.0\\nsamples = 1\\nvalue = [0, 1, 0, 0, 0, 0, 0, 0, 0, 0, 0, 0]'),\n",
       " Text(155.9827089337176, 118.17391304347825, 'gini = 0.0\\nsamples = 3\\nvalue = [0, 0, 3, 0, 0, 0, 0, 0, 0, 0, 0, 0]'),\n",
       " Text(154.6962536023055, 137.08173913043478, 'gini = 0.0\\nsamples = 21\\nvalue = [0, 0, 0, 0, 21, 0, 0, 0, 0, 0, 0, 0]'),\n",
       " Text(158.55561959654182, 146.53565217391304, 'X[128] <= -0.251\\ngini = 0.258\\nsamples = 34\\nvalue = [29, 0, 1, 0, 4, 0, 0, 0, 0, 0, 0, 0]'),\n",
       " Text(157.2691642651297, 137.08173913043478, 'gini = 0.0\\nsamples = 29\\nvalue = [29, 0, 0, 0, 0, 0, 0, 0, 0, 0, 0, 0]'),\n",
       " Text(159.84207492795392, 137.08173913043478, 'X[159] <= -0.389\\ngini = 0.32\\nsamples = 5\\nvalue = [0, 0, 1, 0, 4, 0, 0, 0, 0, 0, 0, 0]'),\n",
       " Text(158.55561959654182, 127.62782608695652, 'gini = 0.0\\nsamples = 1\\nvalue = [0, 0, 1, 0, 0, 0, 0, 0, 0, 0, 0, 0]'),\n",
       " Text(161.12853025936602, 127.62782608695652, 'gini = 0.0\\nsamples = 4\\nvalue = [0, 0, 0, 0, 4, 0, 0, 0, 0, 0, 0, 0]'),\n",
       " Text(202.29510086455335, 165.44347826086957, 'X[1] <= 0.078\\ngini = 0.884\\nsamples = 464\\nvalue = [50, 46, 79, 42, 50, 59, 8, 0, 15, 20, 23, 72]'),\n",
       " Text(183.80230547550434, 155.98956521739132, 'X[290] <= -0.9\\ngini = 0.857\\nsamples = 300\\nvalue = [50, 46, 6, 41, 48, 59, 5, 0, 10, 10, 23, 2]'),\n",
       " Text(174.3146974063401, 146.53565217391304, 'X[52] <= 0.375\\ngini = 0.768\\nsamples = 140\\nvalue = [0, 46, 6, 41, 0, 0, 4, 0, 10, 8, 23, 2]'),\n",
       " Text(166.91757925072048, 137.08173913043478, 'X[9] <= -0.316\\ngini = 0.609\\nsamples = 100\\nvalue = [0, 46, 3, 41, 0, 0, 0, 0, 10, 0, 0, 0]'),\n",
       " Text(163.70144092219022, 127.62782608695652, 'X[500] <= -0.918\\ngini = 0.355\\nsamples = 13\\nvalue = [0, 0, 3, 0, 0, 0, 0, 0, 10, 0, 0, 0]'),\n",
       " Text(162.41498559077812, 118.17391304347825, 'gini = 0.0\\nsamples = 10\\nvalue = [0, 0, 0, 0, 0, 0, 0, 0, 10, 0, 0, 0]'),\n",
       " Text(164.98789625360232, 118.17391304347825, 'gini = 0.0\\nsamples = 3\\nvalue = [0, 0, 3, 0, 0, 0, 0, 0, 0, 0, 0, 0]'),\n",
       " Text(170.13371757925074, 127.62782608695652, 'X[16] <= -0.501\\ngini = 0.498\\nsamples = 87\\nvalue = [0, 46, 0, 41, 0, 0, 0, 0, 0, 0, 0, 0]'),\n",
       " Text(167.56080691642654, 118.17391304347825, 'X[16] <= -0.843\\ngini = 0.153\\nsamples = 24\\nvalue = [0, 22, 0, 2, 0, 0, 0, 0, 0, 0, 0, 0]'),\n",
       " Text(166.27435158501441, 108.72, 'gini = 0.0\\nsamples = 2\\nvalue = [0, 0, 0, 2, 0, 0, 0, 0, 0, 0, 0, 0]'),\n",
       " Text(168.84726224783864, 108.72, 'gini = 0.0\\nsamples = 22\\nvalue = [0, 22, 0, 0, 0, 0, 0, 0, 0, 0, 0, 0]'),\n",
       " Text(172.70662824207494, 118.17391304347825, 'X[132] <= 0.518\\ngini = 0.472\\nsamples = 63\\nvalue = [0, 24, 0, 39, 0, 0, 0, 0, 0, 0, 0, 0]'),\n",
       " Text(171.42017291066284, 108.72, 'gini = 0.0\\nsamples = 19\\nvalue = [0, 0, 0, 19, 0, 0, 0, 0, 0, 0, 0, 0]'),\n",
       " Text(173.99308357348704, 108.72, 'X[156] <= 0.134\\ngini = 0.496\\nsamples = 44\\nvalue = [0, 24, 0, 20, 0, 0, 0, 0, 0, 0, 0, 0]'),\n",
       " Text(171.42017291066284, 99.26608695652173, 'X[168] <= -0.888\\ngini = 0.142\\nsamples = 13\\nvalue = [0, 1, 0, 12, 0, 0, 0, 0, 0, 0, 0, 0]'),\n",
       " Text(170.13371757925074, 89.81217391304348, 'gini = 0.0\\nsamples = 1\\nvalue = [0, 1, 0, 0, 0, 0, 0, 0, 0, 0, 0, 0]'),\n",
       " Text(172.70662824207494, 89.81217391304348, 'gini = 0.0\\nsamples = 12\\nvalue = [0, 0, 0, 12, 0, 0, 0, 0, 0, 0, 0, 0]'),\n",
       " Text(176.56599423631127, 99.26608695652173, 'X[333] <= -0.959\\ngini = 0.383\\nsamples = 31\\nvalue = [0, 23, 0, 8, 0, 0, 0, 0, 0, 0, 0, 0]'),\n",
       " Text(175.27953890489914, 89.81217391304348, 'X[75] <= -0.944\\ngini = 0.252\\nsamples = 27\\nvalue = [0, 23, 0, 4, 0, 0, 0, 0, 0, 0, 0, 0]'),\n",
       " Text(172.70662824207494, 80.35826086956521, 'X[66] <= 0.95\\ngini = 0.375\\nsamples = 4\\nvalue = [0, 1, 0, 3, 0, 0, 0, 0, 0, 0, 0, 0]'),\n",
       " Text(171.42017291066284, 70.90434782608696, 'gini = 0.0\\nsamples = 1\\nvalue = [0, 1, 0, 0, 0, 0, 0, 0, 0, 0, 0, 0]'),\n",
       " Text(173.99308357348704, 70.90434782608696, 'gini = 0.0\\nsamples = 3\\nvalue = [0, 0, 0, 3, 0, 0, 0, 0, 0, 0, 0, 0]'),\n",
       " Text(177.85244956772337, 80.35826086956521, 'X[510] <= 0.375\\ngini = 0.083\\nsamples = 23\\nvalue = [0, 22, 0, 1, 0, 0, 0, 0, 0, 0, 0, 0]'),\n",
       " Text(176.56599423631127, 70.90434782608696, 'gini = 0.0\\nsamples = 22\\nvalue = [0, 22, 0, 0, 0, 0, 0, 0, 0, 0, 0, 0]'),\n",
       " Text(179.13890489913547, 70.90434782608696, 'gini = 0.0\\nsamples = 1\\nvalue = [0, 0, 0, 1, 0, 0, 0, 0, 0, 0, 0, 0]'),\n",
       " Text(177.85244956772337, 89.81217391304348, 'gini = 0.0\\nsamples = 4\\nvalue = [0, 0, 0, 4, 0, 0, 0, 0, 0, 0, 0, 0]'),\n",
       " Text(181.71181556195967, 137.08173913043478, 'X[121] <= 0.047\\ngini = 0.611\\nsamples = 40\\nvalue = [0, 0, 3, 0, 0, 0, 4, 0, 0, 8, 23, 2]'),\n",
       " Text(179.13890489913547, 127.62782608695652, 'X[206] <= -0.88\\ngini = 0.21\\nsamples = 26\\nvalue = [0, 0, 1, 0, 0, 0, 2, 0, 0, 0, 23, 0]'),\n",
       " Text(177.85244956772337, 118.17391304347825, 'X[120] <= 0.029\\ngini = 0.444\\nsamples = 3\\nvalue = [0, 0, 1, 0, 0, 0, 2, 0, 0, 0, 0, 0]'),\n",
       " Text(176.56599423631127, 108.72, 'gini = 0.0\\nsamples = 2\\nvalue = [0, 0, 0, 0, 0, 0, 2, 0, 0, 0, 0, 0]'),\n",
       " Text(179.13890489913547, 108.72, 'gini = 0.0\\nsamples = 1\\nvalue = [0, 0, 1, 0, 0, 0, 0, 0, 0, 0, 0, 0]'),\n",
       " Text(180.42536023054757, 118.17391304347825, 'gini = 0.0\\nsamples = 23\\nvalue = [0, 0, 0, 0, 0, 0, 0, 0, 0, 0, 23, 0]'),\n",
       " Text(184.2847262247839, 127.62782608695652, 'X[80] <= -0.028\\ngini = 0.612\\nsamples = 14\\nvalue = [0, 0, 2, 0, 0, 0, 2, 0, 0, 8, 0, 2]'),\n",
       " Text(182.99827089337177, 118.17391304347825, 'X[383] <= -0.995\\ngini = 0.667\\nsamples = 6\\nvalue = [0, 0, 2, 0, 0, 0, 2, 0, 0, 0, 0, 2]'),\n",
       " Text(181.71181556195967, 108.72, 'gini = 0.0\\nsamples = 2\\nvalue = [0, 0, 0, 0, 0, 0, 2, 0, 0, 0, 0, 0]'),\n",
       " Text(184.2847262247839, 108.72, 'X[526] <= -0.255\\ngini = 0.5\\nsamples = 4\\nvalue = [0, 0, 2, 0, 0, 0, 0, 0, 0, 0, 0, 2]'),\n",
       " Text(182.99827089337177, 99.26608695652173, 'gini = 0.0\\nsamples = 2\\nvalue = [0, 0, 0, 0, 0, 0, 0, 0, 0, 0, 0, 2]'),\n",
       " Text(185.571181556196, 99.26608695652173, 'gini = 0.0\\nsamples = 2\\nvalue = [0, 0, 2, 0, 0, 0, 0, 0, 0, 0, 0, 0]'),\n",
       " Text(185.571181556196, 118.17391304347825, 'gini = 0.0\\nsamples = 8\\nvalue = [0, 0, 0, 0, 0, 0, 0, 0, 0, 8, 0, 0]'),\n",
       " Text(193.28991354466862, 146.53565217391304, 'X[37] <= -0.335\\ngini = 0.676\\nsamples = 160\\nvalue = [50, 0, 0, 0, 48, 59, 1, 0, 0, 2, 0, 0]'),\n",
       " Text(188.1440922190202, 137.08173913043478, 'X[459] <= -0.446\\ngini = 0.171\\nsamples = 53\\nvalue = [0, 0, 0, 0, 5, 48, 0, 0, 0, 0, 0, 0]'),\n",
       " Text(186.8576368876081, 127.62782608695652, 'gini = 0.0\\nsamples = 47\\nvalue = [0, 0, 0, 0, 0, 47, 0, 0, 0, 0, 0, 0]'),\n",
       " Text(189.4305475504323, 127.62782608695652, 'X[461] <= -0.957\\ngini = 0.278\\nsamples = 6\\nvalue = [0, 0, 0, 0, 5, 1, 0, 0, 0, 0, 0, 0]'),\n",
       " Text(188.1440922190202, 118.17391304347825, 'gini = 0.0\\nsamples = 1\\nvalue = [0, 0, 0, 0, 0, 1, 0, 0, 0, 0, 0, 0]'),\n",
       " Text(190.7170028818444, 118.17391304347825, 'gini = 0.0\\nsamples = 5\\nvalue = [0, 0, 0, 0, 5, 0, 0, 0, 0, 0, 0, 0]'),\n",
       " Text(198.43573487031702, 137.08173913043478, 'X[57] <= -0.966\\ngini = 0.609\\nsamples = 107\\nvalue = [50, 0, 0, 0, 43, 11, 1, 0, 0, 2, 0, 0]'),\n",
       " Text(194.57636887608072, 127.62782608695652, 'X[504] <= -0.383\\ngini = 0.405\\nsamples = 64\\nvalue = [48, 0, 0, 0, 3, 11, 0, 0, 0, 2, 0, 0]'),\n",
       " Text(193.28991354466862, 118.17391304347825, 'gini = 0.0\\nsamples = 40\\nvalue = [40, 0, 0, 0, 0, 0, 0, 0, 0, 0, 0, 0]'),\n",
       " Text(195.86282420749282, 118.17391304347825, 'X[156] <= 0.357\\ngini = 0.656\\nsamples = 24\\nvalue = [8, 0, 0, 0, 3, 11, 0, 0, 0, 2, 0, 0]'),\n",
       " Text(194.57636887608072, 108.72, 'X[76] <= 0.868\\ngini = 0.477\\nsamples = 16\\nvalue = [0, 0, 0, 0, 3, 11, 0, 0, 0, 2, 0, 0]'),\n",
       " Text(193.28991354466862, 99.26608695652173, 'gini = 0.0\\nsamples = 11\\nvalue = [0, 0, 0, 0, 0, 11, 0, 0, 0, 0, 0, 0]'),\n",
       " Text(195.86282420749282, 99.26608695652173, 'X[38] <= -0.162\\ngini = 0.48\\nsamples = 5\\nvalue = [0, 0, 0, 0, 3, 0, 0, 0, 0, 2, 0, 0]'),\n",
       " Text(194.57636887608072, 89.81217391304348, 'gini = 0.0\\nsamples = 3\\nvalue = [0, 0, 0, 0, 3, 0, 0, 0, 0, 0, 0, 0]'),\n",
       " Text(197.14927953890492, 89.81217391304348, 'gini = 0.0\\nsamples = 2\\nvalue = [0, 0, 0, 0, 0, 0, 0, 0, 0, 2, 0, 0]'),\n",
       " Text(197.14927953890492, 108.72, 'gini = 0.0\\nsamples = 8\\nvalue = [8, 0, 0, 0, 0, 0, 0, 0, 0, 0, 0, 0]'),\n",
       " Text(202.29510086455335, 127.62782608695652, 'X[52] <= 0.976\\ngini = 0.132\\nsamples = 43\\nvalue = [2, 0, 0, 0, 40, 0, 1, 0, 0, 0, 0, 0]'),\n",
       " Text(201.00864553314122, 118.17391304347825, 'X[144] <= -0.574\\ngini = 0.048\\nsamples = 41\\nvalue = [0, 0, 0, 0, 40, 0, 1, 0, 0, 0, 0, 0]'),\n",
       " Text(199.72219020172912, 108.72, 'gini = 0.0\\nsamples = 1\\nvalue = [0, 0, 0, 0, 0, 0, 1, 0, 0, 0, 0, 0]'),\n",
       " Text(202.29510086455335, 108.72, 'gini = 0.0\\nsamples = 40\\nvalue = [0, 0, 0, 0, 40, 0, 0, 0, 0, 0, 0, 0]'),\n",
       " Text(203.58155619596545, 118.17391304347825, 'gini = 0.0\\nsamples = 2\\nvalue = [2, 0, 0, 0, 0, 0, 0, 0, 0, 0, 0, 0]'),\n",
       " Text(220.78789625360233, 155.98956521739132, 'X[53] <= -0.088\\ngini = 0.615\\nsamples = 164\\nvalue = [0, 0, 73, 1, 2, 0, 3, 0, 5, 10, 0, 70]'),\n",
       " Text(212.9083573487032, 146.53565217391304, 'X[136] <= -0.905\\ngini = 0.42\\nsamples = 78\\nvalue = [0, 0, 58, 1, 0, 0, 1, 0, 0, 10, 0, 8]'),\n",
       " Text(208.72737752161385, 137.08173913043478, 'X[360] <= -0.983\\ngini = 0.379\\nsamples = 13\\nvalue = [0, 0, 0, 0, 0, 0, 1, 0, 0, 10, 0, 2]'),\n",
       " Text(207.44092219020175, 127.62782608695652, 'X[14] <= 0.626\\ngini = 0.444\\nsamples = 3\\nvalue = [0, 0, 0, 0, 0, 0, 1, 0, 0, 0, 0, 2]'),\n",
       " Text(206.15446685878965, 118.17391304347825, 'gini = 0.0\\nsamples = 2\\nvalue = [0, 0, 0, 0, 0, 0, 0, 0, 0, 0, 0, 2]'),\n",
       " Text(208.72737752161385, 118.17391304347825, 'gini = 0.0\\nsamples = 1\\nvalue = [0, 0, 0, 0, 0, 0, 1, 0, 0, 0, 0, 0]'),\n",
       " Text(210.01383285302595, 127.62782608695652, 'gini = 0.0\\nsamples = 10\\nvalue = [0, 0, 0, 0, 0, 0, 0, 0, 0, 10, 0, 0]'),\n",
       " Text(217.08933717579254, 137.08173913043478, 'X[187] <= 0.203\\ngini = 0.195\\nsamples = 65\\nvalue = [0, 0, 58, 1, 0, 0, 0, 0, 0, 0, 0, 6]'),\n",
       " Text(213.87319884726227, 127.62782608695652, 'X[204] <= -0.944\\ngini = 0.098\\nsamples = 59\\nvalue = [0, 0, 56, 1, 0, 0, 0, 0, 0, 0, 0, 2]'),\n",
       " Text(211.30028818443807, 118.17391304347825, 'X[227] <= -0.819\\ngini = 0.5\\nsamples = 2\\nvalue = [0, 0, 0, 1, 0, 0, 0, 0, 0, 0, 0, 1]'),\n",
       " Text(210.01383285302595, 108.72, 'gini = 0.0\\nsamples = 1\\nvalue = [0, 0, 0, 1, 0, 0, 0, 0, 0, 0, 0, 0]'),\n",
       " Text(212.58674351585017, 108.72, 'gini = 0.0\\nsamples = 1\\nvalue = [0, 0, 0, 0, 0, 0, 0, 0, 0, 0, 0, 1]'),\n",
       " Text(216.44610951008647, 118.17391304347825, 'X[264] <= 0.355\\ngini = 0.034\\nsamples = 57\\nvalue = [0, 0, 56, 0, 0, 0, 0, 0, 0, 0, 0, 1]'),\n",
       " Text(215.15965417867437, 108.72, 'gini = 0.0\\nsamples = 56\\nvalue = [0, 0, 56, 0, 0, 0, 0, 0, 0, 0, 0, 0]'),\n",
       " Text(217.73256484149857, 108.72, 'gini = 0.0\\nsamples = 1\\nvalue = [0, 0, 0, 0, 0, 0, 0, 0, 0, 0, 0, 1]'),\n",
       " Text(220.3054755043228, 127.62782608695652, 'X[498] <= -0.975\\ngini = 0.444\\nsamples = 6\\nvalue = [0, 0, 2, 0, 0, 0, 0, 0, 0, 0, 0, 4]'),\n",
       " Text(219.0190201729107, 118.17391304347825, 'gini = 0.0\\nsamples = 2\\nvalue = [0, 0, 2, 0, 0, 0, 0, 0, 0, 0, 0, 0]'),\n",
       " Text(221.5919308357349, 118.17391304347825, 'gini = 0.0\\nsamples = 4\\nvalue = [0, 0, 0, 0, 0, 0, 0, 0, 0, 0, 0, 4]'),\n",
       " Text(228.66743515850146, 146.53565217391304, 'X[17] <= -0.826\\ngini = 0.445\\nsamples = 86\\nvalue = [0, 0, 15, 0, 2, 0, 2, 0, 5, 0, 0, 62]'),\n",
       " Text(224.1648414985591, 137.08173913043478, 'X[554] <= -0.031\\ngini = 0.727\\nsamples = 11\\nvalue = [0, 0, 3, 0, 2, 0, 2, 0, 4, 0, 0, 0]'),\n",
       " Text(222.878386167147, 127.62782608695652, 'gini = 0.0\\nsamples = 4\\nvalue = [0, 0, 0, 0, 0, 0, 0, 0, 4, 0, 0, 0]'),\n",
       " Text(225.4512968299712, 127.62782608695652, 'X[294] <= -0.164\\ngini = 0.653\\nsamples = 7\\nvalue = [0, 0, 3, 0, 2, 0, 2, 0, 0, 0, 0, 0]'),\n",
       " Text(224.1648414985591, 118.17391304347825, 'X[348] <= -0.675\\ngini = 0.5\\nsamples = 4\\nvalue = [0, 0, 0, 0, 2, 0, 2, 0, 0, 0, 0, 0]'),\n",
       " Text(222.878386167147, 108.72, 'gini = 0.0\\nsamples = 2\\nvalue = [0, 0, 0, 0, 0, 0, 2, 0, 0, 0, 0, 0]'),\n",
       " Text(225.4512968299712, 108.72, 'gini = 0.0\\nsamples = 2\\nvalue = [0, 0, 0, 0, 2, 0, 0, 0, 0, 0, 0, 0]'),\n",
       " Text(226.7377521613833, 118.17391304347825, 'gini = 0.0\\nsamples = 3\\nvalue = [0, 0, 3, 0, 0, 0, 0, 0, 0, 0, 0, 0]'),\n",
       " Text(233.17002881844383, 137.08173913043478, 'X[135] <= 0.218\\ngini = 0.291\\nsamples = 75\\nvalue = [0, 0, 12, 0, 0, 0, 0, 0, 1, 0, 0, 62]'),\n",
       " Text(231.88357348703173, 127.62782608695652, 'X[198] <= -0.121\\ngini = 0.225\\nsamples = 71\\nvalue = [0, 0, 8, 0, 0, 0, 0, 0, 1, 0, 0, 62]'),\n",
       " Text(229.31066282420753, 118.17391304347825, 'X[387] <= -0.994\\ngini = 0.547\\nsamples = 17\\nvalue = [0, 0, 7, 0, 0, 0, 0, 0, 1, 0, 0, 9]'),\n",
       " Text(228.02420749279543, 108.72, 'gini = 0.0\\nsamples = 7\\nvalue = [0, 0, 0, 0, 0, 0, 0, 0, 0, 0, 0, 7]'),\n",
       " Text(230.59711815561963, 108.72, 'X[507] <= 0.002\\ngini = 0.46\\nsamples = 10\\nvalue = [0, 0, 7, 0, 0, 0, 0, 0, 1, 0, 0, 2]'),\n",
       " Text(229.31066282420753, 99.26608695652173, 'gini = 0.0\\nsamples = 7\\nvalue = [0, 0, 7, 0, 0, 0, 0, 0, 0, 0, 0, 0]'),\n",
       " Text(231.88357348703173, 99.26608695652173, 'X[60] <= -0.296\\ngini = 0.444\\nsamples = 3\\nvalue = [0, 0, 0, 0, 0, 0, 0, 0, 1, 0, 0, 2]'),\n",
       " Text(230.59711815561963, 89.81217391304348, 'gini = 0.0\\nsamples = 1\\nvalue = [0, 0, 0, 0, 0, 0, 0, 0, 1, 0, 0, 0]'),\n",
       " Text(233.17002881844383, 89.81217391304348, 'gini = 0.0\\nsamples = 2\\nvalue = [0, 0, 0, 0, 0, 0, 0, 0, 0, 0, 0, 2]'),\n",
       " Text(234.45648414985592, 118.17391304347825, 'X[196] <= 0.382\\ngini = 0.036\\nsamples = 54\\nvalue = [0, 0, 1, 0, 0, 0, 0, 0, 0, 0, 0, 53]'),\n",
       " Text(233.17002881844383, 108.72, 'gini = 0.0\\nsamples = 53\\nvalue = [0, 0, 0, 0, 0, 0, 0, 0, 0, 0, 0, 53]'),\n",
       " Text(235.74293948126802, 108.72, 'gini = 0.0\\nsamples = 1\\nvalue = [0, 0, 1, 0, 0, 0, 0, 0, 0, 0, 0, 0]'),\n",
       " Text(234.45648414985592, 127.62782608695652, 'gini = 0.0\\nsamples = 4\\nvalue = [0, 0, 4, 0, 0, 0, 0, 0, 0, 0, 0, 0]'),\n",
       " Text(256.0850144092219, 174.89739130434782, 'X[448] <= -0.967\\ngini = 0.326\\nsamples = 1328\\nvalue = [1075, 1, 1, 0, 154, 97, 0, 0, 0, 0, 0, 0]'),\n",
       " Text(242.81844380403462, 165.44347826086957, 'X[504] <= -0.128\\ngini = 0.589\\nsamples = 128\\nvalue = [14, 0, 0, 0, 61, 53, 0, 0, 0, 0, 0, 0]'),\n",
       " Text(239.60230547550435, 155.98956521739132, 'X[296] <= -0.259\\ngini = 0.49\\nsamples = 77\\nvalue = [14, 0, 0, 0, 52, 11, 0, 0, 0, 0, 0, 0]'),\n",
       " Text(237.02939481268015, 146.53565217391304, 'X[506] <= -0.334\\ngini = 0.142\\nsamples = 13\\nvalue = [12, 0, 0, 0, 0, 1, 0, 0, 0, 0, 0, 0]'),\n",
       " Text(235.74293948126802, 137.08173913043478, 'gini = 0.0\\nsamples = 12\\nvalue = [12, 0, 0, 0, 0, 0, 0, 0, 0, 0, 0, 0]'),\n",
       " Text(238.31585014409225, 137.08173913043478, 'gini = 0.0\\nsamples = 1\\nvalue = [0, 0, 0, 0, 0, 1, 0, 0, 0, 0, 0, 0]'),\n",
       " Text(242.17521613832855, 146.53565217391304, 'X[57] <= -0.946\\ngini = 0.314\\nsamples = 64\\nvalue = [2, 0, 0, 0, 52, 10, 0, 0, 0, 0, 0, 0]'),\n",
       " Text(240.88876080691645, 137.08173913043478, 'gini = 0.0\\nsamples = 8\\nvalue = [0, 0, 0, 0, 0, 8, 0, 0, 0, 0, 0, 0]'),\n",
       " Text(243.46167146974065, 137.08173913043478, 'X[330] <= -0.937\\ngini = 0.135\\nsamples = 56\\nvalue = [2, 0, 0, 0, 52, 2, 0, 0, 0, 0, 0, 0]'),\n",
       " Text(240.88876080691645, 127.62782608695652, 'X[37] <= -0.28\\ngini = 0.625\\nsamples = 4\\nvalue = [2, 0, 0, 0, 1, 1, 0, 0, 0, 0, 0, 0]'),\n",
       " Text(239.60230547550435, 118.17391304347825, 'X[282] <= -0.755\\ngini = 0.5\\nsamples = 2\\nvalue = [0, 0, 0, 0, 1, 1, 0, 0, 0, 0, 0, 0]'),\n",
       " Text(238.31585014409225, 108.72, 'gini = 0.0\\nsamples = 1\\nvalue = [0, 0, 0, 0, 0, 1, 0, 0, 0, 0, 0, 0]'),\n",
       " Text(240.88876080691645, 108.72, 'gini = 0.0\\nsamples = 1\\nvalue = [0, 0, 0, 0, 1, 0, 0, 0, 0, 0, 0, 0]'),\n",
       " Text(242.17521613832855, 118.17391304347825, 'gini = 0.0\\nsamples = 2\\nvalue = [2, 0, 0, 0, 0, 0, 0, 0, 0, 0, 0, 0]'),\n",
       " Text(246.03458213256488, 127.62782608695652, 'X[538] <= 0.255\\ngini = 0.038\\nsamples = 52\\nvalue = [0, 0, 0, 0, 51, 1, 0, 0, 0, 0, 0, 0]'),\n",
       " Text(244.74812680115275, 118.17391304347825, 'gini = 0.0\\nsamples = 51\\nvalue = [0, 0, 0, 0, 51, 0, 0, 0, 0, 0, 0, 0]'),\n",
       " Text(247.32103746397698, 118.17391304347825, 'gini = 0.0\\nsamples = 1\\nvalue = [0, 0, 0, 0, 0, 1, 0, 0, 0, 0, 0, 0]'),\n",
       " Text(246.03458213256488, 155.98956521739132, 'X[50] <= -0.31\\ngini = 0.291\\nsamples = 51\\nvalue = [0, 0, 0, 0, 9, 42, 0, 0, 0, 0, 0, 0]'),\n",
       " Text(244.74812680115275, 146.53565217391304, 'gini = 0.0\\nsamples = 7\\nvalue = [0, 0, 0, 0, 7, 0, 0, 0, 0, 0, 0, 0]'),\n",
       " Text(247.32103746397698, 146.53565217391304, 'X[458] <= -0.093\\ngini = 0.087\\nsamples = 44\\nvalue = [0, 0, 0, 0, 2, 42, 0, 0, 0, 0, 0, 0]'),\n",
       " Text(246.03458213256488, 137.08173913043478, 'gini = 0.0\\nsamples = 42\\nvalue = [0, 0, 0, 0, 0, 42, 0, 0, 0, 0, 0, 0]'),\n",
       " Text(248.60749279538908, 137.08173913043478, 'gini = 0.0\\nsamples = 2\\nvalue = [0, 0, 0, 0, 2, 0, 0, 0, 0, 0, 0, 0]'),\n",
       " Text(269.35158501440924, 165.44347826086957, 'X[222] <= -0.23\\ngini = 0.211\\nsamples = 1200\\nvalue = [1061, 1, 1, 0, 93, 44, 0, 0, 0, 0, 0, 0]'),\n",
       " Text(257.6126801152738, 155.98956521739132, 'X[53] <= -0.273\\ngini = 0.654\\nsamples = 125\\nvalue = [46, 1, 0, 0, 50, 28, 0, 0, 0, 0, 0, 0]'),\n",
       " Text(256.3262247838617, 146.53565217391304, 'gini = 0.0\\nsamples = 36\\nvalue = [0, 0, 0, 0, 36, 0, 0, 0, 0, 0, 0, 0]'),\n",
       " Text(258.89913544668593, 146.53565217391304, 'X[274] <= -0.34\\ngini = 0.609\\nsamples = 89\\nvalue = [46, 1, 0, 0, 14, 28, 0, 0, 0, 0, 0, 0]'),\n",
       " Text(253.7533141210375, 137.08173913043478, 'X[73] <= -0.597\\ngini = 0.278\\nsamples = 51\\nvalue = [43, 1, 0, 0, 5, 2, 0, 0, 0, 0, 0, 0]'),\n",
       " Text(251.18040345821328, 127.62782608695652, 'X[523] <= -0.013\\ngini = 0.278\\nsamples = 6\\nvalue = [0, 1, 0, 0, 5, 0, 0, 0, 0, 0, 0, 0]'),\n",
       " Text(249.89394812680118, 118.17391304347825, 'gini = 0.0\\nsamples = 1\\nvalue = [0, 1, 0, 0, 0, 0, 0, 0, 0, 0, 0, 0]'),\n",
       " Text(252.46685878962538, 118.17391304347825, 'gini = 0.0\\nsamples = 5\\nvalue = [0, 0, 0, 0, 5, 0, 0, 0, 0, 0, 0, 0]'),\n",
       " Text(256.3262247838617, 127.62782608695652, 'X[248] <= -0.232\\ngini = 0.085\\nsamples = 45\\nvalue = [43, 0, 0, 0, 0, 2, 0, 0, 0, 0, 0, 0]'),\n",
       " Text(255.0397694524496, 118.17391304347825, 'X[214] <= -0.561\\ngini = 0.444\\nsamples = 3\\nvalue = [1, 0, 0, 0, 0, 2, 0, 0, 0, 0, 0, 0]'),\n",
       " Text(253.7533141210375, 108.72, 'gini = 0.0\\nsamples = 1\\nvalue = [1, 0, 0, 0, 0, 0, 0, 0, 0, 0, 0, 0]'),\n",
       " Text(256.3262247838617, 108.72, 'gini = 0.0\\nsamples = 2\\nvalue = [0, 0, 0, 0, 0, 2, 0, 0, 0, 0, 0, 0]'),\n",
       " Text(257.6126801152738, 118.17391304347825, 'gini = 0.0\\nsamples = 42\\nvalue = [42, 0, 0, 0, 0, 0, 0, 0, 0, 0, 0, 0]'),\n",
       " Text(264.04495677233433, 137.08173913043478, 'X[276] <= -0.629\\ngini = 0.47\\nsamples = 38\\nvalue = [3, 0, 0, 0, 9, 26, 0, 0, 0, 0, 0, 0]'),\n",
       " Text(261.47204610951013, 127.62782608695652, 'X[159] <= 0.185\\ngini = 0.19\\nsamples = 29\\nvalue = [2, 0, 0, 0, 1, 26, 0, 0, 0, 0, 0, 0]'),\n",
       " Text(260.185590778098, 118.17391304347825, 'gini = 0.0\\nsamples = 26\\nvalue = [0, 0, 0, 0, 0, 26, 0, 0, 0, 0, 0, 0]'),\n",
       " Text(262.7585014409222, 118.17391304347825, 'X[470] <= -0.927\\ngini = 0.444\\nsamples = 3\\nvalue = [2, 0, 0, 0, 1, 0, 0, 0, 0, 0, 0, 0]'),\n",
       " Text(261.47204610951013, 108.72, 'gini = 0.0\\nsamples = 1\\nvalue = [0, 0, 0, 0, 1, 0, 0, 0, 0, 0, 0, 0]'),\n",
       " Text(264.04495677233433, 108.72, 'gini = 0.0\\nsamples = 2\\nvalue = [2, 0, 0, 0, 0, 0, 0, 0, 0, 0, 0, 0]'),\n",
       " Text(266.61786743515853, 127.62782608695652, 'X[52] <= 0.966\\ngini = 0.198\\nsamples = 9\\nvalue = [1, 0, 0, 0, 8, 0, 0, 0, 0, 0, 0, 0]'),\n",
       " Text(265.3314121037464, 118.17391304347825, 'gini = 0.0\\nsamples = 8\\nvalue = [0, 0, 0, 0, 8, 0, 0, 0, 0, 0, 0, 0]'),\n",
       " Text(267.90432276657066, 118.17391304347825, 'gini = 0.0\\nsamples = 1\\nvalue = [1, 0, 0, 0, 0, 0, 0, 0, 0, 0, 0, 0]'),\n",
       " Text(281.0904899135447, 155.98956521739132, 'X[559] <= 0.299\\ngini = 0.107\\nsamples = 1075\\nvalue = [1015, 0, 1, 0, 43, 16, 0, 0, 0, 0, 0, 0]'),\n",
       " Text(277.5527377521614, 146.53565217391304, 'X[215] <= -0.325\\ngini = 0.052\\nsamples = 983\\nvalue = [957, 0, 1, 0, 9, 16, 0, 0, 0, 0, 0, 0]'),\n",
       " Text(274.3365994236311, 137.08173913043478, 'X[76] <= 0.789\\ngini = 0.036\\nsamples = 975\\nvalue = [957, 0, 0, 0, 9, 9, 0, 0, 0, 0, 0, 0]'),\n",
       " Text(271.76368876080693, 127.62782608695652, 'X[37] <= -0.514\\ngini = 0.027\\nsamples = 969\\nvalue = [956, 0, 0, 0, 4, 9, 0, 0, 0, 0, 0, 0]'),\n",
       " Text(270.47723342939486, 118.17391304347825, 'gini = 0.0\\nsamples = 4\\nvalue = [0, 0, 0, 0, 0, 4, 0, 0, 0, 0, 0, 0]'),\n",
       " Text(273.05014409221906, 118.17391304347825, 'X[90] <= -0.742\\ngini = 0.019\\nsamples = 965\\nvalue = [956, 0, 0, 0, 4, 5, 0, 0, 0, 0, 0, 0]'),\n",
       " Text(271.76368876080693, 108.72, 'gini = 0.0\\nsamples = 2\\nvalue = [0, 0, 0, 0, 2, 0, 0, 0, 0, 0, 0, 0]'),\n",
       " Text(274.3365994236311, 108.72, 'X[505] <= -0.534\\ngini = 0.014\\nsamples = 963\\nvalue = [956, 0, 0, 0, 2, 5, 0, 0, 0, 0, 0, 0]'),\n",
       " Text(273.05014409221906, 99.26608695652173, 'X[157] <= 0.441\\ngini = 0.012\\nsamples = 962\\nvalue = [956, 0, 0, 0, 1, 5, 0, 0, 0, 0, 0, 0]'),\n",
       " Text(271.76368876080693, 89.81217391304348, 'X[556] <= 0.991\\ngini = 0.01\\nsamples = 961\\nvalue = [956, 0, 0, 0, 0, 5, 0, 0, 0, 0, 0, 0]'),\n",
       " Text(270.47723342939486, 80.35826086956521, 'X[370] <= -0.72\\ngini = 0.008\\nsamples = 960\\nvalue = [956, 0, 0, 0, 0, 4, 0, 0, 0, 0, 0, 0]'),\n",
       " Text(269.19077809798273, 70.90434782608696, 'gini = 0.0\\nsamples = 1\\nvalue = [0, 0, 0, 0, 0, 1, 0, 0, 0, 0, 0, 0]'),\n",
       " Text(271.76368876080693, 70.90434782608696, 'X[271] <= 0.117\\ngini = 0.006\\nsamples = 959\\nvalue = [956, 0, 0, 0, 0, 3, 0, 0, 0, 0, 0, 0]'),\n",
       " Text(270.47723342939486, 61.45043478260868, 'X[22] <= -0.255\\ngini = 0.004\\nsamples = 958\\nvalue = [956, 0, 0, 0, 0, 2, 0, 0, 0, 0, 0, 0]'),\n",
       " Text(269.19077809798273, 51.99652173913043, 'gini = 0.0\\nsamples = 1\\nvalue = [0, 0, 0, 0, 0, 1, 0, 0, 0, 0, 0, 0]'),\n",
       " Text(271.76368876080693, 51.99652173913043, 'X[142] <= 0.801\\ngini = 0.002\\nsamples = 957\\nvalue = [956, 0, 0, 0, 0, 1, 0, 0, 0, 0, 0, 0]'),\n",
       " Text(270.47723342939486, 42.54260869565218, 'gini = 0.0\\nsamples = 955\\nvalue = [955, 0, 0, 0, 0, 0, 0, 0, 0, 0, 0, 0]'),\n",
       " Text(273.05014409221906, 42.54260869565218, 'X[528] <= -0.494\\ngini = 0.5\\nsamples = 2\\nvalue = [1, 0, 0, 0, 0, 1, 0, 0, 0, 0, 0, 0]'),\n",
       " Text(271.76368876080693, 33.0886956521739, 'gini = 0.0\\nsamples = 1\\nvalue = [1, 0, 0, 0, 0, 0, 0, 0, 0, 0, 0, 0]'),\n",
       " Text(274.3365994236311, 33.0886956521739, 'gini = 0.0\\nsamples = 1\\nvalue = [0, 0, 0, 0, 0, 1, 0, 0, 0, 0, 0, 0]'),\n",
       " Text(273.05014409221906, 61.45043478260868, 'gini = 0.0\\nsamples = 1\\nvalue = [0, 0, 0, 0, 0, 1, 0, 0, 0, 0, 0, 0]'),\n",
       " Text(273.05014409221906, 80.35826086956521, 'gini = 0.0\\nsamples = 1\\nvalue = [0, 0, 0, 0, 0, 1, 0, 0, 0, 0, 0, 0]'),\n",
       " Text(274.3365994236311, 89.81217391304348, 'gini = 0.0\\nsamples = 1\\nvalue = [0, 0, 0, 0, 1, 0, 0, 0, 0, 0, 0, 0]'),\n",
       " Text(275.62305475504326, 99.26608695652173, 'gini = 0.0\\nsamples = 1\\nvalue = [0, 0, 0, 0, 1, 0, 0, 0, 0, 0, 0, 0]'),\n",
       " Text(276.9095100864554, 127.62782608695652, 'X[433] <= -0.783\\ngini = 0.278\\nsamples = 6\\nvalue = [1, 0, 0, 0, 5, 0, 0, 0, 0, 0, 0, 0]'),\n",
       " Text(275.62305475504326, 118.17391304347825, 'gini = 0.0\\nsamples = 1\\nvalue = [1, 0, 0, 0, 0, 0, 0, 0, 0, 0, 0, 0]'),\n",
       " Text(278.19596541786746, 118.17391304347825, 'gini = 0.0\\nsamples = 5\\nvalue = [0, 0, 0, 0, 5, 0, 0, 0, 0, 0, 0, 0]'),\n",
       " Text(280.76887608069165, 137.08173913043478, 'X[292] <= -0.962\\ngini = 0.219\\nsamples = 8\\nvalue = [0, 0, 1, 0, 0, 7, 0, 0, 0, 0, 0, 0]'),\n",
       " Text(279.4824207492796, 127.62782608695652, 'gini = 0.0\\nsamples = 1\\nvalue = [0, 0, 1, 0, 0, 0, 0, 0, 0, 0, 0, 0]'),\n",
       " Text(282.0553314121038, 127.62782608695652, 'gini = 0.0\\nsamples = 7\\nvalue = [0, 0, 0, 0, 0, 7, 0, 0, 0, 0, 0, 0]'),\n",
       " Text(284.628242074928, 146.53565217391304, 'X[197] <= 0.402\\ngini = 0.466\\nsamples = 92\\nvalue = [58, 0, 0, 0, 34, 0, 0, 0, 0, 0, 0, 0]'),\n",
       " Text(283.34178674351585, 137.08173913043478, 'gini = 0.0\\nsamples = 31\\nvalue = [0, 0, 0, 0, 31, 0, 0, 0, 0, 0, 0, 0]'),\n",
       " Text(285.9146974063401, 137.08173913043478, 'X[128] <= -0.302\\ngini = 0.094\\nsamples = 61\\nvalue = [58, 0, 0, 0, 3, 0, 0, 0, 0, 0, 0, 0]'),\n",
       " Text(284.628242074928, 127.62782608695652, 'gini = 0.0\\nsamples = 58\\nvalue = [58, 0, 0, 0, 0, 0, 0, 0, 0, 0, 0, 0]'),\n",
       " Text(287.2011527377522, 127.62782608695652, 'gini = 0.0\\nsamples = 3\\nvalue = [0, 0, 0, 0, 3, 0, 0, 0, 0, 0, 0, 0]'),\n",
       " Text(302.39740634005767, 184.3513043478261, 'X[418] <= -0.963\\ngini = 0.263\\nsamples = 955\\nvalue = [50, 5, 0, 6, 76, 815, 0, 0, 0, 3, 0, 0]'),\n",
       " Text(292.3469740634006, 174.89739130434782, 'X[381] <= -0.529\\ngini = 0.521\\nsamples = 68\\nvalue = [0, 4, 0, 2, 44, 16, 0, 0, 0, 2, 0, 0]'),\n",
       " Text(291.0605187319885, 165.44347826086957, 'X[92] <= 0.308\\ngini = 0.37\\nsamples = 56\\nvalue = [0, 4, 0, 2, 44, 4, 0, 0, 0, 2, 0, 0]'),\n",
       " Text(288.4876080691643, 155.98956521739132, 'X[271] <= -0.332\\ngini = 0.083\\nsamples = 46\\nvalue = [0, 0, 0, 0, 44, 0, 0, 0, 0, 2, 0, 0]'),\n",
       " Text(287.2011527377522, 146.53565217391304, 'gini = 0.0\\nsamples = 2\\nvalue = [0, 0, 0, 0, 0, 0, 0, 0, 0, 2, 0, 0]'),\n",
       " Text(289.7740634005764, 146.53565217391304, 'gini = 0.0\\nsamples = 44\\nvalue = [0, 0, 0, 0, 44, 0, 0, 0, 0, 0, 0, 0]'),\n",
       " Text(293.6334293948127, 155.98956521739132, 'X[101] <= -0.618\\ngini = 0.64\\nsamples = 10\\nvalue = [0, 4, 0, 2, 0, 4, 0, 0, 0, 0, 0, 0]'),\n",
       " Text(292.3469740634006, 146.53565217391304, 'X[51] <= 0.52\\ngini = 0.444\\nsamples = 6\\nvalue = [0, 4, 0, 2, 0, 0, 0, 0, 0, 0, 0, 0]'),\n",
       " Text(291.0605187319885, 137.08173913043478, 'gini = 0.0\\nsamples = 2\\nvalue = [0, 0, 0, 2, 0, 0, 0, 0, 0, 0, 0, 0]'),\n",
       " Text(293.6334293948127, 137.08173913043478, 'gini = 0.0\\nsamples = 4\\nvalue = [0, 4, 0, 0, 0, 0, 0, 0, 0, 0, 0, 0]'),\n",
       " Text(294.91988472622484, 146.53565217391304, 'gini = 0.0\\nsamples = 4\\nvalue = [0, 0, 0, 0, 0, 4, 0, 0, 0, 0, 0, 0]'),\n",
       " Text(293.6334293948127, 165.44347826086957, 'gini = 0.0\\nsamples = 12\\nvalue = [0, 0, 0, 0, 0, 12, 0, 0, 0, 0, 0, 0]'),\n",
       " Text(312.4478386167147, 174.89739130434782, 'X[503] <= -0.45\\ngini = 0.184\\nsamples = 887\\nvalue = [50, 1, 0, 4, 32, 799, 0, 0, 0, 1, 0, 0]'),\n",
       " Text(301.35216138328536, 165.44347826086957, 'X[473] <= -0.874\\ngini = 0.58\\nsamples = 63\\nvalue = [35, 0, 0, 0, 9, 19, 0, 0, 0, 0, 0, 0]'),\n",
       " Text(298.7792507204611, 155.98956521739132, 'X[102] <= 0.693\\ngini = 0.469\\nsamples = 24\\nvalue = [1, 0, 0, 0, 7, 16, 0, 0, 0, 0, 0, 0]'),\n",
       " Text(297.49279538904904, 146.53565217391304, 'gini = 0.0\\nsamples = 15\\nvalue = [0, 0, 0, 0, 0, 15, 0, 0, 0, 0, 0, 0]'),\n",
       " Text(300.06570605187324, 146.53565217391304, 'X[347] <= -0.169\\ngini = 0.37\\nsamples = 9\\nvalue = [1, 0, 0, 0, 7, 1, 0, 0, 0, 0, 0, 0]'),\n",
       " Text(298.7792507204611, 137.08173913043478, 'X[94] <= 0.602\\ngini = 0.5\\nsamples = 2\\nvalue = [1, 0, 0, 0, 0, 1, 0, 0, 0, 0, 0, 0]'),\n",
       " Text(297.49279538904904, 127.62782608695652, 'gini = 0.0\\nsamples = 1\\nvalue = [0, 0, 0, 0, 0, 1, 0, 0, 0, 0, 0, 0]'),\n",
       " Text(300.06570605187324, 127.62782608695652, 'gini = 0.0\\nsamples = 1\\nvalue = [1, 0, 0, 0, 0, 0, 0, 0, 0, 0, 0, 0]'),\n",
       " Text(301.35216138328536, 137.08173913043478, 'gini = 0.0\\nsamples = 7\\nvalue = [0, 0, 0, 0, 7, 0, 0, 0, 0, 0, 0, 0]'),\n",
       " Text(303.92507204610956, 155.98956521739132, 'X[316] <= -0.811\\ngini = 0.231\\nsamples = 39\\nvalue = [34, 0, 0, 0, 2, 3, 0, 0, 0, 0, 0, 0]'),\n",
       " Text(302.63861671469743, 146.53565217391304, 'gini = 0.0\\nsamples = 33\\nvalue = [33, 0, 0, 0, 0, 0, 0, 0, 0, 0, 0, 0]'),\n",
       " Text(305.21152737752163, 146.53565217391304, 'X[465] <= -0.891\\ngini = 0.611\\nsamples = 6\\nvalue = [1, 0, 0, 0, 2, 3, 0, 0, 0, 0, 0, 0]'),\n",
       " Text(303.92507204610956, 137.08173913043478, 'gini = 0.0\\nsamples = 3\\nvalue = [0, 0, 0, 0, 0, 3, 0, 0, 0, 0, 0, 0]'),\n",
       " Text(306.49798270893376, 137.08173913043478, 'X[404] <= -0.602\\ngini = 0.444\\nsamples = 3\\nvalue = [1, 0, 0, 0, 2, 0, 0, 0, 0, 0, 0, 0]'),\n",
       " Text(305.21152737752163, 127.62782608695652, 'gini = 0.0\\nsamples = 2\\nvalue = [0, 0, 0, 0, 2, 0, 0, 0, 0, 0, 0, 0]'),\n",
       " Text(307.78443804034583, 127.62782608695652, 'gini = 0.0\\nsamples = 1\\nvalue = [1, 0, 0, 0, 0, 0, 0, 0, 0, 0, 0, 0]'),\n",
       " Text(323.5435158501441, 165.44347826086957, 'X[102] <= 0.719\\ngini = 0.103\\nsamples = 824\\nvalue = [15, 1, 0, 4, 23, 780, 0, 0, 0, 1, 0, 0]'),\n",
       " Text(316.1463976945245, 155.98956521739132, 'X[99] <= -0.55\\ngini = 0.047\\nsamples = 757\\nvalue = [5, 1, 0, 4, 7, 739, 0, 0, 0, 1, 0, 0]'),\n",
       " Text(312.9302593659943, 146.53565217391304, 'X[115] <= 0.051\\ngini = 0.5\\nsamples = 6\\nvalue = [0, 1, 0, 4, 0, 0, 0, 0, 0, 1, 0, 0]'),\n",
       " Text(311.64380403458216, 137.08173913043478, 'X[185] <= 0.101\\ngini = 0.5\\nsamples = 2\\nvalue = [0, 1, 0, 0, 0, 0, 0, 0, 0, 1, 0, 0]'),\n",
       " Text(310.3573487031701, 127.62782608695652, 'gini = 0.0\\nsamples = 1\\nvalue = [0, 1, 0, 0, 0, 0, 0, 0, 0, 0, 0, 0]'),\n",
       " Text(312.9302593659943, 127.62782608695652, 'gini = 0.0\\nsamples = 1\\nvalue = [0, 0, 0, 0, 0, 0, 0, 0, 0, 1, 0, 0]'),\n",
       " Text(314.21671469740636, 137.08173913043478, 'gini = 0.0\\nsamples = 4\\nvalue = [0, 0, 0, 4, 0, 0, 0, 0, 0, 0, 0, 0]'),\n",
       " Text(319.3625360230548, 146.53565217391304, 'X[159] <= 0.218\\ngini = 0.032\\nsamples = 751\\nvalue = [5, 0, 0, 0, 7, 739, 0, 0, 0, 0, 0, 0]'),\n",
       " Text(316.78962536023056, 137.08173913043478, 'X[415] <= -0.99\\ngini = 0.011\\nsamples = 729\\nvalue = [0, 0, 0, 0, 4, 725, 0, 0, 0, 0, 0, 0]'),\n",
       " Text(315.5031700288185, 127.62782608695652, 'gini = 0.0\\nsamples = 1\\nvalue = [0, 0, 0, 0, 1, 0, 0, 0, 0, 0, 0, 0]'),\n",
       " Text(318.0760806916427, 127.62782608695652, 'X[180] <= -0.814\\ngini = 0.008\\nsamples = 728\\nvalue = [0, 0, 0, 0, 3, 725, 0, 0, 0, 0, 0, 0]'),\n",
       " Text(316.78962536023056, 118.17391304347825, 'gini = 0.0\\nsamples = 1\\nvalue = [0, 0, 0, 0, 1, 0, 0, 0, 0, 0, 0, 0]'),\n",
       " Text(319.3625360230548, 118.17391304347825, 'X[446] <= 0.377\\ngini = 0.005\\nsamples = 727\\nvalue = [0, 0, 0, 0, 2, 725, 0, 0, 0, 0, 0, 0]'),\n",
       " Text(316.78962536023056, 108.72, 'X[398] <= -0.716\\ngini = 0.5\\nsamples = 2\\nvalue = [0, 0, 0, 0, 1, 1, 0, 0, 0, 0, 0, 0]'),\n",
       " Text(315.5031700288185, 99.26608695652173, 'gini = 0.0\\nsamples = 1\\nvalue = [0, 0, 0, 0, 1, 0, 0, 0, 0, 0, 0, 0]'),\n",
       " Text(318.0760806916427, 99.26608695652173, 'gini = 0.0\\nsamples = 1\\nvalue = [0, 0, 0, 0, 0, 1, 0, 0, 0, 0, 0, 0]'),\n",
       " Text(321.935446685879, 108.72, 'X[41] <= -0.385\\ngini = 0.003\\nsamples = 725\\nvalue = [0, 0, 0, 0, 1, 724, 0, 0, 0, 0, 0, 0]'),\n",
       " Text(320.6489913544669, 99.26608695652173, 'X[40] <= 0.849\\ngini = 0.5\\nsamples = 2\\nvalue = [0, 0, 0, 0, 1, 1, 0, 0, 0, 0, 0, 0]'),\n",
       " Text(319.3625360230548, 89.81217391304348, 'gini = 0.0\\nsamples = 1\\nvalue = [0, 0, 0, 0, 0, 1, 0, 0, 0, 0, 0, 0]'),\n",
       " Text(321.935446685879, 89.81217391304348, 'gini = 0.0\\nsamples = 1\\nvalue = [0, 0, 0, 0, 1, 0, 0, 0, 0, 0, 0, 0]'),\n",
       " Text(323.2219020172911, 99.26608695652173, 'gini = 0.0\\nsamples = 723\\nvalue = [0, 0, 0, 0, 0, 723, 0, 0, 0, 0, 0, 0]'),\n",
       " Text(321.935446685879, 137.08173913043478, 'X[23] <= 0.128\\ngini = 0.525\\nsamples = 22\\nvalue = [5, 0, 0, 0, 3, 14, 0, 0, 0, 0, 0, 0]'),\n",
       " Text(320.6489913544669, 127.62782608695652, 'gini = 0.0\\nsamples = 5\\nvalue = [5, 0, 0, 0, 0, 0, 0, 0, 0, 0, 0, 0]'),\n",
       " Text(323.2219020172911, 127.62782608695652, 'X[22] <= 0.108\\ngini = 0.291\\nsamples = 17\\nvalue = [0, 0, 0, 0, 3, 14, 0, 0, 0, 0, 0, 0]'),\n",
       " Text(321.935446685879, 118.17391304347825, 'gini = 0.0\\nsamples = 14\\nvalue = [0, 0, 0, 0, 0, 14, 0, 0, 0, 0, 0, 0]'),\n",
       " Text(324.5083573487032, 118.17391304347825, 'gini = 0.0\\nsamples = 3\\nvalue = [0, 0, 0, 0, 3, 0, 0, 0, 0, 0, 0, 0]'),\n",
       " Text(330.94063400576374, 155.98956521739132, 'X[559] <= 0.291\\ngini = 0.546\\nsamples = 67\\nvalue = [10, 0, 0, 0, 16, 41, 0, 0, 0, 0, 0, 0]'),\n",
       " Text(329.6541786743516, 146.53565217391304, 'X[198] <= 0.482\\ngini = 0.365\\nsamples = 53\\nvalue = [10, 0, 0, 0, 2, 41, 0, 0, 0, 0, 0, 0]'),\n",
       " Text(327.0812680115274, 137.08173913043478, 'X[517] <= -0.241\\ngini = 0.135\\nsamples = 42\\nvalue = [1, 0, 0, 0, 2, 39, 0, 0, 0, 0, 0, 0]'),\n",
       " Text(325.7948126801153, 127.62782608695652, 'gini = 0.0\\nsamples = 2\\nvalue = [0, 0, 0, 0, 2, 0, 0, 0, 0, 0, 0, 0]'),\n",
       " Text(328.36772334293954, 127.62782608695652, 'X[182] <= 0.813\\ngini = 0.049\\nsamples = 40\\nvalue = [1, 0, 0, 0, 0, 39, 0, 0, 0, 0, 0, 0]'),\n",
       " Text(327.0812680115274, 118.17391304347825, 'gini = 0.0\\nsamples = 39\\nvalue = [0, 0, 0, 0, 0, 39, 0, 0, 0, 0, 0, 0]'),\n",
       " Text(329.6541786743516, 118.17391304347825, 'gini = 0.0\\nsamples = 1\\nvalue = [1, 0, 0, 0, 0, 0, 0, 0, 0, 0, 0, 0]'),\n",
       " Text(332.2270893371758, 137.08173913043478, 'X[132] <= 0.112\\ngini = 0.298\\nsamples = 11\\nvalue = [9, 0, 0, 0, 0, 2, 0, 0, 0, 0, 0, 0]'),\n",
       " Text(330.94063400576374, 127.62782608695652, 'gini = 0.0\\nsamples = 2\\nvalue = [0, 0, 0, 0, 0, 2, 0, 0, 0, 0, 0, 0]'),\n",
       " Text(333.51354466858794, 127.62782608695652, 'gini = 0.0\\nsamples = 9\\nvalue = [9, 0, 0, 0, 0, 0, 0, 0, 0, 0, 0, 0]'),\n",
       " Text(332.2270893371758, 146.53565217391304, 'gini = 0.0\\nsamples = 14\\nvalue = [0, 0, 0, 0, 14, 0, 0, 0, 0, 0, 0, 0]')]"
      ]
     },
     "execution_count": 13,
     "metadata": {},
     "output_type": "execute_result"
    },
    {
     "data": {
      "image/png": "[encoded data removed]",
      "text/plain": [
       "<Figure size 432x288 with 1 Axes>"
      ]
     },
     "metadata": {
      "needs_background": "light"
     },
     "output_type": "display_data"
    }
   ],
   "source": [
    "tree.plot_tree(classifier)"
   ]
  },
  {
   "cell_type": "code",
   "execution_count": 14,
   "metadata": {},
   "outputs": [],
   "source": [
    "RFC = RandomForestClassifier()\n",
    "RFC_CLF = RFC.fit(x_train, y_train)\n",
    "RFC_hat = RFC_CLF.predict(x_test)"
   ]
  },
  {
   "cell_type": "code",
   "execution_count": 15,
   "metadata": {},
   "outputs": [
    {
     "name": "stdout",
     "output_type": "stream",
     "text": [
      "              precision    recall  f1-score   support\n",
      "\n",
      "           1       0.82      0.97      0.89       496\n",
      "          10       0.52      0.68      0.59        25\n",
      "          11       0.57      0.53      0.55        49\n",
      "          12       0.42      0.30      0.35        27\n",
      "           2       0.88      0.83      0.85       471\n",
      "           3       0.93      0.83      0.88       420\n",
      "           4       0.88      0.88      0.88       508\n",
      "           5       0.89      0.90      0.89       556\n",
      "           6       1.00      1.00      1.00       545\n",
      "           7       0.73      0.48      0.58        23\n",
      "           8       0.88      0.70      0.78        10\n",
      "           9       0.52      0.50      0.51        32\n",
      "\n",
      "    accuracy                           0.88      3162\n",
      "   macro avg       0.75      0.72      0.73      3162\n",
      "weighted avg       0.88      0.88      0.88      3162\n",
      "\n",
      "0.8826691967109425\n"
     ]
    }
   ],
   "source": [
    "print(classification_report(y_test, RFC_hat))\n",
    "RFC_score = RFC_CLF.score(x_test, y_test)\n",
    "all_scores.append(RFC_score)\n",
    "print(RFC_score)"
   ]
  },
  {
   "cell_type": "code",
   "execution_count": 16,
   "metadata": {
    "scrolled": true
   },
   "outputs": [
    {
     "data": {
      "image/png": "[encoded data removed]",
      "text/plain": [
       "<Figure size 432x288 with 1 Axes>"
      ]
     },
     "metadata": {
      "needs_background": "light"
     },
     "output_type": "display_data"
    }
   ],
   "source": [
    "sn.heatmap(confusion_matrix(y_test, RFC_hat), annot=True, cmap = plt.cm.Reds, cbar=False, fmt = 'g') \n",
    "plt.show()"
   ]
  },
  {
   "cell_type": "code",
   "execution_count": 17,
   "metadata": {},
   "outputs": [],
   "source": [
    "lsvm = sklearn.svm.SVC(kernel = 'linear')\n",
    "lsvm_CLF = lsvm.fit(x_train, y_train)"
   ]
  },
  {
   "cell_type": "code",
   "execution_count": 18,
   "metadata": {},
   "outputs": [],
   "source": [
    "lsvm_predict = lsvm_CLF.predict(x_test)\n",
    "score_lsvm = lsvm_CLF.score(x_test, y_test)\n",
    "all_scores.append(score_lsvm)\n"
   ]
  },
  {
   "cell_type": "code",
   "execution_count": 19,
   "metadata": {},
   "outputs": [
    {
     "name": "stdout",
     "output_type": "stream",
     "text": [
      "              precision    recall  f1-score   support\n",
      "\n",
      "           1       0.96      0.99      0.98       496\n",
      "          10       0.72      0.72      0.72        25\n",
      "          11       0.69      0.67      0.68        49\n",
      "          12       0.72      0.67      0.69        27\n",
      "           2       0.98      0.97      0.97       471\n",
      "           3       0.99      0.98      0.98       420\n",
      "           4       0.96      0.89      0.92       508\n",
      "           5       0.91      0.97      0.94       556\n",
      "           6       1.00      1.00      1.00       545\n",
      "           7       1.00      0.78      0.88        23\n",
      "           8       0.91      1.00      0.95        10\n",
      "           9       0.58      0.66      0.62        32\n",
      "\n",
      "    accuracy                           0.95      3162\n",
      "   macro avg       0.87      0.86      0.86      3162\n",
      "weighted avg       0.95      0.95      0.95      3162\n",
      "\n",
      "0.9522454142947502\n"
     ]
    }
   ],
   "source": [
    "print(classification_report(y_test, lsvm_predict))\n",
    "print(score_lsvm)"
   ]
  },
  {
   "cell_type": "code",
   "execution_count": 20,
   "metadata": {},
   "outputs": [
    {
     "data": {
      "image/png": "[encoded data removed]",
      "text/plain": [
       "<Figure size 432x288 with 1 Axes>"
      ]
     },
     "metadata": {
      "needs_background": "light"
     },
     "output_type": "display_data"
    }
   ],
   "source": [
    "sn.heatmap(confusion_matrix(y_test, lsvm_predict), annot=True, cmap = plt.cm.Greens, cbar=False, fmt = 'g') \n",
    "plt.show()"
   ]
  },
  {
   "cell_type": "code",
   "execution_count": 21,
   "metadata": {},
   "outputs": [
    {
     "data": {
      "image/png": "[encoded data removed]",
      "text/plain": [
       "<Figure size 1080x288 with 2 Axes>"
      ]
     },
     "metadata": {
      "needs_background": "light"
     },
     "output_type": "display_data"
    }
   ],
   "source": [
    "data_color = [1000.,500.,1000.,900.]\n",
    "data_color = [x / max(data_color) for x in data_color]\n",
    "fig, ax = plt.subplots(figsize = (15, 4))\n",
    "\n",
    "my_cmap = plt.cm.get_cmap('GnBu')\n",
    "colors = my_cmap(data_color)\n",
    "rects = ax.bar(names, all_scores, color = colors, width = 0.5)\n",
    "\n",
    "sm = ScalarMappable(cmap = my_cmap, norm = plt.Normalize(0,max(data_color)))\n",
    "sm.set_array([])\n",
    "\n",
    "cbar = plt.colorbar(sm)\n",
    "cbar.set_label('Scores', rotation=270,labelpad=25)\n",
    "\n",
    "plt.xticks(names)    \n",
    "plt.ylabel(\"scores\")\n",
    "\n",
    "plt.show()"
   ]
  },
  {
   "cell_type": "markdown",
   "metadata": {},
   "source": [
    "# Pré-processing des données"
   ]
  },
  {
   "cell_type": "markdown",
   "metadata": {},
   "source": [
    "#### L'objectif est de retirer certaines colonnes pour améliorer la précision des modèles. Nous allons faire varier la variance dans une range défini et supprimer les colonnes dont la variance est inférieure à la clef du range. Nous allons ensuite executer les algorithmes avec les différents dataframe obtenus et comparer les précisions"
   ]
  },
  {
   "cell_type": "markdown",
   "metadata": {},
   "source": [
    "#### 1. Classifier Tree"
   ]
  },
  {
   "cell_type": "code",
   "execution_count": 22,
   "metadata": {
    "scrolled": true
   },
   "outputs": [],
   "source": [
    "rates1 = [0.015, 0.025, 0.05, 0.1, 0.5]\n",
    "scores1 = []\n",
    "\n",
    "for r in rates1:\n",
    "    df_temp1 = df_test.copy()\n",
    "    df_temp2 = df_train.copy()\n",
    "    var = df_temp2.var() < r\n",
    "    \n",
    "    datas_to_clear = []\n",
    "    for i in range(len(var)):\n",
    "        if var[i] == True:\n",
    "            datas_to_clear.append(i)\n",
    "    for elt in datas_to_clear:\n",
    "        del var[elt]\n",
    "                \n",
    "    df_test_temp_cpy = df_temp1.copy()\n",
    "    df_train_temp_cpy = df_temp2.copy()\n",
    "    \n",
    "    df_test_temp_cpy = df_temp1.drop(columns = datas_to_clear, axis=1)\n",
    "    df_train_temp_cpy = df_temp2.drop(columns = datas_to_clear, axis=1)\n",
    "    \n",
    "    \n",
    "    x_train_temp = df_train_temp_cpy.drop('Class', axis = 1)\n",
    "    y_train_temp = df_train_temp_cpy['Class']\n",
    "    x_test_temp = df_test_temp_cpy.drop('Class', axis = 1)\n",
    "    y_test_temp = df_test_temp_cpy['Class']\n",
    "    \n",
    "    classifier_temp = DecisionTreeClassifier()\n",
    "    classifier_temp.fit(x_train_temp, y_train_temp)\n",
    "\n",
    "    y_hat_temp = classifier_temp.predict(x_test_temp)\n",
    "    score_tree_temp = classifier_temp.score(x_test_temp, y_test_temp)\n",
    "    scores1.append(score_tree_temp)\n"
   ]
  },
  {
   "cell_type": "code",
   "execution_count": 23,
   "metadata": {},
   "outputs": [],
   "source": [
    "rates2 = [0.015, 0.025, 0.05, 0.1, 0.5]\n",
    "scores2 = []\n",
    "\n",
    "for r in rates2:\n",
    "    df_temp1 = df_test.copy()\n",
    "    df_temp2 = df_train.copy()\n",
    "    var = df_temp2.std() < r\n",
    "    \n",
    "    datas_to_clear = []\n",
    "    for i in range(len(var)):\n",
    "        if var[i] == True:\n",
    "            datas_to_clear.append(i)\n",
    "    for elt in datas_to_clear:\n",
    "        del var[elt]\n",
    "                \n",
    "    df_test_temp_cpy = df_temp1.copy()\n",
    "    df_train_temp_cpy = df_temp2.copy()\n",
    "    \n",
    "    df_test_temp_cpy = df_temp1.drop(columns = datas_to_clear, axis=1)\n",
    "    df_train_temp_cpy = df_temp2.drop(columns = datas_to_clear, axis=1)\n",
    "    \n",
    "    \n",
    "    x_train_temp = df_train_temp_cpy.drop('Class', axis = 1)\n",
    "    y_train_temp = df_train_temp_cpy['Class']\n",
    "    x_test_temp = df_test_temp_cpy.drop('Class', axis = 1)\n",
    "    y_test_temp = df_test_temp_cpy['Class']\n",
    "    \n",
    "    classifier_temp = DecisionTreeClassifier()\n",
    "    classifier_temp.fit(x_train_temp, y_train_temp)\n",
    "\n",
    "    y_hat_temp = classifier_temp.predict(x_test_temp)\n",
    "    score_tree_temp = classifier_temp.score(x_test_temp, y_test_temp)\n",
    "    scores2.append(score_tree_temp)\n"
   ]
  },
  {
   "cell_type": "code",
   "execution_count": 24,
   "metadata": {},
   "outputs": [
    {
     "data": {
      "image/png": "[encoded data removed]",
      "text/plain": [
       "<Figure size 432x288 with 1 Axes>"
      ]
     },
     "metadata": {
      "needs_background": "light"
     },
     "output_type": "display_data"
    }
   ],
   "source": [
    "#Plot variance\n",
    "plt.plot(rates1, scores1)\n",
    "plt.xlabel('Variance')\n",
    "plt.ylabel('Score')\n",
    "plt.title('Classifier Tree Scores')\n",
    "plt.show()"
   ]
  },
  {
   "cell_type": "code",
   "execution_count": 25,
   "metadata": {},
   "outputs": [
    {
     "data": {
      "image/png": "[encoded data removed]",
      "text/plain": [
       "<Figure size 432x288 with 1 Axes>"
      ]
     },
     "metadata": {
      "needs_background": "light"
     },
     "output_type": "display_data"
    }
   ],
   "source": [
    "#Plot STD\n",
    "plt.plot(rates2, scores2)\n",
    "plt.xlabel('STD')\n",
    "plt.ylabel('Score')\n",
    "plt.title('Classifier Tree Scores')\n",
    "plt.show()"
   ]
  },
  {
   "cell_type": "markdown",
   "metadata": {},
   "source": [
    "#### 2. Random Forest"
   ]
  },
  {
   "cell_type": "code",
   "execution_count": 26,
   "metadata": {},
   "outputs": [
    {
     "data": {
      "image/png": "[encoded data removed]",
      "text/plain": [
       "<Figure size 432x288 with 1 Axes>"
      ]
     },
     "metadata": {
      "needs_background": "light"
     },
     "output_type": "display_data"
    }
   ],
   "source": [
    "rates = [0.015, 0.025, 0.05, 0.1, 0.5]\n",
    "scores = []\n",
    "\n",
    "for r in rates:\n",
    "    df_temp1 = df_test.copy()\n",
    "    df_temp2 = df_train.copy()\n",
    "    var = df_temp2.var() < r\n",
    "    \n",
    "    datas_to_clear = []\n",
    "    for i in range(len(var)):\n",
    "        if var[i] == True:\n",
    "            datas_to_clear.append(i)\n",
    "    for elt in datas_to_clear:\n",
    "        del var[elt]\n",
    "                \n",
    "    df_test_temp_cpy = df_temp1.copy()\n",
    "    df_train_temp_cpy = df_temp2.copy()\n",
    "    \n",
    "    df_test_temp_cpy = df_temp1.drop(columns = datas_to_clear, axis=1)\n",
    "    df_train_temp_cpy = df_temp2.drop(columns = datas_to_clear, axis=1)\n",
    "    \n",
    "    \n",
    "    x_train_temp = df_train_temp_cpy.drop('Class', axis = 1)\n",
    "    y_train_temp = df_train_temp_cpy['Class']\n",
    "    x_test_temp = df_test_temp_cpy.drop('Class', axis = 1)\n",
    "    y_test_temp = df_test_temp_cpy['Class']\n",
    "    \n",
    "    RFC_temp = RandomForestClassifier()\n",
    "    RFC_CLF_temp = RFC_temp.fit(x_train_temp, y_train_temp)\n",
    "    RFC_hat_temp = RFC_CLF_temp.predict(x_test_temp)\n",
    "\n",
    "    RFC_score_temp = RFC_CLF_temp.score(x_test_temp, y_test_temp)\n",
    "    scores.append(RFC_score_temp)\n",
    "    \n",
    "plt.plot(rates, scores)\n",
    "plt.xlabel('Variance')\n",
    "plt.ylabel('Score')\n",
    "plt.title('Random Forest Scores')\n",
    "plt.show()"
   ]
  },
  {
   "cell_type": "markdown",
   "metadata": {},
   "source": [
    "#### 3. LSVM"
   ]
  },
  {
   "cell_type": "code",
   "execution_count": 27,
   "metadata": {},
   "outputs": [
    {
     "data": {
      "image/png": "[encoded data removed]",
      "text/plain": [
       "<Figure size 432x288 with 1 Axes>"
      ]
     },
     "metadata": {
      "needs_background": "light"
     },
     "output_type": "display_data"
    }
   ],
   "source": [
    "rates = [0.015, 0.025, 0.05, 0.1, 0.5]\n",
    "scores = []\n",
    "\n",
    "for r in rates:\n",
    "    df_temp1 = df_test.copy()\n",
    "    df_temp2 = df_train.copy()\n",
    "    var = df_temp2.var() < r\n",
    "    \n",
    "    datas_to_clear = []\n",
    "    for i in range(len(var)):\n",
    "        if var[i] == True:\n",
    "            datas_to_clear.append(i)\n",
    "    for elt in datas_to_clear:\n",
    "        del var[elt]\n",
    "                \n",
    "    df_test_temp_cpy = df_temp1.copy()\n",
    "    df_train_temp_cpy = df_temp2.copy()\n",
    "    \n",
    "    df_test_temp_cpy = df_temp1.drop(columns = datas_to_clear, axis=1)\n",
    "    df_train_temp_cpy = df_temp2.drop(columns = datas_to_clear, axis=1)\n",
    "    \n",
    "    \n",
    "    x_train_temp = df_train_temp_cpy.drop('Class', axis = 1)\n",
    "    y_train_temp = df_train_temp_cpy['Class']\n",
    "    x_test_temp = df_test_temp_cpy.drop('Class', axis = 1)\n",
    "    y_test_temp = df_test_temp_cpy['Class']\n",
    "    \n",
    "    lsvm_temp = sklearn.svm.SVC(kernel = 'linear')\n",
    "    lsvm_CLF_temp = lsvm_temp.fit(x_train_temp, y_train_temp)\n",
    "\n",
    "    lsvm_predict_temp = lsvm_CLF_temp.predict(x_test_temp)\n",
    "    score_lsvm_temp = lsvm_CLF_temp.score(x_test_temp, y_test_temp)\n",
    "    scores.append(score_lsvm_temp)\n",
    "    \n",
    "plt.plot(rates, scores)\n",
    "plt.xlabel('Variance')\n",
    "plt.ylabel('Score')\n",
    "plt.title('LSVM Scores')\n",
    "plt.show()"
   ]
  },
  {
   "cell_type": "markdown",
   "metadata": {},
   "source": [
    "#### On observe pour chaque modèle une baisse significative de la précision à partir d'une variance à 0.1"
   ]
  },
  {
   "cell_type": "markdown",
   "metadata": {},
   "source": [
    "# Variation des hyper paramètres"
   ]
  },
  {
   "cell_type": "code",
   "execution_count": 28,
   "metadata": {},
   "outputs": [
    {
     "name": "stdout",
     "output_type": "stream",
     "text": [
      "Fitting 10 folds for each of 9 candidates, totalling 90 fits\n"
     ]
    },
    {
     "name": "stderr",
     "output_type": "stream",
     "text": [
      "[Parallel(n_jobs=-1)]: Using backend LokyBackend with 4 concurrent workers.\n",
      "[Parallel(n_jobs=-1)]: Done  33 tasks      | elapsed:   52.8s\n",
      "[Parallel(n_jobs=-1)]: Done  90 out of  90 | elapsed:  2.1min finished\n"
     ]
    },
    {
     "name": "stdout",
     "output_type": "stream",
     "text": [
      "0.9927900090124887\n"
     ]
    }
   ],
   "source": [
    "hyperparametres_possibles = {\n",
    "    'C'     : [0.5, 1, 1.5],\n",
    "    'gamma' :[0.5, 0.1, 0.15]\n",
    "}\n",
    "grid = GridSearchCV(estimator=lsvm, \n",
    "                                param_grid=hyperparametres_possibles, \n",
    "                                n_jobs=-1, cv=10, verbose=2)\n",
    "\n",
    "grid.fit(x_train, y_train)\n",
    "s1 = grid.score(x_train, y_train)\n",
    "print(s1)"
   ]
  },
  {
   "cell_type": "code",
   "execution_count": 29,
   "metadata": {},
   "outputs": [
    {
     "name": "stdout",
     "output_type": "stream",
     "text": [
      "0.9947212565984292\n"
     ]
    }
   ],
   "source": [
    "hyperparametres_possibles = {\n",
    "    'C'     : [3.5, 4, 5, 6],\n",
    "    'gamma' :[0.01, 0.05, 1]\n",
    "}\n",
    "grid = GridSearchCV(estimator=lsvm, \n",
    "                                param_grid=hyperparametres_possibles, \n",
    "                                n_jobs=-1)\n",
    "grid.fit(x_train, y_train)\n",
    "s2 = grid.score(x_train, y_train)\n",
    "print(s2)"
   ]
  },
  {
   "cell_type": "code",
   "execution_count": 30,
   "metadata": {},
   "outputs": [
    {
     "name": "stdout",
     "output_type": "stream",
     "text": [
      "0.996523754345307\n"
     ]
    }
   ],
   "source": [
    "hyperparametres_possibles2 = {\n",
    "    'C'     : [ 10, 15, 20],\n",
    "    'gamma' :[0.01, 0.05, 1]\n",
    "}\n",
    "grid = GridSearchCV(estimator=lsvm, \n",
    "                                param_grid=hyperparametres_possibles2, \n",
    "                                n_jobs=-1)\n",
    "grid.fit(x_train, y_train)\n",
    "s3 = grid.score(x_train, y_train)\n",
    "print(s3)\n"
   ]
  },
  {
   "cell_type": "markdown",
   "metadata": {},
   "source": [
    "#### On note amélioration du score de prédiction du modèle"
   ]
  },
  {
   "cell_type": "code",
   "execution_count": null,
   "metadata": {},
   "outputs": [],
   "source": []
  }
 ],
 "metadata": {
  "kernelspec": {
   "display_name": "Python 3",
   "language": "python",
   "name": "python3"
  },
  "language_info": {
   "codemirror_mode": {
    "name": "ipython",
    "version": 3
   },
   "file_extension": ".py",
   "mimetype": "text/x-python",
   "name": "python",
   "nbconvert_exporter": "python",
   "pygments_lexer": "ipython3",
   "version": "3.7.4"
  }
 },
 "nbformat": 4,
 "nbformat_minor": 2
}
