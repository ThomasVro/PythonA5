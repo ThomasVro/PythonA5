{
 "cells": [
  {
   "cell_type": "markdown",
   "metadata": {},
   "source": [
    "# Projet - Python for Data Analysis\n",
    "#### Thomas Vaquero - ESILV A5"
   ]
  },
  {
   "cell_type": "code",
   "execution_count": 1,
   "metadata": {},
   "outputs": [],
   "source": [
    "import numpy as np\n",
    "import pandas as pd\n",
    "import matplotlib.pyplot as plt\n",
    "%matplotlib inline\n",
    "import sklearn \n",
    "from sklearn.tree import DecisionTreeClassifier\n",
    "from sklearn.model_selection import train_test_split\n",
    "from sklearn.tree import DecisionTreeClassifier\n",
    "from sklearn.metrics import classification_report, confusion_matrix\n",
    "from sklearn.ensemble import RandomForestClassifier\n",
    "from sklearn.ensemble import GradientBoostingClassifier\n",
    "import seaborn as sn\n",
    "from matplotlib.cm import ScalarMappable\n",
    "from sklearn.model_selection import GridSearchCV\n",
    "from sklearn.calibration import CalibratedClassifierCV\n",
    "from sklearn.datasets import make_moons\n",
    "import warnings\n",
    "from sklearn.datasets import load_digits\n",
    "from sklearn import svm"
   ]
  },
  {
   "cell_type": "code",
   "execution_count": 2,
   "metadata": {},
   "outputs": [],
   "source": [
    "warnings.filterwarnings(\"ignore\")"
   ]
  },
  {
   "cell_type": "markdown",
   "metadata": {},
   "source": [
    "# Classification sans pré-processing"
   ]
  },
  {
   "cell_type": "markdown",
   "metadata": {},
   "source": [
    "#### 1. Lecture du CSV : on importe le fichier X_train et X_test dans deux data frames"
   ]
  },
  {
   "cell_type": "code",
   "execution_count": 3,
   "metadata": {},
   "outputs": [
    {
     "data": {
      "text/html": [
       "<div>\n",
       "<style scoped>\n",
       "    .dataframe tbody tr th:only-of-type {\n",
       "        vertical-align: middle;\n",
       "    }\n",
       "\n",
       "    .dataframe tbody tr th {\n",
       "        vertical-align: top;\n",
       "    }\n",
       "\n",
       "    .dataframe thead th {\n",
       "        text-align: right;\n",
       "    }\n",
       "</style>\n",
       "<table border=\"1\" class=\"dataframe\">\n",
       "  <thead>\n",
       "    <tr style=\"text-align: right;\">\n",
       "      <th></th>\n",
       "      <th>0</th>\n",
       "      <th>1</th>\n",
       "      <th>2</th>\n",
       "      <th>3</th>\n",
       "      <th>4</th>\n",
       "      <th>5</th>\n",
       "      <th>6</th>\n",
       "      <th>7</th>\n",
       "      <th>8</th>\n",
       "      <th>9</th>\n",
       "      <th>...</th>\n",
       "      <th>551</th>\n",
       "      <th>552</th>\n",
       "      <th>553</th>\n",
       "      <th>554</th>\n",
       "      <th>555</th>\n",
       "      <th>556</th>\n",
       "      <th>557</th>\n",
       "      <th>558</th>\n",
       "      <th>559</th>\n",
       "      <th>560</th>\n",
       "    </tr>\n",
       "  </thead>\n",
       "  <tbody>\n",
       "    <tr>\n",
       "      <td>0</td>\n",
       "      <td>0.043580</td>\n",
       "      <td>-0.005970</td>\n",
       "      <td>-0.035054</td>\n",
       "      <td>-0.995381</td>\n",
       "      <td>-0.988366</td>\n",
       "      <td>-0.937382</td>\n",
       "      <td>-0.995007</td>\n",
       "      <td>-0.988816</td>\n",
       "      <td>-0.953325</td>\n",
       "      <td>-0.794796</td>\n",
       "      <td>...</td>\n",
       "      <td>-0.012236</td>\n",
       "      <td>-0.314848</td>\n",
       "      <td>-0.713308</td>\n",
       "      <td>-0.112754</td>\n",
       "      <td>0.030400</td>\n",
       "      <td>-0.464761</td>\n",
       "      <td>-0.018446</td>\n",
       "      <td>-0.841559</td>\n",
       "      <td>0.179913</td>\n",
       "      <td>-0.051718</td>\n",
       "    </tr>\n",
       "    <tr>\n",
       "      <td>1</td>\n",
       "      <td>0.039480</td>\n",
       "      <td>-0.002131</td>\n",
       "      <td>-0.029067</td>\n",
       "      <td>-0.998348</td>\n",
       "      <td>-0.982945</td>\n",
       "      <td>-0.971273</td>\n",
       "      <td>-0.998702</td>\n",
       "      <td>-0.983315</td>\n",
       "      <td>-0.974000</td>\n",
       "      <td>-0.802537</td>\n",
       "      <td>...</td>\n",
       "      <td>0.202804</td>\n",
       "      <td>-0.603199</td>\n",
       "      <td>-0.860677</td>\n",
       "      <td>0.053477</td>\n",
       "      <td>-0.007435</td>\n",
       "      <td>-0.732626</td>\n",
       "      <td>0.703511</td>\n",
       "      <td>-0.845092</td>\n",
       "      <td>0.180261</td>\n",
       "      <td>-0.047436</td>\n",
       "    </tr>\n",
       "    <tr>\n",
       "      <td>2</td>\n",
       "      <td>0.039978</td>\n",
       "      <td>-0.005153</td>\n",
       "      <td>-0.022651</td>\n",
       "      <td>-0.995482</td>\n",
       "      <td>-0.977314</td>\n",
       "      <td>-0.984760</td>\n",
       "      <td>-0.996415</td>\n",
       "      <td>-0.975835</td>\n",
       "      <td>-0.985973</td>\n",
       "      <td>-0.798477</td>\n",
       "      <td>...</td>\n",
       "      <td>0.440079</td>\n",
       "      <td>-0.404427</td>\n",
       "      <td>-0.761847</td>\n",
       "      <td>-0.118559</td>\n",
       "      <td>0.177899</td>\n",
       "      <td>0.100699</td>\n",
       "      <td>0.808529</td>\n",
       "      <td>-0.849230</td>\n",
       "      <td>0.180610</td>\n",
       "      <td>-0.042271</td>\n",
       "    </tr>\n",
       "    <tr>\n",
       "      <td>3</td>\n",
       "      <td>0.039785</td>\n",
       "      <td>-0.011809</td>\n",
       "      <td>-0.028916</td>\n",
       "      <td>-0.996194</td>\n",
       "      <td>-0.988569</td>\n",
       "      <td>-0.993256</td>\n",
       "      <td>-0.996994</td>\n",
       "      <td>-0.988526</td>\n",
       "      <td>-0.993135</td>\n",
       "      <td>-0.798477</td>\n",
       "      <td>...</td>\n",
       "      <td>0.430891</td>\n",
       "      <td>-0.138373</td>\n",
       "      <td>-0.491604</td>\n",
       "      <td>-0.036788</td>\n",
       "      <td>-0.012892</td>\n",
       "      <td>0.640011</td>\n",
       "      <td>-0.485366</td>\n",
       "      <td>-0.848947</td>\n",
       "      <td>0.181907</td>\n",
       "      <td>-0.040826</td>\n",
       "    </tr>\n",
       "    <tr>\n",
       "      <td>4</td>\n",
       "      <td>0.038758</td>\n",
       "      <td>-0.002289</td>\n",
       "      <td>-0.023863</td>\n",
       "      <td>-0.998241</td>\n",
       "      <td>-0.986774</td>\n",
       "      <td>-0.993115</td>\n",
       "      <td>-0.998216</td>\n",
       "      <td>-0.986479</td>\n",
       "      <td>-0.993825</td>\n",
       "      <td>-0.801982</td>\n",
       "      <td>...</td>\n",
       "      <td>0.137735</td>\n",
       "      <td>-0.366214</td>\n",
       "      <td>-0.702490</td>\n",
       "      <td>0.123320</td>\n",
       "      <td>0.122542</td>\n",
       "      <td>0.693578</td>\n",
       "      <td>-0.615971</td>\n",
       "      <td>-0.848164</td>\n",
       "      <td>0.185124</td>\n",
       "      <td>-0.037080</td>\n",
       "    </tr>\n",
       "    <tr>\n",
       "      <td>5</td>\n",
       "      <td>0.038988</td>\n",
       "      <td>0.004109</td>\n",
       "      <td>-0.017340</td>\n",
       "      <td>-0.997438</td>\n",
       "      <td>-0.993485</td>\n",
       "      <td>-0.996692</td>\n",
       "      <td>-0.997522</td>\n",
       "      <td>-0.993494</td>\n",
       "      <td>-0.996916</td>\n",
       "      <td>-0.801982</td>\n",
       "      <td>...</td>\n",
       "      <td>0.074999</td>\n",
       "      <td>-0.554902</td>\n",
       "      <td>-0.844224</td>\n",
       "      <td>0.082632</td>\n",
       "      <td>-0.143439</td>\n",
       "      <td>0.275041</td>\n",
       "      <td>-0.368224</td>\n",
       "      <td>-0.849927</td>\n",
       "      <td>0.184795</td>\n",
       "      <td>-0.035326</td>\n",
       "    </tr>\n",
       "  </tbody>\n",
       "</table>\n",
       "<p>6 rows × 561 columns</p>\n",
       "</div>"
      ],
      "text/plain": [
       "        0         1         2         3         4         5         6    \\\n",
       "0  0.043580 -0.005970 -0.035054 -0.995381 -0.988366 -0.937382 -0.995007   \n",
       "1  0.039480 -0.002131 -0.029067 -0.998348 -0.982945 -0.971273 -0.998702   \n",
       "2  0.039978 -0.005153 -0.022651 -0.995482 -0.977314 -0.984760 -0.996415   \n",
       "3  0.039785 -0.011809 -0.028916 -0.996194 -0.988569 -0.993256 -0.996994   \n",
       "4  0.038758 -0.002289 -0.023863 -0.998241 -0.986774 -0.993115 -0.998216   \n",
       "5  0.038988  0.004109 -0.017340 -0.997438 -0.993485 -0.996692 -0.997522   \n",
       "\n",
       "        7         8         9    ...       551       552       553       554  \\\n",
       "0 -0.988816 -0.953325 -0.794796  ... -0.012236 -0.314848 -0.713308 -0.112754   \n",
       "1 -0.983315 -0.974000 -0.802537  ...  0.202804 -0.603199 -0.860677  0.053477   \n",
       "2 -0.975835 -0.985973 -0.798477  ...  0.440079 -0.404427 -0.761847 -0.118559   \n",
       "3 -0.988526 -0.993135 -0.798477  ...  0.430891 -0.138373 -0.491604 -0.036788   \n",
       "4 -0.986479 -0.993825 -0.801982  ...  0.137735 -0.366214 -0.702490  0.123320   \n",
       "5 -0.993494 -0.996916 -0.801982  ...  0.074999 -0.554902 -0.844224  0.082632   \n",
       "\n",
       "        555       556       557       558       559       560  \n",
       "0  0.030400 -0.464761 -0.018446 -0.841559  0.179913 -0.051718  \n",
       "1 -0.007435 -0.732626  0.703511 -0.845092  0.180261 -0.047436  \n",
       "2  0.177899  0.100699  0.808529 -0.849230  0.180610 -0.042271  \n",
       "3 -0.012892  0.640011 -0.485366 -0.848947  0.181907 -0.040826  \n",
       "4  0.122542  0.693578 -0.615971 -0.848164  0.185124 -0.037080  \n",
       "5 -0.143439  0.275041 -0.368224 -0.849927  0.184795 -0.035326  \n",
       "\n",
       "[6 rows x 561 columns]"
      ]
     },
     "execution_count": 3,
     "metadata": {},
     "output_type": "execute_result"
    }
   ],
   "source": [
    "df_train = pd.read_csv('Train/X_train.txt', sep = \" \", header = None)\n",
    "df_train.head(6)\n"
   ]
  },
  {
   "cell_type": "code",
   "execution_count": 4,
   "metadata": {},
   "outputs": [],
   "source": [
    "all_scores = []\n",
    "names = ['ClassifierTree', 'RandomForest', 'LSVM']\n"
   ]
  },
  {
   "cell_type": "code",
   "execution_count": 5,
   "metadata": {},
   "outputs": [
    {
     "data": {
      "text/plain": [
       "<function TextIOWrapper.close()>"
      ]
     },
     "execution_count": 5,
     "metadata": {},
     "output_type": "execute_result"
    }
   ],
   "source": [
    "f = open('Train/y_train.txt', 'r')\n",
    "y_train_file = f.readlines() #on met le contenu de y_train dans y_train_file\n",
    "f.close"
   ]
  },
  {
   "cell_type": "code",
   "execution_count": 6,
   "metadata": {},
   "outputs": [
    {
     "data": {
      "text/html": [
       "<div>\n",
       "<style scoped>\n",
       "    .dataframe tbody tr th:only-of-type {\n",
       "        vertical-align: middle;\n",
       "    }\n",
       "\n",
       "    .dataframe tbody tr th {\n",
       "        vertical-align: top;\n",
       "    }\n",
       "\n",
       "    .dataframe thead th {\n",
       "        text-align: right;\n",
       "    }\n",
       "</style>\n",
       "<table border=\"1\" class=\"dataframe\">\n",
       "  <thead>\n",
       "    <tr style=\"text-align: right;\">\n",
       "      <th></th>\n",
       "      <th>0</th>\n",
       "      <th>1</th>\n",
       "      <th>2</th>\n",
       "      <th>3</th>\n",
       "      <th>4</th>\n",
       "      <th>5</th>\n",
       "      <th>6</th>\n",
       "      <th>7</th>\n",
       "      <th>8</th>\n",
       "      <th>9</th>\n",
       "      <th>...</th>\n",
       "      <th>552</th>\n",
       "      <th>553</th>\n",
       "      <th>554</th>\n",
       "      <th>555</th>\n",
       "      <th>556</th>\n",
       "      <th>557</th>\n",
       "      <th>558</th>\n",
       "      <th>559</th>\n",
       "      <th>560</th>\n",
       "      <th>Class</th>\n",
       "    </tr>\n",
       "  </thead>\n",
       "  <tbody>\n",
       "    <tr>\n",
       "      <td>0</td>\n",
       "      <td>0.04358</td>\n",
       "      <td>-0.005970</td>\n",
       "      <td>-0.035054</td>\n",
       "      <td>-0.995381</td>\n",
       "      <td>-0.988366</td>\n",
       "      <td>-0.937382</td>\n",
       "      <td>-0.995007</td>\n",
       "      <td>-0.988816</td>\n",
       "      <td>-0.953325</td>\n",
       "      <td>-0.794796</td>\n",
       "      <td>...</td>\n",
       "      <td>-0.314848</td>\n",
       "      <td>-0.713308</td>\n",
       "      <td>-0.112754</td>\n",
       "      <td>0.030400</td>\n",
       "      <td>-0.464761</td>\n",
       "      <td>-0.018446</td>\n",
       "      <td>-0.841559</td>\n",
       "      <td>0.179913</td>\n",
       "      <td>-0.051718</td>\n",
       "      <td>5</td>\n",
       "    </tr>\n",
       "    <tr>\n",
       "      <td>1</td>\n",
       "      <td>0.03948</td>\n",
       "      <td>-0.002131</td>\n",
       "      <td>-0.029067</td>\n",
       "      <td>-0.998348</td>\n",
       "      <td>-0.982945</td>\n",
       "      <td>-0.971273</td>\n",
       "      <td>-0.998702</td>\n",
       "      <td>-0.983315</td>\n",
       "      <td>-0.974000</td>\n",
       "      <td>-0.802537</td>\n",
       "      <td>...</td>\n",
       "      <td>-0.603199</td>\n",
       "      <td>-0.860677</td>\n",
       "      <td>0.053477</td>\n",
       "      <td>-0.007435</td>\n",
       "      <td>-0.732626</td>\n",
       "      <td>0.703511</td>\n",
       "      <td>-0.845092</td>\n",
       "      <td>0.180261</td>\n",
       "      <td>-0.047436</td>\n",
       "      <td>5</td>\n",
       "    </tr>\n",
       "  </tbody>\n",
       "</table>\n",
       "<p>2 rows × 562 columns</p>\n",
       "</div>"
      ],
      "text/plain": [
       "         0         1         2         3         4         5         6  \\\n",
       "0  0.04358 -0.005970 -0.035054 -0.995381 -0.988366 -0.937382 -0.995007   \n",
       "1  0.03948 -0.002131 -0.029067 -0.998348 -0.982945 -0.971273 -0.998702   \n",
       "\n",
       "          7         8         9  ...       552       553       554       555  \\\n",
       "0 -0.988816 -0.953325 -0.794796  ... -0.314848 -0.713308 -0.112754  0.030400   \n",
       "1 -0.983315 -0.974000 -0.802537  ... -0.603199 -0.860677  0.053477 -0.007435   \n",
       "\n",
       "        556       557       558       559       560  Class  \n",
       "0 -0.464761 -0.018446 -0.841559  0.179913 -0.051718      5  \n",
       "1 -0.732626  0.703511 -0.845092  0.180261 -0.047436      5  \n",
       "\n",
       "[2 rows x 562 columns]"
      ]
     },
     "execution_count": 6,
     "metadata": {},
     "output_type": "execute_result"
    }
   ],
   "source": [
    "classification = list(map(lambda x:x.strip(), y_train_file))\n",
    "df_train['Class'] = classification #on ajoute une colonne à notre dataframe \n",
    "df_train.head(2) #on vérifie l'ajout "
   ]
  },
  {
   "cell_type": "code",
   "execution_count": 7,
   "metadata": {
    "scrolled": true
   },
   "outputs": [
    {
     "data": {
      "text/plain": [
       "(3162, 562)"
      ]
     },
     "execution_count": 7,
     "metadata": {},
     "output_type": "execute_result"
    }
   ],
   "source": [
    "df_test = pd.read_csv('Test/X_test.txt', sep = \" \", header = None)\n",
    "f = open('Test/y_test.txt', 'r')\n",
    "X_test_file = f.readlines() #on met le contenu de X_test dans X_test_file\n",
    "f.close\n",
    "classification = list(map(lambda x:x.strip(), X_test_file))\n",
    "df_test['Class'] = classification #on ajoute une colonne à notre dataframe \n",
    "df_test.head(2) #on vérifie l'ajout \n",
    "df_test.shape"
   ]
  },
  {
   "cell_type": "markdown",
   "metadata": {},
   "source": [
    "#### 2. Elaboration des modèles de classification sans pré-processing\n",
    "#### On effectue successivement: \n",
    "   #### - Un Decision Tree\n",
    "   #### - Un Random Forest\n",
    "   #### - Un Linear SVM"
   ]
  },
  {
   "cell_type": "code",
   "execution_count": 8,
   "metadata": {},
   "outputs": [],
   "source": [
    "x_train = df_train.drop('Class', axis = 1)\n",
    "y_train = df_train['Class']\n",
    "x_test = df_test.drop('Class', axis = 1)\n",
    "y_test = df_test['Class']\n",
    "\n"
   ]
  },
  {
   "cell_type": "code",
   "execution_count": 9,
   "metadata": {},
   "outputs": [
    {
     "data": {
      "text/plain": [
       "DecisionTreeClassifier(class_weight=None, criterion='gini', max_depth=None,\n",
       "                       max_features=None, max_leaf_nodes=None,\n",
       "                       min_impurity_decrease=0.0, min_impurity_split=None,\n",
       "                       min_samples_leaf=1, min_samples_split=2,\n",
       "                       min_weight_fraction_leaf=0.0, presort=False,\n",
       "                       random_state=None, splitter='best')"
      ]
     },
     "execution_count": 9,
     "metadata": {},
     "output_type": "execute_result"
    }
   ],
   "source": [
    "classifier = DecisionTreeClassifier()\n",
    "classifier.fit(x_train, y_train)"
   ]
  },
  {
   "cell_type": "code",
   "execution_count": 10,
   "metadata": {},
   "outputs": [],
   "source": [
    "y_hat = classifier.predict(x_test)\n",
    "score_tree = classifier.score(x_test, y_test)\n",
    "all_scores.append(score_tree)\n"
   ]
  },
  {
   "cell_type": "code",
   "execution_count": 11,
   "metadata": {},
   "outputs": [
    {
     "name": "stdout",
     "output_type": "stream",
     "text": [
      "              precision    recall  f1-score   support\n",
      "\n",
      "           1       0.80      0.77      0.78       496\n",
      "          10       0.60      0.48      0.53        25\n",
      "          11       0.61      0.76      0.67        49\n",
      "          12       0.62      0.56      0.59        27\n",
      "           2       0.67      0.76      0.71       471\n",
      "           3       0.82      0.75      0.78       420\n",
      "           4       0.82      0.79      0.80       508\n",
      "           5       0.82      0.83      0.83       556\n",
      "           6       1.00      0.99      0.99       545\n",
      "           7       0.71      0.74      0.72        23\n",
      "           8       0.80      0.80      0.80        10\n",
      "           9       0.70      0.59      0.64        32\n",
      "\n",
      "    accuracy                           0.81      3162\n",
      "   macro avg       0.75      0.73      0.74      3162\n",
      "weighted avg       0.81      0.81      0.81      3162\n",
      "\n",
      "0.8118279569892473\n"
     ]
    }
   ],
   "source": [
    "print(classification_report(y_test, y_hat))\n",
    "print(score_tree)"
   ]
  },
  {
   "cell_type": "code",
   "execution_count": 12,
   "metadata": {},
   "outputs": [
    {
     "data": {
      "image/png": "[encoded data removed]",
      "text/plain": [
       "<Figure size 432x288 with 1 Axes>"
      ]
     },
     "metadata": {
      "needs_background": "light"
     },
     "output_type": "display_data"
    }
   ],
   "source": [
    "sn.heatmap(confusion_matrix(y_test, y_hat),annot=True,cmap = plt.cm.Blues, cbar=False, fmt = 'g') \n",
    "plt.show()"
   ]
  },
  {
   "cell_type": "code",
   "execution_count": 13,
   "metadata": {},
   "outputs": [],
   "source": [
    "RFC = RandomForestClassifier()\n",
    "RFC_CLF = RFC.fit(x_train, y_train)\n",
    "RFC_hat = RFC_CLF.predict(x_test)"
   ]
  },
  {
   "cell_type": "code",
   "execution_count": 14,
   "metadata": {},
   "outputs": [
    {
     "name": "stdout",
     "output_type": "stream",
     "text": [
      "              precision    recall  f1-score   support\n",
      "\n",
      "           1       0.85      0.95      0.90       496\n",
      "          10       0.61      0.76      0.68        25\n",
      "          11       0.47      0.39      0.43        49\n",
      "          12       0.65      0.41      0.50        27\n",
      "           2       0.85      0.86      0.85       471\n",
      "           3       0.95      0.83      0.88       420\n",
      "           4       0.88      0.90      0.89       508\n",
      "           5       0.90      0.90      0.90       556\n",
      "           6       1.00      1.00      1.00       545\n",
      "           7       0.85      0.48      0.61        23\n",
      "           8       0.75      0.90      0.82        10\n",
      "           9       0.44      0.53      0.48        32\n",
      "\n",
      "    accuracy                           0.89      3162\n",
      "   macro avg       0.77      0.74      0.74      3162\n",
      "weighted avg       0.89      0.89      0.89      3162\n",
      "\n",
      "0.8870967741935484\n"
     ]
    }
   ],
   "source": [
    "print(classification_report(y_test, RFC_hat))\n",
    "RFC_score = RFC_CLF.score(x_test, y_test)\n",
    "all_scores.append(RFC_score)\n",
    "print(RFC_score)"
   ]
  },
  {
   "cell_type": "code",
   "execution_count": 15,
   "metadata": {
    "scrolled": true
   },
   "outputs": [
    {
     "data": {
      "image/png": "[encoded data removed]",
      "text/plain": [
       "<Figure size 432x288 with 1 Axes>"
      ]
     },
     "metadata": {
      "needs_background": "light"
     },
     "output_type": "display_data"
    }
   ],
   "source": [
    "sn.heatmap(confusion_matrix(y_test, RFC_hat), annot=True, cmap = plt.cm.Reds, cbar=False, fmt = 'g') \n",
    "plt.show()"
   ]
  },
  {
   "cell_type": "code",
   "execution_count": 16,
   "metadata": {},
   "outputs": [],
   "source": [
    "lsvm = sklearn.svm.SVC(kernel = 'linear')\n",
    "lsvm_CLF = lsvm.fit(x_train, y_train)"
   ]
  },
  {
   "cell_type": "code",
   "execution_count": 17,
   "metadata": {},
   "outputs": [],
   "source": [
    "lsvm_predict = lsvm_CLF.predict(x_test)\n",
    "score_lsvm = lsvm_CLF.score(x_test, y_test)\n",
    "all_scores.append(score_lsvm)\n"
   ]
  },
  {
   "cell_type": "code",
   "execution_count": 18,
   "metadata": {},
   "outputs": [
    {
     "name": "stdout",
     "output_type": "stream",
     "text": [
      "              precision    recall  f1-score   support\n",
      "\n",
      "           1       0.96      0.99      0.98       496\n",
      "          10       0.72      0.72      0.72        25\n",
      "          11       0.69      0.67      0.68        49\n",
      "          12       0.72      0.67      0.69        27\n",
      "           2       0.98      0.97      0.97       471\n",
      "           3       0.99      0.98      0.98       420\n",
      "           4       0.96      0.89      0.92       508\n",
      "           5       0.91      0.97      0.94       556\n",
      "           6       1.00      1.00      1.00       545\n",
      "           7       1.00      0.78      0.88        23\n",
      "           8       0.91      1.00      0.95        10\n",
      "           9       0.58      0.66      0.62        32\n",
      "\n",
      "    accuracy                           0.95      3162\n",
      "   macro avg       0.87      0.86      0.86      3162\n",
      "weighted avg       0.95      0.95      0.95      3162\n",
      "\n",
      "0.9522454142947502\n"
     ]
    }
   ],
   "source": [
    "print(classification_report(y_test, lsvm_predict))\n",
    "print(score_lsvm)"
   ]
  },
  {
   "cell_type": "code",
   "execution_count": 19,
   "metadata": {},
   "outputs": [
    {
     "data": {
      "image/png": "[encoded data removed]",
      "text/plain": [
       "<Figure size 432x288 with 1 Axes>"
      ]
     },
     "metadata": {
      "needs_background": "light"
     },
     "output_type": "display_data"
    }
   ],
   "source": [
    "sn.heatmap(confusion_matrix(y_test, lsvm_predict), annot=True, cmap = plt.cm.Greens, cbar=False, fmt = 'g') \n",
    "plt.show()"
   ]
  },
  {
   "cell_type": "code",
   "execution_count": 44,
   "metadata": {},
   "outputs": [
    {
     "data": {
      "image/png": "[encoded data removed]",
      "text/plain": [
       "<Figure size 1080x288 with 2 Axes>"
      ]
     },
     "metadata": {
      "needs_background": "light"
     },
     "output_type": "display_data"
    }
   ],
   "source": [
    "data_color = [1000.,500.,1000.,900.]\n",
    "data_color = [x / max(data_color) for x in data_color]\n",
    "fig, ax = plt.subplots(figsize = (15, 4))\n",
    "\n",
    "my_cmap = plt.cm.get_cmap('GnBu')\n",
    "colors = my_cmap(data_color)\n",
    "rects = ax.bar(names, all_scores, color = colors, width = 0.5)\n",
    "\n",
    "sm = ScalarMappable(cmap = my_cmap, norm = plt.Normalize(0,max(data_color)))\n",
    "sm.set_array([])\n",
    "\n",
    "cbar = plt.colorbar(sm)\n",
    "cbar.set_label('Scores', rotation=270,labelpad=25)\n",
    "\n",
    "plt.xticks(names)    \n",
    "plt.ylabel(\"scores\")\n",
    "\n",
    "plt.show()"
   ]
  },
  {
   "cell_type": "markdown",
   "metadata": {},
   "source": [
    "# Pré-processing des données"
   ]
  },
  {
   "cell_type": "markdown",
   "metadata": {},
   "source": [
    "#### L'objectif est de retirer certaines colonnes pour améliorer la précision des modèles. Nous allons faire varier la variance dans une range défini et supprimer les colonnes dont la variance est inférieure à la clef du range. Nous allons ensuite executer les algorithmes avec les différents dataframe obtenus et comparer les précisions"
   ]
  },
  {
   "cell_type": "markdown",
   "metadata": {},
   "source": [
    "#### 1. Classifier Tree"
   ]
  },
  {
   "cell_type": "code",
   "execution_count": 21,
   "metadata": {
    "scrolled": true
   },
   "outputs": [],
   "source": [
    "rates1 = [0.015, 0.025, 0.05, 0.1, 0.5]\n",
    "scores1 = []\n",
    "\n",
    "for r in rates1:\n",
    "    df_temp1 = df_test.copy()\n",
    "    df_temp2 = df_train.copy()\n",
    "    var = df_temp2.var() < r\n",
    "    \n",
    "    datas_to_clear = []\n",
    "    for i in range(len(var)):\n",
    "        if var[i] == True:\n",
    "            datas_to_clear.append(i)\n",
    "    for elt in datas_to_clear:\n",
    "        del var[elt]\n",
    "                \n",
    "    df_test_temp_cpy = df_temp1.copy()\n",
    "    df_train_temp_cpy = df_temp2.copy()\n",
    "    \n",
    "    df_test_temp_cpy = df_temp1.drop(columns = datas_to_clear, axis=1)\n",
    "    df_train_temp_cpy = df_temp2.drop(columns = datas_to_clear, axis=1)\n",
    "    \n",
    "    \n",
    "    x_train_temp = df_train_temp_cpy.drop('Class', axis = 1)\n",
    "    y_train_temp = df_train_temp_cpy['Class']\n",
    "    x_test_temp = df_test_temp_cpy.drop('Class', axis = 1)\n",
    "    y_test_temp = df_test_temp_cpy['Class']\n",
    "    \n",
    "    classifier_temp = DecisionTreeClassifier()\n",
    "    classifier_temp.fit(x_train_temp, y_train_temp)\n",
    "\n",
    "    y_hat_temp = classifier_temp.predict(x_test_temp)\n",
    "    score_tree_temp = classifier_temp.score(x_test_temp, y_test_temp)\n",
    "    scores1.append(score_tree_temp)\n"
   ]
  },
  {
   "cell_type": "code",
   "execution_count": 22,
   "metadata": {},
   "outputs": [],
   "source": [
    "rates2 = [0.015, 0.025, 0.05, 0.1, 0.5]\n",
    "scores2 = []\n",
    "\n",
    "for r in rates2:\n",
    "    df_temp1 = df_test.copy()\n",
    "    df_temp2 = df_train.copy()\n",
    "    var = df_temp2.std() < r\n",
    "    \n",
    "    datas_to_clear = []\n",
    "    for i in range(len(var)):\n",
    "        if var[i] == True:\n",
    "            datas_to_clear.append(i)\n",
    "    for elt in datas_to_clear:\n",
    "        del var[elt]\n",
    "                \n",
    "    df_test_temp_cpy = df_temp1.copy()\n",
    "    df_train_temp_cpy = df_temp2.copy()\n",
    "    \n",
    "    df_test_temp_cpy = df_temp1.drop(columns = datas_to_clear, axis=1)\n",
    "    df_train_temp_cpy = df_temp2.drop(columns = datas_to_clear, axis=1)\n",
    "    \n",
    "    \n",
    "    x_train_temp = df_train_temp_cpy.drop('Class', axis = 1)\n",
    "    y_train_temp = df_train_temp_cpy['Class']\n",
    "    x_test_temp = df_test_temp_cpy.drop('Class', axis = 1)\n",
    "    y_test_temp = df_test_temp_cpy['Class']\n",
    "    \n",
    "    classifier_temp = DecisionTreeClassifier()\n",
    "    classifier_temp.fit(x_train_temp, y_train_temp)\n",
    "\n",
    "    y_hat_temp = classifier_temp.predict(x_test_temp)\n",
    "    score_tree_temp = classifier_temp.score(x_test_temp, y_test_temp)\n",
    "    scores2.append(score_tree_temp)\n"
   ]
  },
  {
   "cell_type": "code",
   "execution_count": 23,
   "metadata": {},
   "outputs": [
    {
     "data": {
      "image/png": "[encoded data removed]",
      "text/plain": [
       "<Figure size 432x288 with 1 Axes>"
      ]
     },
     "metadata": {
      "needs_background": "light"
     },
     "output_type": "display_data"
    }
   ],
   "source": [
    "#Plot variance\n",
    "plt.plot(rates1, scores1)\n",
    "plt.xlabel('Variance')\n",
    "plt.ylabel('Score')\n",
    "plt.title('Classifier Tree Scores')\n",
    "plt.show()"
   ]
  },
  {
   "cell_type": "code",
   "execution_count": 24,
   "metadata": {},
   "outputs": [
    {
     "data": {
      "image/png": "[encoded data removed]",
      "text/plain": [
       "<Figure size 432x288 with 1 Axes>"
      ]
     },
     "metadata": {
      "needs_background": "light"
     },
     "output_type": "display_data"
    }
   ],
   "source": [
    "#Plot STD\n",
    "plt.plot(rates2, scores2)\n",
    "plt.xlabel('STD')\n",
    "plt.ylabel('Score')\n",
    "plt.title('Classifier Tree Scores')\n",
    "plt.show()"
   ]
  },
  {
   "cell_type": "markdown",
   "metadata": {},
   "source": [
    "#### 2. Random Forest"
   ]
  },
  {
   "cell_type": "code",
   "execution_count": 25,
   "metadata": {},
   "outputs": [
    {
     "data": {
      "image/png": "[encoded data removed]",
      "text/plain": [
       "<Figure size 432x288 with 1 Axes>"
      ]
     },
     "metadata": {
      "needs_background": "light"
     },
     "output_type": "display_data"
    }
   ],
   "source": [
    "rates = [0.015, 0.025, 0.05, 0.1, 0.5]\n",
    "scores = []\n",
    "\n",
    "for r in rates:\n",
    "    df_temp1 = df_test.copy()\n",
    "    df_temp2 = df_train.copy()\n",
    "    var = df_temp2.var() < r\n",
    "    \n",
    "    datas_to_clear = []\n",
    "    for i in range(len(var)):\n",
    "        if var[i] == True:\n",
    "            datas_to_clear.append(i)\n",
    "    for elt in datas_to_clear:\n",
    "        del var[elt]\n",
    "                \n",
    "    df_test_temp_cpy = df_temp1.copy()\n",
    "    df_train_temp_cpy = df_temp2.copy()\n",
    "    \n",
    "    df_test_temp_cpy = df_temp1.drop(columns = datas_to_clear, axis=1)\n",
    "    df_train_temp_cpy = df_temp2.drop(columns = datas_to_clear, axis=1)\n",
    "    \n",
    "    \n",
    "    x_train_temp = df_train_temp_cpy.drop('Class', axis = 1)\n",
    "    y_train_temp = df_train_temp_cpy['Class']\n",
    "    x_test_temp = df_test_temp_cpy.drop('Class', axis = 1)\n",
    "    y_test_temp = df_test_temp_cpy['Class']\n",
    "    \n",
    "    RFC_temp = RandomForestClassifier()\n",
    "    RFC_CLF_temp = RFC_temp.fit(x_train_temp, y_train_temp)\n",
    "    RFC_hat_temp = RFC_CLF_temp.predict(x_test_temp)\n",
    "\n",
    "    RFC_score_temp = RFC_CLF_temp.score(x_test_temp, y_test_temp)\n",
    "    scores.append(RFC_score_temp)\n",
    "    \n",
    "plt.plot(rates, scores)\n",
    "plt.xlabel('Variance')\n",
    "plt.ylabel('Score')\n",
    "plt.title('Random Forest Scores')\n",
    "plt.show()"
   ]
  },
  {
   "cell_type": "markdown",
   "metadata": {},
   "source": [
    "#### 3. LSVM"
   ]
  },
  {
   "cell_type": "code",
   "execution_count": 26,
   "metadata": {},
   "outputs": [
    {
     "data": {
      "image/png": "[encoded data removed]",
      "text/plain": [
       "<Figure size 432x288 with 1 Axes>"
      ]
     },
     "metadata": {
      "needs_background": "light"
     },
     "output_type": "display_data"
    }
   ],
   "source": [
    "rates = [0.015, 0.025, 0.05, 0.1, 0.5]\n",
    "scores = []\n",
    "\n",
    "for r in rates:\n",
    "    df_temp1 = df_test.copy()\n",
    "    df_temp2 = df_train.copy()\n",
    "    var = df_temp2.var() < r\n",
    "    \n",
    "    datas_to_clear = []\n",
    "    for i in range(len(var)):\n",
    "        if var[i] == True:\n",
    "            datas_to_clear.append(i)\n",
    "    for elt in datas_to_clear:\n",
    "        del var[elt]\n",
    "                \n",
    "    df_test_temp_cpy = df_temp1.copy()\n",
    "    df_train_temp_cpy = df_temp2.copy()\n",
    "    \n",
    "    df_test_temp_cpy = df_temp1.drop(columns = datas_to_clear, axis=1)\n",
    "    df_train_temp_cpy = df_temp2.drop(columns = datas_to_clear, axis=1)\n",
    "    \n",
    "    \n",
    "    x_train_temp = df_train_temp_cpy.drop('Class', axis = 1)\n",
    "    y_train_temp = df_train_temp_cpy['Class']\n",
    "    x_test_temp = df_test_temp_cpy.drop('Class', axis = 1)\n",
    "    y_test_temp = df_test_temp_cpy['Class']\n",
    "    \n",
    "    lsvm_temp = sklearn.svm.SVC(kernel = 'linear')\n",
    "    lsvm_CLF_temp = lsvm_temp.fit(x_train_temp, y_train_temp)\n",
    "\n",
    "    lsvm_predict_temp = lsvm_CLF_temp.predict(x_test_temp)\n",
    "    score_lsvm_temp = lsvm_CLF_temp.score(x_test_temp, y_test_temp)\n",
    "    scores.append(score_lsvm_temp)\n",
    "    \n",
    "plt.plot(rates, scores)\n",
    "plt.xlabel('Variance')\n",
    "plt.ylabel('Score')\n",
    "plt.title('LSVM Scores')\n",
    "plt.show()"
   ]
  },
  {
   "cell_type": "markdown",
   "metadata": {},
   "source": [
    "#### On observe pour chaque modèle une baisse significative de la précision à partir d'une variance à 0.1"
   ]
  },
  {
   "cell_type": "markdown",
   "metadata": {},
   "source": [
    "# Variation des hyper paramètres"
   ]
  },
  {
   "cell_type": "code",
   "execution_count": 27,
   "metadata": {},
   "outputs": [],
   "source": [
    "hyperparametres_possibles = {\n",
    "    'C'     : [0.5, 1, 1.5],\n",
    "    'gamma' :[0.5, 0.1, 0.15]\n",
    "}\n",
    "grid = GridSearchCV(estimator=svm.SVR(), \n",
    "                                param_grid=hyperparametres_possibles, \n",
    "                                n_jobs=-1, cv=10, verbose=2)\n"
   ]
  },
  {
   "cell_type": "code",
   "execution_count": 28,
   "metadata": {},
   "outputs": [
    {
     "name": "stdout",
     "output_type": "stream",
     "text": [
      "Fitting 10 folds for each of 9 candidates, totalling 90 fits\n"
     ]
    },
    {
     "name": "stderr",
     "output_type": "stream",
     "text": [
      "[Parallel(n_jobs=-1)]: Using backend LokyBackend with 4 concurrent workers.\n",
      "[Parallel(n_jobs=-1)]: Done  33 tasks      | elapsed:  9.6min\n",
      "[Parallel(n_jobs=-1)]: Done  90 out of  90 | elapsed: 24.2min finished\n"
     ]
    },
    {
     "data": {
      "text/plain": [
       "GridSearchCV(cv=10, error_score='raise-deprecating',\n",
       "             estimator=SVR(C=1.0, cache_size=200, coef0=0.0, degree=3,\n",
       "                           epsilon=0.1, gamma='auto_deprecated', kernel='rbf',\n",
       "                           max_iter=-1, shrinking=True, tol=0.001,\n",
       "                           verbose=False),\n",
       "             iid='warn', n_jobs=-1,\n",
       "             param_grid={'C': [0.5, 1, 1.5], 'gamma': [0.5, 0.1, 0.15]},\n",
       "             pre_dispatch='2*n_jobs', refit=True, return_train_score=False,\n",
       "             scoring=None, verbose=2)"
      ]
     },
     "execution_count": 28,
     "metadata": {},
     "output_type": "execute_result"
    }
   ],
   "source": [
    "grid.fit(x_train, y_train)"
   ]
  },
  {
   "cell_type": "code",
   "execution_count": 30,
   "metadata": {},
   "outputs": [
    {
     "data": {
      "text/plain": [
       "SVR(C=1.5, cache_size=200, coef0=0.0, degree=3, epsilon=0.1, gamma=0.1,\n",
       "    kernel='rbf', max_iter=-1, shrinking=True, tol=0.001, verbose=False)"
      ]
     },
     "execution_count": 30,
     "metadata": {},
     "output_type": "execute_result"
    }
   ],
   "source": [
    "model = svm.SVR(C=1.5, cache_size=200, coef0=0.0, degree=3, epsilon=0.1, gamma=0.1,\n",
    "  kernel='rbf', max_iter=-1, shrinking=True, tol=0.001, verbose=False)\n",
    "\n",
    "model.fit(x_train, y_train)"
   ]
  },
  {
   "cell_type": "code",
   "execution_count": 41,
   "metadata": {},
   "outputs": [
    {
     "name": "stdout",
     "output_type": "stream",
     "text": [
      "0.8020812891135685\n"
     ]
    }
   ],
   "source": [
    "s1 = model.score(x_test, y_test)\n",
    "print(s1)"
   ]
  },
  {
   "cell_type": "code",
   "execution_count": 42,
   "metadata": {},
   "outputs": [
    {
     "name": "stdout",
     "output_type": "stream",
     "text": [
      "0.9794860107484138\n"
     ]
    }
   ],
   "source": [
    "hyperparametres_possibles = {\n",
    "    'C'     : [3.5, 4, 5, 6],\n",
    "    'gamma' :[0.01, 0.05, 1]\n",
    "}\n",
    "grid = GridSearchCV(estimator=svm.SVR(), \n",
    "                                param_grid=hyperparametres_possibles, \n",
    "                                n_jobs=-1)\n",
    "grid.fit(x_train, y_train)\n",
    "s2 = grid.score(x_train, y_train)\n",
    "print(s2)"
   ]
  },
  {
   "cell_type": "code",
   "execution_count": 43,
   "metadata": {},
   "outputs": [
    {
     "name": "stdout",
     "output_type": "stream",
     "text": [
      "0.9854929559704151\n"
     ]
    }
   ],
   "source": [
    "hyperparametres_possibles2 = {\n",
    "    'C'     : [ 10, 15, 20],\n",
    "    'gamma' :[0.01, 0.05, 1]\n",
    "}\n",
    "grid = GridSearchCV(estimator=svm.SVR(), \n",
    "                                param_grid=hyperparametres_possibles2, \n",
    "                                n_jobs=-1)\n",
    "grid.fit(x_train, y_train)\n",
    "s3 = grid.score(x_train, y_train)\n",
    "print(s3)\n"
   ]
  },
  {
   "cell_type": "code",
   "execution_count": 46,
   "metadata": {},
   "outputs": [
    {
     "data": {
      "image/png": "[encoded data removed]",
      "text/plain": [
       "<Figure size 432x288 with 1 Axes>"
      ]
     },
     "metadata": {
      "needs_background": "light"
     },
     "output_type": "display_data"
    }
   ],
   "source": [
    "#Plot des scores selon les hyperparamètres\n",
    "\n",
    "x = [\"HP1\", \"HP2\", \"HP3\"]\n",
    "y = [s1, s2, s3]\n",
    "fig = plt.figure()\n",
    "ax = fig.add_axes([0,0,1,1])\n",
    "ax.set_ylabel('Scores')\n",
    "ax.bar(x,y)\n",
    "plt.show()\n",
    "\n"
   ]
  },
  {
   "cell_type": "markdown",
   "metadata": {},
   "source": [
    "#### On note une nette amélioration du score de prédiction du modèle"
   ]
  },
  {
   "cell_type": "code",
   "execution_count": null,
   "metadata": {},
   "outputs": [],
   "source": []
  }
 ],
 "metadata": {
  "kernelspec": {
   "display_name": "Python 3",
   "language": "python",
   "name": "python3"
  },
  "language_info": {
   "codemirror_mode": {
    "name": "ipython",
    "version": 3
   },
   "file_extension": ".py",
   "mimetype": "text/x-python",
   "name": "python",
   "nbconvert_exporter": "python",
   "pygments_lexer": "ipython3",
   "version": "3.7.4"
  }
 },
 "nbformat": 4,
 "nbformat_minor": 2
}
